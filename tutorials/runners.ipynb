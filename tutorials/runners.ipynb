{
 "cells": [
  {
   "attachments": {},
   "cell_type": "markdown",
   "metadata": {},
   "source": [
    "# Best Practices for Using Runners"
   ]
  },
  {
   "attachments": {},
   "cell_type": "markdown",
   "metadata": {},
   "source": [
    "## Prepare Models and Datasets as Usual"
   ]
  },
  {
   "cell_type": "code",
   "execution_count": 1,
   "metadata": {},
   "outputs": [
    {
     "name": "stderr",
     "output_type": "stream",
     "text": [
      "[2023-01-12 23:58:22,609 94935:4344825216][patches.py:82 todd <module>] INFO: `ipdb` is installed. Using it for debugging.\n"
     ]
    }
   ],
   "source": [
    "import todd\n",
    "import torch\n",
    "import torch.utils.data"
   ]
  },
  {
   "attachments": {},
   "cell_type": "markdown",
   "metadata": {},
   "source": [
    "Models should be built by users.\n",
    "The same model can be used by multiple runners, such as a trainer and a validator, simultaneously."
   ]
  },
  {
   "cell_type": "code",
   "execution_count": 2,
   "metadata": {},
   "outputs": [],
   "source": [
    "import sys\n",
    "class Model(todd.Module):\n",
    "\n",
    "    def __init__(self) -> None:\n",
    "        super().__init__()\n",
    "        self._weight = torch.nn.Parameter(torch.tensor(2.0))\n",
    "\n",
    "    @property\n",
    "    def weight(self) -> float:\n",
    "        return self._weight.item()\n",
    "\n",
    "    def forward(self, x: torch.Tensor) -> torch.Tensor:\n",
    "        return x * self._weight\n",
    "\n",
    "\n",
    "model = Model()"
   ]
  },
  {
   "attachments": {},
   "cell_type": "markdown",
   "metadata": {},
   "source": [
    "In contrast to models, datasets are built inside runners."
   ]
  },
  {
   "cell_type": "code",
   "execution_count": 3,
   "metadata": {},
   "outputs": [],
   "source": [
    "class Dataset(torch.utils.data.Dataset[int]):\n",
    "\n",
    "    def __init__(self, n: int) -> None:\n",
    "        self._data = list(range(1, n + 1))\n",
    "\n",
    "    def __len__(self) -> int:\n",
    "        return len(self._data)\n",
    "\n",
    "    def __getitem__(self, index: int) -> int:\n",
    "        return self._data[index]"
   ]
  },
  {
   "attachments": {},
   "cell_type": "markdown",
   "metadata": {},
   "source": [
    "## Define a Mixin for All Runners"
   ]
  },
  {
   "cell_type": "code",
   "execution_count": 4,
   "metadata": {},
   "outputs": [],
   "source": [
    "class RunnerMixin(todd.utils.BaseRunner):\n",
    "\n",
    "    def _build_dataloader(\n",
    "        self,\n",
    "        config: todd.Config,\n",
    "    ) -> torch.utils.data.DataLoader:\n",
    "        dataset = Dataset(**config.pop('dataset'))\n",
    "        return torch.utils.data.DataLoader(dataset, **config)\n",
    "\n",
    "    def _run_iter(self, batch, memo: todd.utils.Memo) -> torch.Tensor:\n",
    "        y: torch.Tensor = self._model(batch)\n",
    "        loss = y.sum().abs()\n",
    "        return loss"
   ]
  },
  {
   "attachments": {},
   "cell_type": "markdown",
   "metadata": {},
   "source": [
    "`DRY_RUN` is turned on by default when CUDA devices are not available.\n",
    "To override this setting, manually set `DRY_RUN` to `False`."
   ]
  },
  {
   "cell_type": "code",
   "execution_count": 5,
   "metadata": {},
   "outputs": [],
   "source": [
    "todd.utils.BaseRunner.Store.DRY_RUN = False"
   ]
  },
  {
   "attachments": {},
   "cell_type": "markdown",
   "metadata": {},
   "source": [
    "## Validate"
   ]
  },
  {
   "cell_type": "code",
   "execution_count": 6,
   "metadata": {},
   "outputs": [],
   "source": [
    "import os\n",
    "import tempfile\n",
    "from typing import cast"
   ]
  },
  {
   "attachments": {},
   "cell_type": "markdown",
   "metadata": {},
   "source": [
    "Define and register the validator."
   ]
  },
  {
   "cell_type": "code",
   "execution_count": 7,
   "metadata": {},
   "outputs": [],
   "source": [
    "@todd.utils.RunnerRegistry.register()\n",
    "class CustomValidator(RunnerMixin, todd.utils.Validator):\n",
    "    pass"
   ]
  },
  {
   "attachments": {},
   "cell_type": "markdown",
   "metadata": {},
   "source": [
    "Define the validator config. \n",
    "`config` will be reused by trainers."
   ]
  },
  {
   "cell_type": "code",
   "execution_count": 8,
   "metadata": {},
   "outputs": [],
   "source": [
    "config = todd.Config(\n",
    "    model=model,\n",
    "    log=dict(interval=5),\n",
    "    load_state_dict=dict(model=dict(strict=False)),\n",
    "    state_dict=dict(model=dict()),\n",
    ")\n",
    "validator = todd.Config(\n",
    "    type='CustomValidator',\n",
    "    dataloader=dict(batch_size=1, dataset=dict(n=20)),\n",
    ")"
   ]
  },
  {
   "attachments": {},
   "cell_type": "markdown",
   "metadata": {},
   "source": [
    "Build and run the validator.\n",
    "Logs will be saved to the working directory."
   ]
  },
  {
   "cell_type": "code",
   "execution_count": 9,
   "metadata": {},
   "outputs": [
    {
     "name": "stderr",
     "output_type": "stream",
     "text": [
      "\u001b[2m[2023-01-12 23:58:25,805 94935:4344825216][runners.py:93 todd.CustomValidator __init__] DEBUG: Runner initialized by lutingwang@wangluting.local\u001b[m\n",
      "[2023-01-12 23:58:25,810 94935:4344825216][runners.py:190 todd.CustomValidator _run] INFO: Iter [5/20] Loss 10.000\n",
      "[2023-01-12 23:58:25,813 94935:4344825216][runners.py:190 todd.CustomValidator _run] INFO: Iter [10/20] Loss 20.000\n",
      "[2023-01-12 23:58:25,815 94935:4344825216][runners.py:190 todd.CustomValidator _run] INFO: Iter [15/20] Loss 30.000\n",
      "[2023-01-12 23:58:25,818 94935:4344825216][runners.py:190 todd.CustomValidator _run] INFO: Iter [20/20] Loss 40.000\n"
     ]
    },
    {
     "name": "stdout",
     "output_type": "stream",
     "text": [
      "['20230112T235825799577.log']\n"
     ]
    }
   ],
   "source": [
    "with tempfile.TemporaryDirectory() as work_dir:\n",
    "    validator.name = work_dir\n",
    "    runner = todd.utils.RunnerRegistry.build(validator, config)\n",
    "    cast(CustomValidator, runner).run()\n",
    "    print(os.listdir(work_dir))"
   ]
  },
  {
   "attachments": {},
   "cell_type": "markdown",
   "metadata": {},
   "source": [
    "## Train"
   ]
  },
  {
   "cell_type": "code",
   "execution_count": 10,
   "metadata": {},
   "outputs": [],
   "source": [
    "trainer = todd.Config(\n",
    "    dataloader=dict(batch_size=2, dataset=dict(n=67)),\n",
    "    optimizer=dict(type='SGD', lr=0.01),\n",
    "    load_state_dict=dict(optimizer=dict()),\n",
    "    state_dict=dict(optimizer=dict()),\n",
    ")"
   ]
  },
  {
   "cell_type": "markdown",
   "metadata": {},
   "source": [
    "### By Iter"
   ]
  },
  {
   "cell_type": "code",
   "execution_count": 11,
   "metadata": {},
   "outputs": [],
   "source": [
    "@todd.utils.RunnerRegistry.register()\n",
    "class CustomIterBasedTrainer(RunnerMixin, todd.utils.IterBasedTrainer):\n",
    "\n",
    "    def _before_run_iter_log(\n",
    "        self,\n",
    "        batch,\n",
    "        memo: todd.utils.Memo,\n",
    "    ) -> str | None:\n",
    "        info = super()._before_run_iter_log(batch, memo)\n",
    "        info = \"\" if info is None else f\" {info} \"\n",
    "        model: Model = self.model\n",
    "        info += f\"Weight {model.weight:.3f} Batch {batch}\"\n",
    "        return info"
   ]
  },
  {
   "attachments": {},
   "cell_type": "markdown",
   "metadata": {},
   "source": [
    "By default, `_before_run_iter_log` returns `None`, meaning that no message will be printed."
   ]
  },
  {
   "cell_type": "code",
   "execution_count": 12,
   "metadata": {},
   "outputs": [
    {
     "name": "stderr",
     "output_type": "stream",
     "text": [
      "\u001b[2m[2023-01-12 23:58:26,142 94935:4344825216][runners.py:93 todd.CustomIterBasedTrainer __init__] DEBUG: Runner initialized by lutingwang@wangluting.local\u001b[m\n",
      "[2023-01-12 23:58:26,146 94935:4344825216][runners.py:179 todd.CustomIterBasedTrainer _run] INFO: Weight 1.640 Batch tensor([ 9, 10])\n",
      "[2023-01-12 23:58:26,147 94935:4344825216][runners.py:190 todd.CustomIterBasedTrainer _run] INFO: Iter [5/53] Loss 31.160\n",
      "[2023-01-12 23:58:26,150 94935:4344825216][runners.py:179 todd.CustomIterBasedTrainer _run] INFO: Weight 0.290 Batch tensor([19, 20])\n",
      "[2023-01-12 23:58:26,151 94935:4344825216][runners.py:190 todd.CustomIterBasedTrainer _run] INFO: Iter [10/53] Loss 11.310\n",
      "[2023-01-12 23:58:26,154 94935:4344825216][runners.py:179 todd.CustomIterBasedTrainer _run] INFO: Weight -0.180 Batch tensor([29, 30])\n",
      "[2023-01-12 23:58:26,156 94935:4344825216][runners.py:190 todd.CustomIterBasedTrainer _run] INFO: Iter [15/53] Loss 10.620\n",
      "[2023-01-12 23:58:26,160 94935:4344825216][runners.py:179 todd.CustomIterBasedTrainer _run] INFO: Weight 0.490 Batch tensor([39, 40])\n",
      "[2023-01-12 23:58:26,161 94935:4344825216][runners.py:190 todd.CustomIterBasedTrainer _run] INFO: Iter [20/53] Loss 38.710\n",
      "[2023-01-12 23:58:26,162 94935:4344825216][runners.py:288 todd.CustomIterBasedTrainer validate] INFO: Skipping validation since validator is undefined\n",
      "[2023-01-12 23:58:26,163 94935:4344825216][runners.py:214 todd.CustomIterBasedTrainer write_state_dict] INFO: Writing state dict to /var/folders/xg/wgfj92492d77cdnj5qrrhf380000gp/T/tmp0w7pgams/iter_20.pth\n",
      "[2023-01-12 23:58:26,176 94935:4344825216][runners.py:179 todd.CustomIterBasedTrainer _run] INFO: Weight -0.380 Batch tensor([49, 50])\n",
      "[2023-01-12 23:58:26,177 94935:4344825216][runners.py:190 todd.CustomIterBasedTrainer _run] INFO: Iter [25/53] Loss 37.620\n",
      "[2023-01-12 23:58:26,180 94935:4344825216][runners.py:179 todd.CustomIterBasedTrainer _run] INFO: Weight 0.690 Batch tensor([59, 60])\n",
      "[2023-01-12 23:58:26,181 94935:4344825216][runners.py:190 todd.CustomIterBasedTrainer _run] INFO: Iter [30/53] Loss 82.110\n",
      "[2023-01-12 23:58:26,185 94935:4344825216][runners.py:179 todd.CustomIterBasedTrainer _run] INFO: Weight 0.100 Batch tensor([1, 2])\n",
      "[2023-01-12 23:58:26,186 94935:4344825216][runners.py:190 todd.CustomIterBasedTrainer _run] INFO: Iter [35/53] Loss 0.300\n",
      "[2023-01-12 23:58:26,190 94935:4344825216][runners.py:179 todd.CustomIterBasedTrainer _run] INFO: Weight 0.150 Batch tensor([11, 12])\n",
      "[2023-01-12 23:58:26,193 94935:4344825216][runners.py:190 todd.CustomIterBasedTrainer _run] INFO: Iter [40/53] Loss 3.450\n",
      "[2023-01-12 23:58:26,193 94935:4344825216][runners.py:288 todd.CustomIterBasedTrainer validate] INFO: Skipping validation since validator is undefined\n",
      "[2023-01-12 23:58:26,194 94935:4344825216][runners.py:214 todd.CustomIterBasedTrainer write_state_dict] INFO: Writing state dict to /var/folders/xg/wgfj92492d77cdnj5qrrhf380000gp/T/tmp0w7pgams/iter_40.pth\n",
      "[2023-01-12 23:58:26,203 94935:4344825216][runners.py:179 todd.CustomIterBasedTrainer _run] INFO: Weight -0.160 Batch tensor([21, 22])\n",
      "[2023-01-12 23:58:26,205 94935:4344825216][runners.py:190 todd.CustomIterBasedTrainer _run] INFO: Iter [45/53] Loss 6.880\n",
      "[2023-01-12 23:58:26,207 94935:4344825216][runners.py:179 todd.CustomIterBasedTrainer _run] INFO: Weight 0.350 Batch tensor([31, 32])\n",
      "[2023-01-12 23:58:26,208 94935:4344825216][runners.py:190 todd.CustomIterBasedTrainer _run] INFO: Iter [50/53] Loss 22.050\n",
      "[2023-01-12 23:58:26,211 94935:4344825216][runners.py:214 todd.CustomIterBasedTrainer write_state_dict] INFO: Writing state dict to /var/folders/xg/wgfj92492d77cdnj5qrrhf380000gp/T/tmp0w7pgams/latest.pth\n",
      "[2023-01-12 23:58:26,216 94935:4344825216][runners.py:288 todd.CustomIterBasedTrainer validate] INFO: Skipping validation since validator is undefined\n"
     ]
    },
    {
     "name": "stdout",
     "output_type": "stream",
     "text": [
      "['iter_20.pth', '20230112T235826125243.log', 'iter_40.pth', 'latest.pth']\n"
     ]
    }
   ],
   "source": [
    "with tempfile.TemporaryDirectory() as work_dir:\n",
    "    iter_based_trainer = trainer.copy()\n",
    "    iter_based_trainer.update(\n",
    "        type='CustomIterBasedTrainer',\n",
    "        name=work_dir,\n",
    "        iters=53,\n",
    "        state_dict=dict(interval=20),\n",
    "    )\n",
    "    runner = todd.utils.RunnerRegistry.build(iter_based_trainer, config)\n",
    "    cast(CustomIterBasedTrainer, runner).run()\n",
    "    print(os.listdir(work_dir))"
   ]
  },
  {
   "attachments": {},
   "cell_type": "markdown",
   "metadata": {},
   "source": [
    "Trainers increment `todd.Store.ITER` to keep track of the training progress.\n",
    "If multiple trainers are to be run, `todd.Store.ITER` must be manually reset to zero."
   ]
  },
  {
   "attachments": {},
   "cell_type": "markdown",
   "metadata": {},
   "source": [
    "### By Epoch"
   ]
  },
  {
   "cell_type": "code",
   "execution_count": 13,
   "metadata": {},
   "outputs": [],
   "source": [
    "@todd.utils.RunnerRegistry.register()\n",
    "class CustomEpochBasedTrainer(RunnerMixin, todd.utils.EpochBasedTrainer):\n",
    "    pass"
   ]
  },
  {
   "cell_type": "code",
   "execution_count": 14,
   "metadata": {},
   "outputs": [
    {
     "name": "stderr",
     "output_type": "stream",
     "text": [
      "\u001b[2m[2023-01-12 23:58:26,347 94935:4344825216][runners.py:93 todd.CustomEpochBasedTrainer __init__] DEBUG: Runner initialized by lutingwang@wangluting.local\u001b[m\n",
      "[2023-01-12 23:58:26,348 94935:4344825216][runners.py:421 todd.CustomEpochBasedTrainer _run] INFO: Epoch [1/3] beginning\n",
      "[2023-01-12 23:58:26,351 94935:4344825216][runners.py:190 todd.CustomEpochBasedTrainer _run] INFO: Iter [5/34] Loss 1.330\n",
      "[2023-01-12 23:58:26,353 94935:4344825216][runners.py:190 todd.CustomEpochBasedTrainer _run] INFO: Iter [10/34] Loss 7.800\n",
      "[2023-01-12 23:58:26,357 94935:4344825216][runners.py:190 todd.CustomEpochBasedTrainer _run] INFO: Iter [15/34] Loss 15.930\n",
      "[2023-01-12 23:58:26,361 94935:4344825216][runners.py:190 todd.CustomEpochBasedTrainer _run] INFO: Iter [20/34] Loss 31.600\n",
      "[2023-01-12 23:58:26,364 94935:4344825216][runners.py:190 todd.CustomEpochBasedTrainer _run] INFO: Iter [25/34] Loss 46.530\n",
      "[2023-01-12 23:58:26,380 94935:4344825216][runners.py:190 todd.CustomEpochBasedTrainer _run] INFO: Iter [30/34] Loss 71.400\n",
      "[2023-01-12 23:58:26,399 94935:4344825216][runners.py:432 todd.CustomEpochBasedTrainer _run] INFO: Epoch [1/3] ended\n",
      "[2023-01-12 23:58:26,405 94935:4344825216][runners.py:214 todd.CustomEpochBasedTrainer write_state_dict] INFO: Writing state dict to /var/folders/xg/wgfj92492d77cdnj5qrrhf380000gp/T/tmpgmsxql4c/epoch_1.pth\n",
      "[2023-01-12 23:58:26,417 94935:4344825216][runners.py:421 todd.CustomEpochBasedTrainer _run] INFO: Epoch [2/3] beginning\n",
      "[2023-01-12 23:58:26,420 94935:4344825216][runners.py:190 todd.CustomEpochBasedTrainer _run] INFO: Iter [5/34] Loss 1.710\n",
      "[2023-01-12 23:58:26,425 94935:4344825216][runners.py:190 todd.CustomEpochBasedTrainer _run] INFO: Iter [10/34] Loss 7.020\n",
      "[2023-01-12 23:58:26,428 94935:4344825216][runners.py:190 todd.CustomEpochBasedTrainer _run] INFO: Iter [15/34] Loss 17.110\n",
      "[2023-01-12 23:58:26,431 94935:4344825216][runners.py:190 todd.CustomEpochBasedTrainer _run] INFO: Iter [20/34] Loss 30.020\n",
      "[2023-01-12 23:58:26,433 94935:4344825216][runners.py:190 todd.CustomEpochBasedTrainer _run] INFO: Iter [25/34] Loss 48.510\n",
      "[2023-01-12 23:58:26,435 94935:4344825216][runners.py:190 todd.CustomEpochBasedTrainer _run] INFO: Iter [30/34] Loss 69.020\n",
      "[2023-01-12 23:58:26,438 94935:4344825216][runners.py:432 todd.CustomEpochBasedTrainer _run] INFO: Epoch [2/3] ended\n",
      "[2023-01-12 23:58:26,439 94935:4344825216][runners.py:214 todd.CustomEpochBasedTrainer write_state_dict] INFO: Writing state dict to /var/folders/xg/wgfj92492d77cdnj5qrrhf380000gp/T/tmpgmsxql4c/epoch_2.pth\n",
      "[2023-01-12 23:58:26,447 94935:4344825216][runners.py:421 todd.CustomEpochBasedTrainer _run] INFO: Epoch [3/3] beginning\n",
      "[2023-01-12 23:58:26,450 94935:4344825216][runners.py:190 todd.CustomEpochBasedTrainer _run] INFO: Iter [5/34] Loss 1.710\n",
      "[2023-01-12 23:58:26,453 94935:4344825216][runners.py:190 todd.CustomEpochBasedTrainer _run] INFO: Iter [10/34] Loss 7.020\n",
      "[2023-01-12 23:58:26,456 94935:4344825216][runners.py:190 todd.CustomEpochBasedTrainer _run] INFO: Iter [15/34] Loss 17.110\n",
      "[2023-01-12 23:58:26,459 94935:4344825216][runners.py:190 todd.CustomEpochBasedTrainer _run] INFO: Iter [20/34] Loss 30.020\n",
      "[2023-01-12 23:58:26,462 94935:4344825216][runners.py:190 todd.CustomEpochBasedTrainer _run] INFO: Iter [25/34] Loss 48.510\n",
      "[2023-01-12 23:58:26,464 94935:4344825216][runners.py:190 todd.CustomEpochBasedTrainer _run] INFO: Iter [30/34] Loss 69.020\n",
      "[2023-01-12 23:58:26,467 94935:4344825216][runners.py:432 todd.CustomEpochBasedTrainer _run] INFO: Epoch [3/3] ended\n",
      "[2023-01-12 23:58:26,468 94935:4344825216][runners.py:214 todd.CustomEpochBasedTrainer write_state_dict] INFO: Writing state dict to /var/folders/xg/wgfj92492d77cdnj5qrrhf380000gp/T/tmpgmsxql4c/epoch_3.pth\n"
     ]
    },
    {
     "name": "stdout",
     "output_type": "stream",
     "text": [
      "['20230112T235826335898.log', 'epoch_1.pth', 'epoch_2.pth', 'epoch_3.pth']\n"
     ]
    }
   ],
   "source": [
    "with tempfile.TemporaryDirectory() as work_dir:\n",
    "    epoch_based_trainer = trainer.copy()\n",
    "    epoch_based_trainer.update(\n",
    "        type='CustomEpochBasedTrainer',\n",
    "        name=work_dir,\n",
    "        epochs=3,\n",
    "    )\n",
    "    runner = todd.utils.RunnerRegistry.build(epoch_based_trainer, config)\n",
    "    cast(CustomEpochBasedTrainer, runner).run()\n",
    "    print(os.listdir(work_dir))"
   ]
  },
  {
   "attachments": {},
   "cell_type": "markdown",
   "metadata": {},
   "source": [
    "## Dry Run"
   ]
  },
  {
   "cell_type": "code",
   "execution_count": 15,
   "metadata": {},
   "outputs": [],
   "source": [
    "todd.utils.BaseRunner.Store.DRY_RUN = True"
   ]
  },
  {
   "attachments": {},
   "cell_type": "markdown",
   "metadata": {},
   "source": [
    "If `DRY_RUN` is enabled, the runner will stop upon the first log message."
   ]
  },
  {
   "cell_type": "code",
   "execution_count": 16,
   "metadata": {},
   "outputs": [
    {
     "name": "stderr",
     "output_type": "stream",
     "text": [
      "\u001b[2m[2023-01-12 23:58:26,664 94935:4344825216][runners.py:93 todd.CustomValidator __init__] DEBUG: Runner initialized by lutingwang@wangluting.local\u001b[m\n",
      "[2023-01-12 23:58:26,666 94935:4344825216][runners.py:190 todd.CustomValidator _run] INFO: Iter [5/20] Loss 0.050\n"
     ]
    }
   ],
   "source": [
    "with tempfile.TemporaryDirectory() as work_dir:\n",
    "    validator.name = work_dir\n",
    "    runner = todd.utils.RunnerRegistry.build(validator, config)\n",
    "    cast(CustomValidator, runner).run()"
   ]
  },
  {
   "attachments": {},
   "cell_type": "markdown",
   "metadata": {},
   "source": [
    "## State Dicts"
   ]
  },
  {
   "cell_type": "code",
   "execution_count": null,
   "metadata": {},
   "outputs": [],
   "source": []
  }
 ],
 "metadata": {
  "kernelspec": {
   "display_name": "todd",
   "language": "python",
   "name": "python3"
  },
  "language_info": {
   "codemirror_mode": {
    "name": "ipython",
    "version": 3
   },
   "file_extension": ".py",
   "mimetype": "text/x-python",
   "name": "python",
   "nbconvert_exporter": "python",
   "pygments_lexer": "ipython3",
   "version": "3.10.4"
  },
  "orig_nbformat": 4,
  "vscode": {
   "interpreter": {
    "hash": "0fe19504897982c0d86de0bd38ea30a541b47032e25039ac5ae6cd1de5b1a414"
   }
  }
 },
 "nbformat": 4,
 "nbformat_minor": 2
}
