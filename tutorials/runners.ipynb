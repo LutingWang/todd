{
 "cells": [
  {
   "attachments": {},
   "cell_type": "markdown",
   "metadata": {},
   "source": [
    "# Best Practices for Using Runners"
   ]
  },
  {
   "cell_type": "code",
   "execution_count": 1,
   "metadata": {},
   "outputs": [
    {
     "name": "stdout",
     "output_type": "stream",
     "text": [
      "Found existing installation: todd-ai 0.3.0\n",
      "Uninstalling todd-ai-0.3.0:\n",
      "  Successfully uninstalled todd-ai-0.3.0\n",
      "Note: you may need to restart the kernel to use updated packages.\n",
      "Processing /Users/bytedance/Developer/todd\n",
      "  Installing build dependencies ... \u001b[?25ldone\n",
      "\u001b[?25h  Getting requirements to build wheel ... \u001b[?25ldone\n",
      "\u001b[?25h  Installing backend dependencies ... \u001b[?25ldone\n",
      "\u001b[?25h  Preparing metadata (pyproject.toml) ... \u001b[?25ldone\n",
      "\u001b[?25hRequirement already satisfied: einops in /Users/bytedance/.local/share/virtualenvs/todd-ARrcnwyq/lib/python3.11/site-packages (from todd-ai==0.3.0) (0.6.1)\n",
      "Requirement already satisfied: lmdb in /Users/bytedance/.local/share/virtualenvs/todd-ARrcnwyq/lib/python3.11/site-packages (from todd-ai==0.3.0) (1.4.1)\n",
      "Requirement already satisfied: opencv-python in /Users/bytedance/.local/share/virtualenvs/todd-ARrcnwyq/lib/python3.11/site-packages (from todd-ai==0.3.0) (4.7.0.72)\n",
      "Requirement already satisfied: pandas in /Users/bytedance/.local/share/virtualenvs/todd-ARrcnwyq/lib/python3.11/site-packages (from todd-ai==0.3.0) (2.0.1)\n",
      "Requirement already satisfied: python-pptx in /Users/bytedance/.local/share/virtualenvs/todd-ARrcnwyq/lib/python3.11/site-packages (from todd-ai==0.3.0) (0.6.21)\n",
      "Requirement already satisfied: timm in /Users/bytedance/.local/share/virtualenvs/todd-ARrcnwyq/lib/python3.11/site-packages (from todd-ai==0.3.0) (0.9.2)\n",
      "Requirement already satisfied: toml in /Users/bytedance/.local/share/virtualenvs/todd-ARrcnwyq/lib/python3.11/site-packages (from todd-ai==0.3.0) (0.10.2)\n",
      "Requirement already satisfied: tqdm in /Users/bytedance/.local/share/virtualenvs/todd-ARrcnwyq/lib/python3.11/site-packages (from todd-ai==0.3.0) (4.65.0)\n",
      "Requirement already satisfied: typing-extensions in /Users/bytedance/.local/share/virtualenvs/todd-ARrcnwyq/lib/python3.11/site-packages (from todd-ai==0.3.0) (4.5.0)\n",
      "Requirement already satisfied: yapf in /Users/bytedance/.local/share/virtualenvs/todd-ARrcnwyq/lib/python3.11/site-packages (from todd-ai==0.3.0) (0.33.0)\n",
      "Requirement already satisfied: numpy>=1.21.2 in /Users/bytedance/.local/share/virtualenvs/todd-ARrcnwyq/lib/python3.11/site-packages (from opencv-python->todd-ai==0.3.0) (1.24.3)\n",
      "Requirement already satisfied: python-dateutil>=2.8.2 in /Users/bytedance/.local/share/virtualenvs/todd-ARrcnwyq/lib/python3.11/site-packages (from pandas->todd-ai==0.3.0) (2.8.2)\n",
      "Requirement already satisfied: pytz>=2020.1 in /Users/bytedance/.local/share/virtualenvs/todd-ARrcnwyq/lib/python3.11/site-packages (from pandas->todd-ai==0.3.0) (2023.3)\n",
      "Requirement already satisfied: tzdata>=2022.1 in /Users/bytedance/.local/share/virtualenvs/todd-ARrcnwyq/lib/python3.11/site-packages (from pandas->todd-ai==0.3.0) (2023.3)\n",
      "Requirement already satisfied: lxml>=3.1.0 in /Users/bytedance/.local/share/virtualenvs/todd-ARrcnwyq/lib/python3.11/site-packages (from python-pptx->todd-ai==0.3.0) (4.9.2)\n",
      "Requirement already satisfied: Pillow>=3.3.2 in /Users/bytedance/.local/share/virtualenvs/todd-ARrcnwyq/lib/python3.11/site-packages (from python-pptx->todd-ai==0.3.0) (9.5.0)\n",
      "Requirement already satisfied: XlsxWriter>=0.5.7 in /Users/bytedance/.local/share/virtualenvs/todd-ARrcnwyq/lib/python3.11/site-packages (from python-pptx->todd-ai==0.3.0) (3.1.0)\n",
      "Requirement already satisfied: torch>=1.7 in /Users/bytedance/.local/share/virtualenvs/todd-ARrcnwyq/lib/python3.11/site-packages (from timm->todd-ai==0.3.0) (2.0.1)\n",
      "Requirement already satisfied: torchvision in /Users/bytedance/.local/share/virtualenvs/todd-ARrcnwyq/lib/python3.11/site-packages (from timm->todd-ai==0.3.0) (0.15.2)\n",
      "Requirement already satisfied: pyyaml in /Users/bytedance/.local/share/virtualenvs/todd-ARrcnwyq/lib/python3.11/site-packages (from timm->todd-ai==0.3.0) (6.0)\n",
      "Requirement already satisfied: huggingface-hub in /Users/bytedance/.local/share/virtualenvs/todd-ARrcnwyq/lib/python3.11/site-packages (from timm->todd-ai==0.3.0) (0.14.1)\n",
      "Requirement already satisfied: safetensors in /Users/bytedance/.local/share/virtualenvs/todd-ARrcnwyq/lib/python3.11/site-packages (from timm->todd-ai==0.3.0) (0.3.1)\n",
      "Requirement already satisfied: tomli>=2.0.1 in /Users/bytedance/.local/share/virtualenvs/todd-ARrcnwyq/lib/python3.11/site-packages (from yapf->todd-ai==0.3.0) (2.0.1)\n",
      "Requirement already satisfied: six>=1.5 in /Users/bytedance/.local/share/virtualenvs/todd-ARrcnwyq/lib/python3.11/site-packages (from python-dateutil>=2.8.2->pandas->todd-ai==0.3.0) (1.16.0)\n",
      "Requirement already satisfied: filelock in /Users/bytedance/.local/share/virtualenvs/todd-ARrcnwyq/lib/python3.11/site-packages (from torch>=1.7->timm->todd-ai==0.3.0) (3.12.0)\n",
      "Requirement already satisfied: sympy in /Users/bytedance/.local/share/virtualenvs/todd-ARrcnwyq/lib/python3.11/site-packages (from torch>=1.7->timm->todd-ai==0.3.0) (1.12)\n",
      "Requirement already satisfied: networkx in /Users/bytedance/.local/share/virtualenvs/todd-ARrcnwyq/lib/python3.11/site-packages (from torch>=1.7->timm->todd-ai==0.3.0) (3.1)\n",
      "Requirement already satisfied: jinja2 in /Users/bytedance/.local/share/virtualenvs/todd-ARrcnwyq/lib/python3.11/site-packages (from torch>=1.7->timm->todd-ai==0.3.0) (3.1.2)\n",
      "Requirement already satisfied: fsspec in /Users/bytedance/.local/share/virtualenvs/todd-ARrcnwyq/lib/python3.11/site-packages (from huggingface-hub->timm->todd-ai==0.3.0) (2023.5.0)\n",
      "Requirement already satisfied: requests in /Users/bytedance/.local/share/virtualenvs/todd-ARrcnwyq/lib/python3.11/site-packages (from huggingface-hub->timm->todd-ai==0.3.0) (2.30.0)\n",
      "Requirement already satisfied: packaging>=20.9 in /Users/bytedance/.local/share/virtualenvs/todd-ARrcnwyq/lib/python3.11/site-packages (from huggingface-hub->timm->todd-ai==0.3.0) (23.1)\n",
      "Requirement already satisfied: MarkupSafe>=2.0 in /Users/bytedance/.local/share/virtualenvs/todd-ARrcnwyq/lib/python3.11/site-packages (from jinja2->torch>=1.7->timm->todd-ai==0.3.0) (2.1.2)\n",
      "Requirement already satisfied: charset-normalizer<4,>=2 in /Users/bytedance/.local/share/virtualenvs/todd-ARrcnwyq/lib/python3.11/site-packages (from requests->huggingface-hub->timm->todd-ai==0.3.0) (3.1.0)\n",
      "Requirement already satisfied: idna<4,>=2.5 in /Users/bytedance/.local/share/virtualenvs/todd-ARrcnwyq/lib/python3.11/site-packages (from requests->huggingface-hub->timm->todd-ai==0.3.0) (3.4)\n",
      "Requirement already satisfied: urllib3<3,>=1.21.1 in /Users/bytedance/.local/share/virtualenvs/todd-ARrcnwyq/lib/python3.11/site-packages (from requests->huggingface-hub->timm->todd-ai==0.3.0) (1.26.15)\n",
      "Requirement already satisfied: certifi>=2017.4.17 in /Users/bytedance/.local/share/virtualenvs/todd-ARrcnwyq/lib/python3.11/site-packages (from requests->huggingface-hub->timm->todd-ai==0.3.0) (2023.5.7)\n",
      "Requirement already satisfied: mpmath>=0.19 in /Users/bytedance/.local/share/virtualenvs/todd-ARrcnwyq/lib/python3.11/site-packages (from sympy->torch>=1.7->timm->todd-ai==0.3.0) (1.3.0)\n",
      "Building wheels for collected packages: todd-ai\n",
      "  Building wheel for todd-ai (pyproject.toml) ... \u001b[?25ldone\n",
      "\u001b[?25h  Created wheel for todd-ai: filename=todd_ai-0.3.0-py3-none-any.whl size=98667 sha256=e1ef39dbca2c4b544b30f5d76e8fa381708e8eeccfa3c2f5e93ae71e4817f087\n",
      "  Stored in directory: /private/var/folders/v_/1kkfntxs5z74_rwvy1f3_mp80000gn/T/pip-ephem-wheel-cache-izw26a6y/wheels/15/ef/5a/9fc12e257ce5cef16b333a2ed6c992ff9cbcc9167f7199e6ac\n",
      "Successfully built todd-ai\n",
      "Installing collected packages: todd-ai\n",
      "Successfully installed todd-ai-0.3.0\n",
      "\n",
      "\u001b[1m[\u001b[0m\u001b[34;49mnotice\u001b[0m\u001b[1;39;49m]\u001b[0m\u001b[39;49m A new release of pip is available: \u001b[0m\u001b[31;49m23.0.1\u001b[0m\u001b[39;49m -> \u001b[0m\u001b[32;49m23.2\u001b[0m\n",
      "\u001b[1m[\u001b[0m\u001b[34;49mnotice\u001b[0m\u001b[1;39;49m]\u001b[0m\u001b[39;49m To update, run: \u001b[0m\u001b[32;49mpip install --upgrade pip\u001b[0m\n",
      "Note: you may need to restart the kernel to use updated packages.\n"
     ]
    }
   ],
   "source": [
    "%pip uninstall -y todd_ai\n",
    "%pip install .."
   ]
  },
  {
   "cell_type": "code",
   "execution_count": 2,
   "metadata": {},
   "outputs": [
    {
     "name": "stderr",
     "output_type": "stream",
     "text": [
      "/Users/bytedance/.local/share/virtualenvs/todd-ARrcnwyq/lib/python3.11/site-packages/mmcv/__init__.py:20: UserWarning: On January 1, 2023, MMCV will release v2.0.0, in which it will remove components related to the training process and add a data transformation module. In addition, it will rename the package names mmcv to mmcv-lite and mmcv-full to mmcv. See https://github.com/open-mmlab/mmcv/blob/master/docs/en/compatibility.md for more details.\n",
      "  warnings.warn(\n",
      "[2023-07-21 11:00:06,802 22882:140704357856832][patches.py:72 todd <module>] INFO: `ipdb` is installed. Using it for debugging.\n"
     ]
    }
   ],
   "source": [
    "import os\n",
    "import pathlib\n",
    "import tempfile\n",
    "from pprint import pprint\n",
    "from typing import Any, NoReturn, TypedDict, cast\n",
    "\n",
    "import todd\n",
    "import torch\n",
    "import torch.nn.functional as F\n",
    "import torch.utils.data\n",
    "\n",
    "Memo = dict[str, Any]"
   ]
  },
  {
   "attachments": {},
   "cell_type": "markdown",
   "metadata": {},
   "source": [
    "## Preparation"
   ]
  },
  {
   "cell_type": "markdown",
   "metadata": {},
   "source": [
    "### Models"
   ]
  },
  {
   "cell_type": "code",
   "execution_count": 3,
   "metadata": {},
   "outputs": [],
   "source": [
    "@todd.ModelRegistry.register()\n",
    "class RunnerModel(todd.Module):\n",
    "\n",
    "    def __init__(self) -> None:\n",
    "        super().__init__()\n",
    "        self._weight = torch.nn.Parameter(torch.tensor(0.0))\n",
    "\n",
    "    @property\n",
    "    def weight(self) -> torch.nn.Parameter:\n",
    "        return self._weight\n",
    "\n",
    "    def forward(self, x: torch.Tensor) -> torch.Tensor:\n",
    "        return x * self._weight"
   ]
  },
  {
   "cell_type": "markdown",
   "metadata": {},
   "source": [
    "### Datasets"
   ]
  },
  {
   "cell_type": "code",
   "execution_count": 4,
   "metadata": {},
   "outputs": [],
   "source": [
    "class Sample(TypedDict):\n",
    "    x: int\n",
    "    y: int"
   ]
  },
  {
   "cell_type": "code",
   "execution_count": 5,
   "metadata": {},
   "outputs": [],
   "source": [
    "@todd.DatasetRegistry.register()\n",
    "class RunnerDataset(torch.utils.data.Dataset[int]):\n",
    "\n",
    "    def __init__(self, n: int) -> None:\n",
    "        self._data = list(range(1, n + 1))\n",
    "\n",
    "    def __len__(self) -> int:\n",
    "        return len(self._data)\n",
    "\n",
    "    def __getitem__(self, index: int) -> Sample:\n",
    "        x = self._data[index]\n",
    "        return Sample(x=x, y=x * 2)"
   ]
  },
  {
   "cell_type": "code",
   "execution_count": 6,
   "metadata": {},
   "outputs": [],
   "source": [
    "class Batch(TypedDict):\n",
    "    x: torch.Tensor\n",
    "    y: torch.Tensor"
   ]
  },
  {
   "cell_type": "markdown",
   "metadata": {},
   "source": [
    "### Runners"
   ]
  },
  {
   "cell_type": "code",
   "execution_count": 7,
   "metadata": {},
   "outputs": [],
   "source": [
    "class RunnerMixin(todd.runners.BaseRunner):\n",
    "\n",
    "    def _run_iter(self, batch: Batch, memo: Memo) -> Memo:\n",
    "        y: torch.Tensor = self._strategy.model(batch['x'])\n",
    "        loss = F.l1_loss(y, batch['y'])\n",
    "        memo['loss'] = loss\n",
    "        if 'log' in memo:\n",
    "            memo['log']['loss'] = f'{loss.item():.3f}'\n",
    "        return memo"
   ]
  },
  {
   "cell_type": "code",
   "execution_count": 8,
   "metadata": {},
   "outputs": [],
   "source": [
    "class TrainerMixin(RunnerMixin):\n",
    "\n",
    "    def _run_iter(self, batch: Batch, memo: Memo) -> Memo:\n",
    "        memo = super()._run_iter(batch, memo)\n",
    "        if 'log' in memo:\n",
    "            model = cast(RunnerModel, self._strategy.module)\n",
    "            memo['log']['weight'] = f'{model.weight.item():.3f}'\n",
    "            memo['log']['batch'] = str(batch)\n",
    "        return memo"
   ]
  },
  {
   "cell_type": "code",
   "execution_count": 9,
   "metadata": {},
   "outputs": [],
   "source": [
    "@todd.RunnerRegistry.register()\n",
    "class CustomValidator(RunnerMixin, todd.runners.Validator):\n",
    "    pass"
   ]
  },
  {
   "cell_type": "code",
   "execution_count": 10,
   "metadata": {},
   "outputs": [],
   "source": [
    "@todd.RunnerRegistry.register()\n",
    "class CustomIterBasedTrainer(TrainerMixin, todd.runners.IterBasedTrainer):\n",
    "    pass"
   ]
  },
  {
   "cell_type": "code",
   "execution_count": 11,
   "metadata": {},
   "outputs": [],
   "source": [
    "@todd.RunnerRegistry.register()\n",
    "class CustomEpochBasedTrainer(TrainerMixin, todd.runners.EpochBasedTrainer):\n",
    "    pass"
   ]
  },
  {
   "attachments": {},
   "cell_type": "markdown",
   "metadata": {},
   "source": [
    "## Validators"
   ]
  },
  {
   "cell_type": "code",
   "execution_count": 12,
   "metadata": {},
   "outputs": [],
   "source": [
    "validator_demo = todd.Config(\n",
    "    type='CustomValidator',\n",
    "    name='custom_validator',\n",
    "    dataloader=dict(batch_size=1, dataset=dict(type='RunnerDataset', n=20)),\n",
    "    strategy=dict(type='BaseStrategy', model=dict(type='RunnerModel')),\n",
    "    callbacks=dict(type='LogCallback', interval=5),\n",
    ")"
   ]
  },
  {
   "cell_type": "code",
   "execution_count": 13,
   "metadata": {},
   "outputs": [
    {
     "name": "stderr",
     "output_type": "stream",
     "text": [
      "\u001b[2m[2023-07-21 11:00:07,640 22882:140704357856832][runners.py:61 todd.CustomValidator.custom_validator __init__] DEBUG: Rank 0 initialized by bytedance@C02G870SMD6R\u001b[m\n",
      "[2023-07-21 11:00:07,643 22882:140704357856832][log.py:49 todd.CustomValidator.custom_validator after_run_iter] INFO: Iter [5/20] loss=10.000\n",
      "[2023-07-21 11:00:07,645 22882:140704357856832][log.py:49 todd.CustomValidator.custom_validator after_run_iter] INFO: Iter [10/20] loss=20.000\n",
      "[2023-07-21 11:00:07,650 22882:140704357856832][log.py:49 todd.CustomValidator.custom_validator after_run_iter] INFO: Iter [15/20] loss=30.000\n",
      "[2023-07-21 11:00:07,652 22882:140704357856832][log.py:49 todd.CustomValidator.custom_validator after_run_iter] INFO: Iter [20/20] loss=40.000\n"
     ]
    },
    {
     "name": "stdout",
     "output_type": "stream",
     "text": [
      "\n",
      "\u001b[1;36m/var/folders/v_/1kkfntxs5z74_rwvy1f3_mp80000gn/T/tmpgr0zcfsa\u001b[0m\n",
      "└── \u001b[1;36mcustom_validator\u001b[0m\n",
      "\n",
      "2 directories, 0 files\n"
     ]
    }
   ],
   "source": [
    "with tempfile.TemporaryDirectory() as work_dirs:\n",
    "    runner: CustomValidator = todd.RunnerRegistry.build(\n",
    "        validator_demo, \n",
    "        work_dir=dict(root=work_dirs),\n",
    "    )\n",
    "    runner.run()\n",
    "    \n",
    "    !echo\n",
    "    !tree $work_dirs"
   ]
  },
  {
   "attachments": {},
   "cell_type": "markdown",
   "metadata": {},
   "source": [
    "## Trainers"
   ]
  },
  {
   "cell_type": "code",
   "execution_count": 14,
   "metadata": {},
   "outputs": [],
   "source": [
    "trainer_demo = validator_demo.copy()\n",
    "trainer_demo.pop('type')\n",
    "trainer_demo.dataloader = todd.Config(\n",
    "    batch_size=2,\n",
    "    shuffle=True,\n",
    "    dataset=dict(type='RunnerDataset', n=67),\n",
    ")\n",
    "trainer_demo.optimizer = todd.Config(type='SGD', lr=0.005)\n"
   ]
  },
  {
   "cell_type": "markdown",
   "metadata": {},
   "source": [
    "### Iteration Based"
   ]
  },
  {
   "cell_type": "code",
   "execution_count": 15,
   "metadata": {},
   "outputs": [],
   "source": [
    "iter_based_trainer_demo = trainer_demo.copy()\n",
    "iter_based_trainer_demo.type = 'CustomIterBasedTrainer'\n",
    "iter_based_trainer_demo.name = 'custom_iter_based_trainer'\n",
    "iter_based_trainer_demo.iters = 53"
   ]
  },
  {
   "cell_type": "code",
   "execution_count": 16,
   "metadata": {},
   "outputs": [
    {
     "name": "stderr",
     "output_type": "stream",
     "text": [
      "\u001b[2m[2023-07-21 11:00:07,975 22882:140704357856832][runners.py:61 todd.CustomIterBasedTrainer.custom_iter_based_trainer __init__] DEBUG: Rank 0 initialized by bytedance@C02G870SMD6R\u001b[m\n",
      "[2023-07-21 11:00:07,979 22882:140704357856832][log.py:49 todd.CustomIterBasedTrainer.custom_iter_based_trainer after_run_iter] INFO: Iter [5/53] loss=33.000 weight=0.000 batch={'x': tensor([13, 20]), 'y': tensor([26, 40])}\n",
      "[2023-07-21 11:00:07,983 22882:140704357856832][log.py:49 todd.CustomIterBasedTrainer.custom_iter_based_trainer after_run_iter] INFO: Iter [10/53] loss=115.000 weight=0.000 batch={'x': tensor([55, 60]), 'y': tensor([110, 120])}\n",
      "[2023-07-21 11:00:07,986 22882:140704357856832][log.py:49 todd.CustomIterBasedTrainer.custom_iter_based_trainer after_run_iter] INFO: Iter [15/53] loss=42.000 weight=0.000 batch={'x': tensor([14, 28]), 'y': tensor([28, 56])}\n",
      "[2023-07-21 11:00:07,989 22882:140704357856832][log.py:49 todd.CustomIterBasedTrainer.custom_iter_based_trainer after_run_iter] INFO: Iter [20/53] loss=25.000 weight=0.000 batch={'x': tensor([ 2, 23]), 'y': tensor([ 4, 46])}\n",
      "[2023-07-21 11:00:07,992 22882:140704357856832][log.py:49 todd.CustomIterBasedTrainer.custom_iter_based_trainer after_run_iter] INFO: Iter [25/53] loss=74.000 weight=0.000 batch={'x': tensor([40, 34]), 'y': tensor([80, 68])}\n",
      "[2023-07-21 11:00:07,995 22882:140704357856832][log.py:49 todd.CustomIterBasedTrainer.custom_iter_based_trainer after_run_iter] INFO: Iter [30/53] loss=116.000 weight=0.000 batch={'x': tensor([66, 50]), 'y': tensor([132, 100])}\n",
      "[2023-07-21 11:00:07,998 22882:140704357856832][log.py:49 todd.CustomIterBasedTrainer.custom_iter_based_trainer after_run_iter] INFO: Iter [35/53] loss=9.000 weight=0.000 batch={'x': tensor([4, 5]), 'y': tensor([ 8, 10])}\n",
      "[2023-07-21 11:00:08,000 22882:140704357856832][log.py:49 todd.CustomIterBasedTrainer.custom_iter_based_trainer after_run_iter] INFO: Iter [40/53] loss=46.000 weight=0.000 batch={'x': tensor([ 3, 43]), 'y': tensor([ 6, 86])}\n",
      "[2023-07-21 11:00:08,004 22882:140704357856832][log.py:49 todd.CustomIterBasedTrainer.custom_iter_based_trainer after_run_iter] INFO: Iter [45/53] loss=67.000 weight=0.000 batch={'x': tensor([38, 29]), 'y': tensor([76, 58])}\n",
      "[2023-07-21 11:00:08,007 22882:140704357856832][log.py:49 todd.CustomIterBasedTrainer.custom_iter_based_trainer after_run_iter] INFO: Iter [50/53] loss=47.000 weight=0.000 batch={'x': tensor([46,  1]), 'y': tensor([92,  2])}\n"
     ]
    }
   ],
   "source": [
    "with tempfile.TemporaryDirectory() as work_dirs:\n",
    "    runner: CustomIterBasedTrainer = todd.RunnerRegistry.build(\n",
    "        iter_based_trainer_demo,\n",
    "        work_dir=dict(root=work_dirs),\n",
    "    )\n",
    "    runner.run()"
   ]
  },
  {
   "attachments": {},
   "cell_type": "markdown",
   "metadata": {},
   "source": [
    "### Epoch Based"
   ]
  },
  {
   "cell_type": "code",
   "execution_count": 17,
   "metadata": {},
   "outputs": [],
   "source": [
    "epoch_based_trainer_demo = trainer_demo.copy()\n",
    "epoch_based_trainer_demo.type = 'CustomEpochBasedTrainer'\n",
    "epoch_based_trainer_demo.name = 'custom_epoch_based_trainer'\n",
    "epoch_based_trainer_demo.epochs = 3"
   ]
  },
  {
   "cell_type": "code",
   "execution_count": 18,
   "metadata": {},
   "outputs": [
    {
     "name": "stderr",
     "output_type": "stream",
     "text": [
      "\u001b[2m[2023-07-21 11:00:08,031 22882:140704357856832][runners.py:61 todd.CustomEpochBasedTrainer.custom_epoch_based_trainer __init__] DEBUG: Rank 0 initialized by bytedance@C02G870SMD6R\u001b[m\n",
      "[2023-07-21 11:00:08,032 22882:140704357856832][log.py:55 todd.CustomEpochBasedTrainer.custom_epoch_based_trainer before_run_epoch] INFO: Epoch [1/3]\n",
      "[2023-07-21 11:00:08,035 22882:140704357856832][log.py:49 todd.CustomEpochBasedTrainer.custom_epoch_based_trainer after_run_iter] INFO: Iter [5/102] loss=78.000 weight=0.000 batch={'x': tensor([60, 18]), 'y': tensor([120,  36])}\n",
      "[2023-07-21 11:00:08,038 22882:140704357856832][log.py:49 todd.CustomEpochBasedTrainer.custom_epoch_based_trainer after_run_iter] INFO: Iter [10/102] loss=75.000 weight=0.000 batch={'x': tensor([12, 63]), 'y': tensor([ 24, 126])}\n",
      "[2023-07-21 11:00:08,041 22882:140704357856832][log.py:49 todd.CustomEpochBasedTrainer.custom_epoch_based_trainer after_run_iter] INFO: Iter [15/102] loss=80.000 weight=0.000 batch={'x': tensor([37, 43]), 'y': tensor([74, 86])}\n",
      "[2023-07-21 11:00:08,044 22882:140704357856832][log.py:49 todd.CustomEpochBasedTrainer.custom_epoch_based_trainer after_run_iter] INFO: Iter [20/102] loss=20.000 weight=0.000 batch={'x': tensor([19,  1]), 'y': tensor([38,  2])}\n",
      "[2023-07-21 11:00:08,046 22882:140704357856832][log.py:49 todd.CustomEpochBasedTrainer.custom_epoch_based_trainer after_run_iter] INFO: Iter [25/102] loss=105.000 weight=0.000 batch={'x': tensor([61, 44]), 'y': tensor([122,  88])}\n",
      "[2023-07-21 11:00:08,049 22882:140704357856832][log.py:49 todd.CustomEpochBasedTrainer.custom_epoch_based_trainer after_run_iter] INFO: Iter [30/102] loss=62.000 weight=0.000 batch={'x': tensor([ 5, 57]), 'y': tensor([ 10, 114])}\n",
      "[2023-07-21 11:00:08,051 22882:140704357856832][log.py:55 todd.CustomEpochBasedTrainer.custom_epoch_based_trainer before_run_epoch] INFO: Epoch [2/3]\n",
      "[2023-07-21 11:00:08,053 22882:140704357856832][log.py:49 todd.CustomEpochBasedTrainer.custom_epoch_based_trainer after_run_iter] INFO: Iter [35/102] loss=59.000 weight=0.000 batch={'x': tensor([43, 16]), 'y': tensor([86, 32])}\n",
      "[2023-07-21 11:00:08,055 22882:140704357856832][log.py:49 todd.CustomEpochBasedTrainer.custom_epoch_based_trainer after_run_iter] INFO: Iter [40/102] loss=23.000 weight=0.000 batch={'x': tensor([11, 12]), 'y': tensor([22, 24])}\n",
      "[2023-07-21 11:00:08,057 22882:140704357856832][log.py:49 todd.CustomEpochBasedTrainer.custom_epoch_based_trainer after_run_iter] INFO: Iter [45/102] loss=61.000 weight=0.000 batch={'x': tensor([57,  4]), 'y': tensor([114,   8])}\n",
      "[2023-07-21 11:00:08,059 22882:140704357856832][log.py:49 todd.CustomEpochBasedTrainer.custom_epoch_based_trainer after_run_iter] INFO: Iter [50/102] loss=76.000 weight=0.000 batch={'x': tensor([67,  9]), 'y': tensor([134,  18])}\n",
      "[2023-07-21 11:00:08,061 22882:140704357856832][log.py:49 todd.CustomEpochBasedTrainer.custom_epoch_based_trainer after_run_iter] INFO: Iter [55/102] loss=6.000 weight=0.000 batch={'x': tensor([5, 1]), 'y': tensor([10,  2])}\n",
      "[2023-07-21 11:00:08,064 22882:140704357856832][log.py:49 todd.CustomEpochBasedTrainer.custom_epoch_based_trainer after_run_iter] INFO: Iter [60/102] loss=94.000 weight=0.000 batch={'x': tensor([50, 44]), 'y': tensor([100,  88])}\n",
      "[2023-07-21 11:00:08,066 22882:140704357856832][log.py:49 todd.CustomEpochBasedTrainer.custom_epoch_based_trainer after_run_iter] INFO: Iter [65/102] loss=25.000 weight=0.000 batch={'x': tensor([19,  6]), 'y': tensor([38, 12])}\n",
      "[2023-07-21 11:00:08,068 22882:140704357856832][log.py:55 todd.CustomEpochBasedTrainer.custom_epoch_based_trainer before_run_epoch] INFO: Epoch [3/3]\n",
      "[2023-07-21 11:00:08,069 22882:140704357856832][log.py:49 todd.CustomEpochBasedTrainer.custom_epoch_based_trainer after_run_iter] INFO: Iter [70/102] loss=82.000 weight=0.000 batch={'x': tensor([43, 39]), 'y': tensor([86, 78])}\n",
      "[2023-07-21 11:00:08,072 22882:140704357856832][log.py:49 todd.CustomEpochBasedTrainer.custom_epoch_based_trainer after_run_iter] INFO: Iter [75/102] loss=94.000 weight=0.000 batch={'x': tensor([57, 37]), 'y': tensor([114,  74])}\n",
      "[2023-07-21 11:00:08,074 22882:140704357856832][log.py:49 todd.CustomEpochBasedTrainer.custom_epoch_based_trainer after_run_iter] INFO: Iter [80/102] loss=95.000 weight=0.000 batch={'x': tensor([64, 31]), 'y': tensor([128,  62])}\n",
      "[2023-07-21 11:00:08,076 22882:140704357856832][log.py:49 todd.CustomEpochBasedTrainer.custom_epoch_based_trainer after_run_iter] INFO: Iter [85/102] loss=90.000 weight=0.000 batch={'x': tensor([50, 40]), 'y': tensor([100,  80])}\n",
      "[2023-07-21 11:00:08,078 22882:140704357856832][log.py:49 todd.CustomEpochBasedTrainer.custom_epoch_based_trainer after_run_iter] INFO: Iter [90/102] loss=56.000 weight=0.000 batch={'x': tensor([49,  7]), 'y': tensor([98, 14])}\n",
      "[2023-07-21 11:00:08,081 22882:140704357856832][log.py:49 todd.CustomEpochBasedTrainer.custom_epoch_based_trainer after_run_iter] INFO: Iter [95/102] loss=78.000 weight=0.000 batch={'x': tensor([58, 20]), 'y': tensor([116,  40])}\n",
      "[2023-07-21 11:00:08,083 22882:140704357856832][log.py:49 todd.CustomEpochBasedTrainer.custom_epoch_based_trainer after_run_iter] INFO: Iter [100/102] loss=52.000 weight=0.000 batch={'x': tensor([48,  4]), 'y': tensor([96,  8])}\n"
     ]
    }
   ],
   "source": [
    "with tempfile.TemporaryDirectory() as work_dirs:\n",
    "    runner: CustomEpochBasedTrainer = todd.RunnerRegistry.build(\n",
    "        epoch_based_trainer_demo,\n",
    "        work_dir=dict(root=work_dirs),\n",
    "    )\n",
    "    runner.run()"
   ]
  },
  {
   "cell_type": "markdown",
   "metadata": {},
   "source": [
    "## Callbacks"
   ]
  },
  {
   "cell_type": "markdown",
   "metadata": {},
   "source": [
    "### Log"
   ]
  },
  {
   "cell_type": "code",
   "execution_count": 19,
   "metadata": {},
   "outputs": [],
   "source": [
    "log_callback_demo = validator_demo.copy()\n",
    "log_callback = log_callback_demo.callbacks\n",
    "log_callback.with_file_handler = True\n",
    "log_callback_demo.callbacks = [log_callback]"
   ]
  },
  {
   "cell_type": "code",
   "execution_count": 20,
   "metadata": {},
   "outputs": [
    {
     "name": "stderr",
     "output_type": "stream",
     "text": [
      "\u001b[2m[2023-07-21 11:00:08,103 22882:140704357856832][runners.py:61 todd.CustomValidator.custom_validator __init__] DEBUG: Rank 0 initialized by bytedance@C02G870SMD6R\u001b[m\n",
      "[2023-07-21 11:00:08,105 22882:140704357856832][log.py:49 todd.CustomValidator.custom_validator after_run_iter] INFO: Iter [5/20] loss=10.000\n",
      "[2023-07-21 11:00:08,107 22882:140704357856832][log.py:49 todd.CustomValidator.custom_validator after_run_iter] INFO: Iter [10/20] loss=20.000\n",
      "[2023-07-21 11:00:08,109 22882:140704357856832][log.py:49 todd.CustomValidator.custom_validator after_run_iter] INFO: Iter [15/20] loss=30.000\n",
      "[2023-07-21 11:00:08,112 22882:140704357856832][log.py:49 todd.CustomValidator.custom_validator after_run_iter] INFO: Iter [20/20] loss=40.000\n"
     ]
    },
    {
     "name": "stdout",
     "output_type": "stream",
     "text": [
      "\n",
      "\u001b[1;36m/var/folders/v_/1kkfntxs5z74_rwvy1f3_mp80000gn/T/tmpajts7xqq\u001b[0m\n",
      "└── \u001b[1;36mcustom_validator\u001b[0m\n",
      "    └── 2023-07-21T11-00-08_102390-08-00.log\n",
      "\n",
      "2 directories, 1 file\n",
      "\n",
      "[2023-07-21 11:00:08,103 22882:140704357856832][runners.py:61 todd.CustomValidator.custom_validator __init__] DEBUG: Rank 0 initialized by bytedance@C02G870SMD6R\n",
      "[2023-07-21 11:00:08,105 22882:140704357856832][log.py:49 todd.CustomValidator.custom_validator after_run_iter] INFO: Iter [5/20] loss=10.000\n",
      "[2023-07-21 11:00:08,107 22882:140704357856832][log.py:49 todd.CustomValidator.custom_validator after_run_iter] INFO: Iter [10/20] loss=20.000\n",
      "[2023-07-21 11:00:08,109 22882:140704357856832][log.py:49 todd.CustomValidator.custom_validator after_run_iter] INFO: Iter [15/20] loss=30.000\n",
      "[2023-07-21 11:00:08,112 22882:140704357856832][log.py:49 todd.CustomValidator.custom_validator after_run_iter] INFO: Iter [20/20] loss=40.000\n"
     ]
    }
   ],
   "source": [
    "with tempfile.TemporaryDirectory() as work_dirs:\n",
    "    runner: CustomValidator = todd.RunnerRegistry.build(\n",
    "        log_callback_demo, \n",
    "        work_dir=dict(root=work_dirs),\n",
    "    )\n",
    "    runner.run()\n",
    "\n",
    "    !echo\n",
    "    !tree {work_dirs}\n",
    "    !echo\n",
    "    !cat {work_dirs}/custom_validator/*.log"
   ]
  },
  {
   "cell_type": "markdown",
   "metadata": {},
   "source": [
    "### Optimize"
   ]
  },
  {
   "cell_type": "code",
   "execution_count": 21,
   "metadata": {},
   "outputs": [],
   "source": [
    "optimize_callback_demo = iter_based_trainer_demo.copy()\n",
    "optimize_callback = todd.Config(type='OptimizeCallback')\n",
    "optimize_callback_demo.callbacks = [optimize_callback, log_callback]"
   ]
  },
  {
   "cell_type": "code",
   "execution_count": 22,
   "metadata": {},
   "outputs": [
    {
     "name": "stderr",
     "output_type": "stream",
     "text": [
      "\u001b[2m[2023-07-21 11:00:08,712 22882:140704357856832][runners.py:61 todd.CustomIterBasedTrainer.custom_iter_based_trainer __init__] DEBUG: Rank 0 initialized by bytedance@C02G870SMD6R\u001b[m\n",
      "[2023-07-21 11:00:08,721 22882:140704357856832][log.py:49 todd.CustomIterBasedTrainer.custom_iter_based_trainer after_run_iter] INFO: Iter [5/53] loss=29.725 weight=0.550 batch={'x': tensor([13, 28]), 'y': tensor([26, 56])}\n",
      "[2023-07-21 11:00:08,727 22882:140704357856832][log.py:49 todd.CustomIterBasedTrainer.custom_iter_based_trainer after_run_iter] INFO: Iter [10/53] loss=28.350 weight=1.528 batch={'x': tensor([63, 57]), 'y': tensor([126, 114])}\n",
      "[2023-07-21 11:00:08,739 22882:140704357856832][log.py:49 todd.CustomIterBasedTrainer.custom_iter_based_trainer after_run_iter] INFO: Iter [15/53] loss=2.870 weight=2.102 batch={'x': tensor([32, 24]), 'y': tensor([64, 48])}\n",
      "[2023-07-21 11:00:08,756 22882:140704357856832][log.py:49 todd.CustomIterBasedTrainer.custom_iter_based_trainer after_run_iter] INFO: Iter [20/53] loss=7.020 weight=1.820 batch={'x': tensor([17, 61]), 'y': tensor([ 34, 122])}\n",
      "[2023-07-21 11:00:08,761 22882:140704357856832][log.py:49 todd.CustomIterBasedTrainer.custom_iter_based_trainer after_run_iter] INFO: Iter [25/53] loss=1.650 weight=1.940 batch={'x': tensor([ 3, 52]), 'y': tensor([  6, 104])}\n",
      "[2023-07-21 11:00:08,765 22882:140704357856832][log.py:49 todd.CustomIterBasedTrainer.custom_iter_based_trainer after_run_iter] INFO: Iter [30/53] loss=4.100 weight=2.200 batch={'x': tensor([22, 19]), 'y': tensor([44, 38])}\n",
      "[2023-07-21 11:00:08,770 22882:140704357856832][log.py:49 todd.CustomIterBasedTrainer.custom_iter_based_trainer after_run_iter] INFO: Iter [35/53] loss=2.240 weight=1.930 batch={'x': tensor([58,  6]), 'y': tensor([116,  12])}\n",
      "[2023-07-21 11:00:08,774 22882:140704357856832][log.py:49 todd.CustomIterBasedTrainer.custom_iter_based_trainer after_run_iter] INFO: Iter [40/53] loss=2.906 weight=1.938 batch={'x': tensor([44, 49]), 'y': tensor([88, 98])}\n",
      "[2023-07-21 11:00:08,777 22882:140704357856832][log.py:49 todd.CustomIterBasedTrainer.custom_iter_based_trainer after_run_iter] INFO: Iter [45/53] loss=3.995 weight=1.883 batch={'x': tensor([48, 20]), 'y': tensor([96, 40])}\n",
      "[2023-07-21 11:00:08,781 22882:140704357856832][log.py:49 todd.CustomIterBasedTrainer.custom_iter_based_trainer after_run_iter] INFO: Iter [50/53] loss=2.494 weight=2.088 batch={'x': tensor([ 4, 53]), 'y': tensor([  8, 106])}\n"
     ]
    }
   ],
   "source": [
    "with tempfile.TemporaryDirectory() as work_dirs:\n",
    "    runner: CustomIterBasedTrainer = todd.RunnerRegistry.build(\n",
    "        optimize_callback_demo,\n",
    "        work_dir=dict(root=work_dirs),\n",
    "    )\n",
    "    runner.run()"
   ]
  },
  {
   "cell_type": "markdown",
   "metadata": {},
   "source": [
    "### Learning Rate Schedule"
   ]
  },
  {
   "cell_type": "code",
   "execution_count": 23,
   "metadata": {},
   "outputs": [],
   "source": [
    "lr_schedule_callback_demo = iter_based_trainer_demo.copy()\n",
    "lr_schedule_callback = todd.Config(\n",
    "    type='LRScheduleCallback',\n",
    "    lr_scheduler=dict(type='LinearLR', total_iters=10),\n",
    ")\n",
    "lr_schedule_callback_demo.callbacks = [\n",
    "    optimize_callback,\n",
    "    lr_schedule_callback,\n",
    "    log_callback,\n",
    "]\n"
   ]
  },
  {
   "cell_type": "code",
   "execution_count": 24,
   "metadata": {},
   "outputs": [
    {
     "name": "stderr",
     "output_type": "stream",
     "text": [
      "\u001b[2m[2023-07-21 11:00:08,804 22882:140704357856832][runners.py:61 todd.CustomIterBasedTrainer.custom_iter_based_trainer __init__] DEBUG: Rank 0 initialized by bytedance@C02G870SMD6R\u001b[m\n",
      "[2023-07-21 11:00:08,809 22882:140704357856832][log.py:49 todd.CustomIterBasedTrainer.custom_iter_based_trainer after_run_iter] INFO: Iter [5/53] loss=45.101 weight=0.231 batch={'x': tensor([43,  8]), 'y': tensor([86, 16])} lr=['3.333e-03']\n",
      "[2023-07-21 11:00:08,812 22882:140704357856832][log.py:49 todd.CustomIterBasedTrainer.custom_iter_based_trainer after_run_iter] INFO: Iter [10/53] loss=39.138 weight=0.814 batch={'x': tensor([44, 22]), 'y': tensor([88, 44])} lr=['5.000e-03']\n",
      "[2023-07-21 11:00:08,817 22882:140704357856832][log.py:49 todd.CustomIterBasedTrainer.custom_iter_based_trainer after_run_iter] INFO: Iter [15/53] loss=6.675 weight=1.733 batch={'x': tensor([45,  5]), 'y': tensor([90, 10])} lr=['5.000e-03']\n",
      "[2023-07-21 11:00:08,820 22882:140704357856832][log.py:49 todd.CustomIterBasedTrainer.custom_iter_based_trainer after_run_iter] INFO: Iter [20/53] loss=0.945 weight=1.958 batch={'x': tensor([11, 34]), 'y': tensor([22, 68])} lr=['5.000e-03']\n",
      "[2023-07-21 11:00:08,824 22882:140704357856832][log.py:49 todd.CustomIterBasedTrainer.custom_iter_based_trainer after_run_iter] INFO: Iter [25/53] loss=0.173 weight=2.005 batch={'x': tensor([27, 36]), 'y': tensor([54, 72])} lr=['5.000e-03']\n",
      "[2023-07-21 11:00:08,829 22882:140704357856832][log.py:49 todd.CustomIterBasedTrainer.custom_iter_based_trainer after_run_iter] INFO: Iter [30/53] loss=1.548 weight=1.928 batch={'x': tensor([15, 28]), 'y': tensor([30, 56])} lr=['5.000e-03']\n",
      "[2023-07-21 11:00:08,834 22882:140704357856832][log.py:49 todd.CustomIterBasedTrainer.custom_iter_based_trainer after_run_iter] INFO: Iter [35/53] loss=1.549 weight=1.970 batch={'x': tensor([51, 54]), 'y': tensor([102, 108])} lr=['5.000e-03']\n",
      "[2023-07-21 11:00:08,838 22882:140704357856832][log.py:49 todd.CustomIterBasedTrainer.custom_iter_based_trainer after_run_iter] INFO: Iter [40/53] loss=2.741 weight=1.913 batch={'x': tensor([61,  2]), 'y': tensor([122,   4])} lr=['5.000e-03']\n",
      "[2023-07-21 11:00:08,842 22882:140704357856832][log.py:49 todd.CustomIterBasedTrainer.custom_iter_based_trainer after_run_iter] INFO: Iter [45/53] loss=1.035 weight=2.023 batch={'x': tensor([25, 65]), 'y': tensor([ 50, 130])} lr=['5.000e-03']\n",
      "[2023-07-21 11:00:08,845 22882:140704357856832][log.py:49 todd.CustomIterBasedTrainer.custom_iter_based_trainer after_run_iter] INFO: Iter [50/53] loss=4.316 weight=1.903 batch={'x': tensor([66, 23]), 'y': tensor([132,  46])} lr=['5.000e-03']\n"
     ]
    }
   ],
   "source": [
    "with tempfile.TemporaryDirectory() as work_dirs:\n",
    "    runner: CustomIterBasedTrainer = todd.RunnerRegistry.build(\n",
    "        lr_schedule_callback_demo,\n",
    "        work_dir=dict(root=work_dirs),\n",
    "    )\n",
    "    runner.run()"
   ]
  },
  {
   "cell_type": "code",
   "execution_count": 25,
   "metadata": {},
   "outputs": [],
   "source": [
    "lr_schedule_by_epoch_callback_demo = epoch_based_trainer_demo.copy()\n",
    "lr_schedule_by_epoch_callback = lr_schedule_callback.copy()\n",
    "lr_schedule_by_epoch_callback.by_epoch = True\n",
    "lr_schedule_by_epoch_callback_demo.callbacks = [\n",
    "    optimize_callback,\n",
    "    lr_schedule_by_epoch_callback,\n",
    "    log_callback,\n",
    "]\n"
   ]
  },
  {
   "cell_type": "code",
   "execution_count": 26,
   "metadata": {},
   "outputs": [
    {
     "name": "stderr",
     "output_type": "stream",
     "text": [
      "\u001b[2m[2023-07-21 11:00:08,868 22882:140704357856832][runners.py:61 todd.CustomEpochBasedTrainer.custom_epoch_based_trainer __init__] DEBUG: Rank 0 initialized by bytedance@C02G870SMD6R\u001b[m\n",
      "[2023-07-21 11:00:08,869 22882:140704357856832][log.py:55 todd.CustomEpochBasedTrainer.custom_epoch_based_trainer before_run_epoch] INFO: Epoch [1/3]\n",
      "[2023-07-21 11:00:08,874 22882:140704357856832][log.py:49 todd.CustomEpochBasedTrainer.custom_epoch_based_trainer after_run_iter] INFO: Iter [5/102] loss=17.684 weight=0.316 batch={'x': tensor([16,  5]), 'y': tensor([32, 10])} lr=['1.667e-03']\n",
      "[2023-07-21 11:00:08,880 22882:140704357856832][log.py:49 todd.CustomEpochBasedTrainer.custom_epoch_based_trainer after_run_iter] INFO: Iter [10/102] loss=88.160 weight=0.480 batch={'x': tensor([62, 54]), 'y': tensor([124, 108])} lr=['1.667e-03']\n",
      "[2023-07-21 11:00:08,884 22882:140704357856832][log.py:49 todd.CustomEpochBasedTrainer.custom_epoch_based_trainer after_run_iter] INFO: Iter [15/102] loss=39.157 weight=0.848 batch={'x': tensor([59,  9]), 'y': tensor([118,  18])} lr=['1.667e-03']\n",
      "[2023-07-21 11:00:08,889 22882:140704357856832][log.py:49 todd.CustomEpochBasedTrainer.custom_epoch_based_trainer after_run_iter] INFO: Iter [20/102] loss=17.664 weight=1.138 batch={'x': tensor([20, 21]), 'y': tensor([40, 42])} lr=['1.667e-03']\n",
      "[2023-07-21 11:00:08,893 22882:140704357856832][log.py:49 todd.CustomEpochBasedTrainer.custom_epoch_based_trainer after_run_iter] INFO: Iter [25/102] loss=26.479 weight=1.354 batch={'x': tensor([63, 19]), 'y': tensor([126,  38])} lr=['1.667e-03']\n",
      "[2023-07-21 11:00:08,899 22882:140704357856832][log.py:49 todd.CustomEpochBasedTrainer.custom_epoch_based_trainer after_run_iter] INFO: Iter [30/102] loss=6.175 weight=1.683 batch={'x': tensor([13, 26]), 'y': tensor([26, 52])} lr=['1.667e-03']\n",
      "[2023-07-21 11:00:08,903 22882:140704357856832][log.py:55 todd.CustomEpochBasedTrainer.custom_epoch_based_trainer before_run_epoch] INFO: Epoch [2/3]\n",
      "[2023-07-21 11:00:08,906 22882:140704357856832][log.py:49 todd.CustomEpochBasedTrainer.custom_epoch_based_trainer after_run_iter] INFO: Iter [35/102] loss=0.705 weight=1.926 batch={'x': tensor([ 7, 12]), 'y': tensor([14, 24])} lr=['2.000e-03']\n",
      "[2023-07-21 11:00:08,913 22882:140704357856832][log.py:49 todd.CustomEpochBasedTrainer.custom_epoch_based_trainer after_run_iter] INFO: Iter [40/102] loss=0.354 weight=1.982 batch={'x': tensor([38,  1]), 'y': tensor([76,  2])} lr=['2.000e-03']\n",
      "[2023-07-21 11:00:08,918 22882:140704357856832][log.py:49 todd.CustomEpochBasedTrainer.custom_epoch_based_trainer after_run_iter] INFO: Iter [45/102] loss=2.689 weight=2.070 batch={'x': tensor([63, 14]), 'y': tensor([126,  28])} lr=['2.000e-03']\n",
      "[2023-07-21 11:00:08,923 22882:140704357856832][log.py:49 todd.CustomEpochBasedTrainer.custom_epoch_based_trainer after_run_iter] INFO: Iter [50/102] loss=1.280 weight=2.031 batch={'x': tensor([46, 37]), 'y': tensor([92, 74])} lr=['2.000e-03']\n",
      "[2023-07-21 11:00:08,967 22882:140704357856832][log.py:49 todd.CustomEpochBasedTrainer.custom_epoch_based_trainer after_run_iter] INFO: Iter [55/102] loss=0.438 weight=1.971 batch={'x': tensor([26,  4]), 'y': tensor([52,  8])} lr=['2.000e-03']\n",
      "[2023-07-21 11:00:08,973 22882:140704357856832][log.py:49 todd.CustomEpochBasedTrainer.custom_epoch_based_trainer after_run_iter] INFO: Iter [60/102] loss=0.104 weight=2.004 batch={'x': tensor([ 9, 45]), 'y': tensor([18, 90])} lr=['2.000e-03']\n",
      "[2023-07-21 11:00:08,980 22882:140704357856832][log.py:49 todd.CustomEpochBasedTrainer.custom_epoch_based_trainer after_run_iter] INFO: Iter [65/102] loss=0.844 weight=2.032 batch={'x': tensor([51,  2]), 'y': tensor([102,   4])} lr=['2.000e-03']\n",
      "[2023-07-21 11:00:08,983 22882:140704357856832][log.py:55 todd.CustomEpochBasedTrainer.custom_epoch_based_trainer before_run_epoch] INFO: Epoch [3/3]\n",
      "[2023-07-21 11:00:08,987 22882:140704357856832][log.py:49 todd.CustomEpochBasedTrainer.custom_epoch_based_trainer after_run_iter] INFO: Iter [70/102] loss=0.959 weight=1.973 batch={'x': tensor([53, 18]), 'y': tensor([106,  36])} lr=['2.333e-03']\n",
      "[2023-07-21 11:00:08,992 22882:140704357856832][log.py:49 todd.CustomEpochBasedTrainer.custom_epoch_based_trainer after_run_iter] INFO: Iter [75/102] loss=1.480 weight=1.946 batch={'x': tensor([24, 31]), 'y': tensor([48, 62])} lr=['2.333e-03']\n",
      "[2023-07-21 11:00:08,997 22882:140704357856832][log.py:49 todd.CustomEpochBasedTrainer.custom_epoch_based_trainer after_run_iter] INFO: Iter [80/102] loss=0.247 weight=2.009 batch={'x': tensor([49,  5]), 'y': tensor([98, 10])} lr=['2.333e-03']\n",
      "[2023-07-21 11:00:09,004 22882:140704357856832][log.py:49 todd.CustomEpochBasedTrainer.custom_epoch_based_trainer after_run_iter] INFO: Iter [85/102] loss=2.220 weight=1.936 batch={'x': tensor([ 2, 67]), 'y': tensor([  4, 134])} lr=['2.333e-03']\n",
      "[2023-07-21 11:00:09,007 22882:140704357856832][log.py:49 todd.CustomEpochBasedTrainer.custom_epoch_based_trainer after_run_iter] INFO: Iter [90/102] loss=1.147 weight=2.023 batch={'x': tensor([62, 37]), 'y': tensor([124,  74])} lr=['2.333e-03']\n",
      "[2023-07-21 11:00:09,012 22882:140704357856832][log.py:49 todd.CustomEpochBasedTrainer.custom_epoch_based_trainer after_run_iter] INFO: Iter [95/102] loss=3.187 weight=2.085 batch={'x': tensor([63, 12]), 'y': tensor([126,  24])} lr=['2.333e-03']\n",
      "[2023-07-21 11:00:09,018 22882:140704357856832][log.py:49 todd.CustomEpochBasedTrainer.custom_epoch_based_trainer after_run_iter] INFO: Iter [100/102] loss=0.908 weight=2.070 batch={'x': tensor([ 6, 20]), 'y': tensor([12, 40])} lr=['2.333e-03']\n"
     ]
    }
   ],
   "source": [
    "with tempfile.TemporaryDirectory() as work_dirs:\n",
    "    runner: CustomEpochBasedTrainer = todd.RunnerRegistry.build(\n",
    "        lr_schedule_by_epoch_callback_demo,\n",
    "        work_dir=dict(root=work_dirs),\n",
    "    )\n",
    "    runner.run()"
   ]
  },
  {
   "cell_type": "markdown",
   "metadata": {},
   "source": [
    "### Learning Rate Scaler"
   ]
  },
  {
   "cell_type": "code",
   "execution_count": 27,
   "metadata": {},
   "outputs": [],
   "source": [
    "lr_scaler_callback_demo = iter_based_trainer_demo.copy()\n",
    "lr_scaler_callback = todd.Config(\n",
    "    type='LRScaleCallback',\n",
    "    lr_scaler=dict(base_batch_size=1),\n",
    ")\n",
    "lr_scaler_callback_demo.callbacks = [\n",
    "    optimize_callback,\n",
    "    lr_scaler_callback,\n",
    "    log_callback,\n",
    "]"
   ]
  },
  {
   "cell_type": "code",
   "execution_count": 28,
   "metadata": {},
   "outputs": [
    {
     "name": "stderr",
     "output_type": "stream",
     "text": [
      "[2023-07-21 11:00:09,044 22882:140704357856832][lr.py:92 todd.CustomIterBasedTrainer.custom_iter_based_trainer _scale_lr] INFO: base_batch_size=1 batch_size=2 lr_scaler=2.000\n",
      "\u001b[2m[2023-07-21 11:00:09,068 22882:140704357856832][runners.py:61 todd.CustomIterBasedTrainer.custom_iter_based_trainer __init__] DEBUG: Rank 0 initialized by bytedance@C02G870SMD6R\u001b[m\n",
      "[2023-07-21 11:00:09,079 22882:140704357856832][log.py:49 todd.CustomIterBasedTrainer.custom_iter_based_trainer after_run_iter] INFO: Iter [5/53] loss=2.325 weight=1.690 batch={'x': tensor([14,  1]), 'y': tensor([28,  2])}\n",
      "[2023-07-21 11:00:09,087 22882:140704357856832][log.py:49 todd.CustomIterBasedTrainer.custom_iter_based_trainer after_run_iter] INFO: Iter [10/53] loss=3.485 weight=1.915 batch={'x': tensor([25, 57]), 'y': tensor([ 50, 114])}\n",
      "[2023-07-21 11:00:09,092 22882:140704357856832][log.py:49 todd.CustomIterBasedTrainer.custom_iter_based_trainer after_run_iter] INFO: Iter [15/53] loss=7.920 weight=1.835 batch={'x': tensor([54, 42]), 'y': tensor([108,  84])}\n",
      "[2023-07-21 11:00:09,099 22882:140704357856832][log.py:49 todd.CustomIterBasedTrainer.custom_iter_based_trainer after_run_iter] INFO: Iter [20/53] loss=16.000 weight=2.250 batch={'x': tensor([66, 62]), 'y': tensor([132, 124])}\n",
      "[2023-07-21 11:00:09,104 22882:140704357856832][log.py:49 todd.CustomIterBasedTrainer.custom_iter_based_trainer after_run_iter] INFO: Iter [25/53] loss=4.305 weight=2.410 batch={'x': tensor([ 5, 16]), 'y': tensor([10, 32])}\n",
      "[2023-07-21 11:00:09,110 22882:140704357856832][log.py:49 todd.CustomIterBasedTrainer.custom_iter_based_trainer after_run_iter] INFO: Iter [30/53] loss=3.520 weight=2.440 batch={'x': tensor([ 6, 10]), 'y': tensor([12, 20])}\n",
      "[2023-07-21 11:00:09,118 22882:140704357856832][log.py:49 todd.CustomIterBasedTrainer.custom_iter_based_trainer after_run_iter] INFO: Iter [35/53] loss=3.120 weight=2.080 batch={'x': tensor([20, 58]), 'y': tensor([ 40, 116])}\n",
      "[2023-07-21 11:00:09,124 22882:140704357856832][log.py:49 todd.CustomIterBasedTrainer.custom_iter_based_trainer after_run_iter] INFO: Iter [40/53] loss=1.733 weight=2.045 batch={'x': tensor([18, 59]), 'y': tensor([ 36, 118])}\n",
      "[2023-07-21 11:00:09,129 22882:140704357856832][log.py:49 todd.CustomIterBasedTrainer.custom_iter_based_trainer after_run_iter] INFO: Iter [45/53] loss=8.693 weight=2.305 batch={'x': tensor([ 9, 48]), 'y': tensor([18, 96])}\n",
      "[2023-07-21 11:00:09,134 22882:140704357856832][log.py:49 todd.CustomIterBasedTrainer.custom_iter_based_trainer after_run_iter] INFO: Iter [50/53] loss=7.965 weight=2.295 batch={'x': tensor([11, 43]), 'y': tensor([22, 86])}\n"
     ]
    }
   ],
   "source": [
    "with tempfile.TemporaryDirectory() as work_dirs:\n",
    "    runner: CustomIterBasedTrainer = todd.RunnerRegistry.build(\n",
    "        lr_scaler_callback_demo,\n",
    "        work_dir=dict(root=work_dirs),\n",
    "    )\n",
    "    runner.run()"
   ]
  },
  {
   "cell_type": "markdown",
   "metadata": {},
   "source": [
    "### Checkpoint"
   ]
  },
  {
   "cell_type": "code",
   "execution_count": 29,
   "metadata": {},
   "outputs": [],
   "source": [
    "checkpoint_callback_demo = iter_based_trainer_demo.copy()\n",
    "checkpoint_callback = todd.Config(type='CheckpointCallback', interval=10)\n",
    "checkpoint_callback_demo.callbacks = [checkpoint_callback, log_callback]"
   ]
  },
  {
   "cell_type": "code",
   "execution_count": 30,
   "metadata": {},
   "outputs": [
    {
     "name": "stderr",
     "output_type": "stream",
     "text": [
      "\u001b[2m[2023-07-21 11:00:09,176 22882:140704357856832][runners.py:61 todd.CustomIterBasedTrainer.custom_iter_based_trainer __init__] DEBUG: Rank 0 initialized by bytedance@C02G870SMD6R\u001b[m\n",
      "[2023-07-21 11:00:09,182 22882:140704357856832][log.py:49 todd.CustomIterBasedTrainer.custom_iter_based_trainer after_run_iter] INFO: Iter [5/53] loss=90.000 weight=0.000 batch={'x': tensor([67, 23]), 'y': tensor([134,  46])}\n",
      "[2023-07-21 11:00:09,189 22882:140704357856832][checkpoint.py:60 todd.CustomIterBasedTrainer.custom_iter_based_trainer _save] INFO: Saving state dict to /var/folders/v_/1kkfntxs5z74_rwvy1f3_mp80000gn/T/tmpjdkh3gfw/custom_iter_based_trainer/checkpoints/iter_10\n",
      "[2023-07-21 11:00:09,195 22882:140704357856832][log.py:49 todd.CustomIterBasedTrainer.custom_iter_based_trainer after_run_iter] INFO: Iter [10/53] loss=100.000 weight=0.000 batch={'x': tensor([62, 38]), 'y': tensor([124,  76])}\n",
      "[2023-07-21 11:00:09,202 22882:140704357856832][log.py:49 todd.CustomIterBasedTrainer.custom_iter_based_trainer after_run_iter] INFO: Iter [15/53] loss=34.000 weight=0.000 batch={'x': tensor([21, 13]), 'y': tensor([42, 26])}\n",
      "[2023-07-21 11:00:09,207 22882:140704357856832][checkpoint.py:60 todd.CustomIterBasedTrainer.custom_iter_based_trainer _save] INFO: Saving state dict to /var/folders/v_/1kkfntxs5z74_rwvy1f3_mp80000gn/T/tmpjdkh3gfw/custom_iter_based_trainer/checkpoints/iter_20\n",
      "[2023-07-21 11:00:09,211 22882:140704357856832][log.py:49 todd.CustomIterBasedTrainer.custom_iter_based_trainer after_run_iter] INFO: Iter [20/53] loss=78.000 weight=0.000 batch={'x': tensor([51, 27]), 'y': tensor([102,  54])}\n",
      "[2023-07-21 11:00:09,216 22882:140704357856832][log.py:49 todd.CustomIterBasedTrainer.custom_iter_based_trainer after_run_iter] INFO: Iter [25/53] loss=62.000 weight=0.000 batch={'x': tensor([28, 34]), 'y': tensor([56, 68])}\n",
      "[2023-07-21 11:00:09,219 22882:140704357856832][checkpoint.py:60 todd.CustomIterBasedTrainer.custom_iter_based_trainer _save] INFO: Saving state dict to /var/folders/v_/1kkfntxs5z74_rwvy1f3_mp80000gn/T/tmpjdkh3gfw/custom_iter_based_trainer/checkpoints/iter_30\n",
      "[2023-07-21 11:00:09,223 22882:140704357856832][log.py:49 todd.CustomIterBasedTrainer.custom_iter_based_trainer after_run_iter] INFO: Iter [30/53] loss=41.000 weight=0.000 batch={'x': tensor([ 4, 37]), 'y': tensor([ 8, 74])}\n",
      "[2023-07-21 11:00:09,226 22882:140704357856832][log.py:49 todd.CustomIterBasedTrainer.custom_iter_based_trainer after_run_iter] INFO: Iter [35/53] loss=114.000 weight=0.000 batch={'x': tensor([60, 54]), 'y': tensor([120, 108])}\n",
      "[2023-07-21 11:00:09,230 22882:140704357856832][checkpoint.py:60 todd.CustomIterBasedTrainer.custom_iter_based_trainer _save] INFO: Saving state dict to /var/folders/v_/1kkfntxs5z74_rwvy1f3_mp80000gn/T/tmpjdkh3gfw/custom_iter_based_trainer/checkpoints/iter_40\n",
      "[2023-07-21 11:00:09,234 22882:140704357856832][log.py:49 todd.CustomIterBasedTrainer.custom_iter_based_trainer after_run_iter] INFO: Iter [40/53] loss=50.000 weight=0.000 batch={'x': tensor([49,  1]), 'y': tensor([98,  2])}\n",
      "[2023-07-21 11:00:09,237 22882:140704357856832][log.py:49 todd.CustomIterBasedTrainer.custom_iter_based_trainer after_run_iter] INFO: Iter [45/53] loss=66.000 weight=0.000 batch={'x': tensor([61,  5]), 'y': tensor([122,  10])}\n",
      "[2023-07-21 11:00:09,240 22882:140704357856832][checkpoint.py:60 todd.CustomIterBasedTrainer.custom_iter_based_trainer _save] INFO: Saving state dict to /var/folders/v_/1kkfntxs5z74_rwvy1f3_mp80000gn/T/tmpjdkh3gfw/custom_iter_based_trainer/checkpoints/iter_50\n",
      "[2023-07-21 11:00:09,243 22882:140704357856832][log.py:49 todd.CustomIterBasedTrainer.custom_iter_based_trainer after_run_iter] INFO: Iter [50/53] loss=79.000 weight=0.000 batch={'x': tensor([16, 63]), 'y': tensor([ 32, 126])}\n",
      "[2023-07-21 11:00:09,247 22882:140704357856832][checkpoint.py:60 todd.CustomIterBasedTrainer.custom_iter_based_trainer _save] INFO: Saving state dict to /var/folders/v_/1kkfntxs5z74_rwvy1f3_mp80000gn/T/tmpjdkh3gfw/custom_iter_based_trainer/checkpoints/latest\n"
     ]
    },
    {
     "name": "stdout",
     "output_type": "stream",
     "text": [
      "\n",
      "\u001b[1;36m/var/folders/v_/1kkfntxs5z74_rwvy1f3_mp80000gn/T/tmpjdkh3gfw\u001b[0m\n",
      "└── \u001b[1;36mcustom_iter_based_trainer\u001b[0m\n",
      "    ├── 2023-07-21T11-00-09_175601-08-00.log\n",
      "    └── \u001b[1;36mcheckpoints\u001b[0m\n",
      "        ├── \u001b[1;36miter_10\u001b[0m\n",
      "        │   ├── callbacks.pth\n",
      "        │   ├── meta.pth\n",
      "        │   ├── model.pth\n",
      "        │   ├── optim.pth\n",
      "        │   └── strategy.pth\n",
      "        ├── \u001b[1;36miter_20\u001b[0m\n",
      "        │   ├── callbacks.pth\n",
      "        │   ├── meta.pth\n",
      "        │   ├── model.pth\n",
      "        │   ├── optim.pth\n",
      "        │   └── strategy.pth\n",
      "        ├── \u001b[1;36miter_30\u001b[0m\n",
      "        │   ├── callbacks.pth\n",
      "        │   ├── meta.pth\n",
      "        │   ├── model.pth\n",
      "        │   ├── optim.pth\n",
      "        │   └── strategy.pth\n",
      "        ├── \u001b[1;36miter_40\u001b[0m\n",
      "        │   ├── callbacks.pth\n",
      "        │   ├── meta.pth\n",
      "        │   ├── model.pth\n",
      "        │   ├── optim.pth\n",
      "        │   └── strategy.pth\n",
      "        ├── \u001b[1;36miter_50\u001b[0m\n",
      "        │   ├── callbacks.pth\n",
      "        │   ├── meta.pth\n",
      "        │   ├── model.pth\n",
      "        │   ├── optim.pth\n",
      "        │   └── strategy.pth\n",
      "        └── \u001b[1;36mlatest\u001b[0m\n",
      "            ├── callbacks.pth\n",
      "            ├── meta.pth\n",
      "            ├── model.pth\n",
      "            ├── optim.pth\n",
      "            └── strategy.pth\n",
      "\n",
      "9 directories, 31 files\n",
      "\n",
      "strategy.pth:\n",
      "{}\n",
      "\n",
      "optim.pth:\n",
      "{'param_groups': [{'dampening': 0,\n",
      "                   'differentiable': False,\n",
      "                   'foreach': None,\n",
      "                   'lr': 0.005,\n",
      "                   'maximize': False,\n",
      "                   'momentum': 0,\n",
      "                   'nesterov': False,\n",
      "                   'params': [0],\n",
      "                   'weight_decay': 0}],\n",
      " 'state': {}}\n",
      "\n",
      "meta.pth:\n",
      "{'iter_': 50}\n",
      "\n",
      "model.pth:\n",
      "OrderedDict([('_weight', tensor(0.))])\n",
      "\n",
      "callbacks.pth:\n",
      "{'callbacks': [{}, {}]}\n",
      "\n"
     ]
    }
   ],
   "source": [
    "with tempfile.TemporaryDirectory() as work_dirs:\n",
    "    runner: CustomIterBasedTrainer = todd.RunnerRegistry.build(\n",
    "        checkpoint_callback_demo, \n",
    "        work_dir=dict(root=work_dirs),\n",
    "    )\n",
    "    runner.run()\n",
    "\n",
    "    !echo\n",
    "    !tree {work_dirs}\n",
    "    !echo\n",
    "\n",
    "    iter_50 = pathlib.Path(work_dirs) / 'custom_iter_based_trainer' / 'checkpoints' / 'iter_50'\n",
    "    for f in iter_50.glob('*.pth'):\n",
    "        print(f\"{f.name}:\")\n",
    "        pprint(torch.load(f, 'cpu'))\n",
    "        print()"
   ]
  },
  {
   "cell_type": "code",
   "execution_count": 31,
   "metadata": {},
   "outputs": [],
   "source": [
    "checkpoint_by_epoch_callback_demo = epoch_based_trainer_demo.copy()\n",
    "checkpoint_by_epoch_callback = checkpoint_callback.copy()\n",
    "checkpoint_by_epoch_callback.update(interval=1, by_epoch=True)\n",
    "checkpoint_by_epoch_callback_demo.callbacks = [\n",
    "    checkpoint_by_epoch_callback,\n",
    "    log_callback,\n",
    "]"
   ]
  },
  {
   "cell_type": "code",
   "execution_count": 32,
   "metadata": {},
   "outputs": [
    {
     "name": "stderr",
     "output_type": "stream",
     "text": [
      "\u001b[2m[2023-07-21 11:00:09,771 22882:140704357856832][runners.py:61 todd.CustomEpochBasedTrainer.custom_epoch_based_trainer __init__] DEBUG: Rank 0 initialized by bytedance@C02G870SMD6R\u001b[m\n",
      "[2023-07-21 11:00:09,773 22882:140704357856832][log.py:55 todd.CustomEpochBasedTrainer.custom_epoch_based_trainer before_run_epoch] INFO: Epoch [1/3]\n",
      "[2023-07-21 11:00:09,778 22882:140704357856832][log.py:49 todd.CustomEpochBasedTrainer.custom_epoch_based_trainer after_run_iter] INFO: Iter [5/102] loss=124.000 weight=0.000 batch={'x': tensor([61, 63]), 'y': tensor([122, 126])}\n",
      "[2023-07-21 11:00:09,786 22882:140704357856832][log.py:49 todd.CustomEpochBasedTrainer.custom_epoch_based_trainer after_run_iter] INFO: Iter [10/102] loss=70.000 weight=0.000 batch={'x': tensor([48, 22]), 'y': tensor([96, 44])}\n",
      "[2023-07-21 11:00:09,791 22882:140704357856832][log.py:49 todd.CustomEpochBasedTrainer.custom_epoch_based_trainer after_run_iter] INFO: Iter [15/102] loss=43.000 weight=0.000 batch={'x': tensor([ 5, 38]), 'y': tensor([10, 76])}\n",
      "[2023-07-21 11:00:09,794 22882:140704357856832][log.py:49 todd.CustomEpochBasedTrainer.custom_epoch_based_trainer after_run_iter] INFO: Iter [20/102] loss=65.000 weight=0.000 batch={'x': tensor([28, 37]), 'y': tensor([56, 74])}\n",
      "[2023-07-21 11:00:09,798 22882:140704357856832][log.py:49 todd.CustomEpochBasedTrainer.custom_epoch_based_trainer after_run_iter] INFO: Iter [25/102] loss=70.000 weight=0.000 batch={'x': tensor([30, 40]), 'y': tensor([60, 80])}\n",
      "[2023-07-21 11:00:09,803 22882:140704357856832][log.py:49 todd.CustomEpochBasedTrainer.custom_epoch_based_trainer after_run_iter] INFO: Iter [30/102] loss=73.000 weight=0.000 batch={'x': tensor([65,  8]), 'y': tensor([130,  16])}\n",
      "[2023-07-21 11:00:09,808 22882:140704357856832][checkpoint.py:60 todd.CustomEpochBasedTrainer.custom_epoch_based_trainer _save] INFO: Saving state dict to /var/folders/v_/1kkfntxs5z74_rwvy1f3_mp80000gn/T/tmpl3kortw4/custom_epoch_based_trainer/checkpoints/epoch_1\n",
      "[2023-07-21 11:00:09,812 22882:140704357856832][log.py:55 todd.CustomEpochBasedTrainer.custom_epoch_based_trainer before_run_epoch] INFO: Epoch [2/3]\n",
      "[2023-07-21 11:00:09,815 22882:140704357856832][log.py:49 todd.CustomEpochBasedTrainer.custom_epoch_based_trainer after_run_iter] INFO: Iter [35/102] loss=125.000 weight=0.000 batch={'x': tensor([67, 58]), 'y': tensor([134, 116])}\n",
      "[2023-07-21 11:00:09,820 22882:140704357856832][log.py:49 todd.CustomEpochBasedTrainer.custom_epoch_based_trainer after_run_iter] INFO: Iter [40/102] loss=94.000 weight=0.000 batch={'x': tensor([33, 61]), 'y': tensor([ 66, 122])}\n",
      "[2023-07-21 11:00:09,825 22882:140704357856832][log.py:49 todd.CustomEpochBasedTrainer.custom_epoch_based_trainer after_run_iter] INFO: Iter [45/102] loss=22.000 weight=0.000 batch={'x': tensor([12, 10]), 'y': tensor([24, 20])}\n",
      "[2023-07-21 11:00:09,829 22882:140704357856832][log.py:49 todd.CustomEpochBasedTrainer.custom_epoch_based_trainer after_run_iter] INFO: Iter [50/102] loss=56.000 weight=0.000 batch={'x': tensor([41, 15]), 'y': tensor([82, 30])}\n",
      "[2023-07-21 11:00:09,832 22882:140704357856832][log.py:49 todd.CustomEpochBasedTrainer.custom_epoch_based_trainer after_run_iter] INFO: Iter [55/102] loss=84.000 weight=0.000 batch={'x': tensor([65, 19]), 'y': tensor([130,  38])}\n",
      "[2023-07-21 11:00:09,836 22882:140704357856832][log.py:49 todd.CustomEpochBasedTrainer.custom_epoch_based_trainer after_run_iter] INFO: Iter [60/102] loss=20.000 weight=0.000 batch={'x': tensor([17,  3]), 'y': tensor([34,  6])}\n",
      "[2023-07-21 11:00:09,839 22882:140704357856832][log.py:49 todd.CustomEpochBasedTrainer.custom_epoch_based_trainer after_run_iter] INFO: Iter [65/102] loss=41.000 weight=0.000 batch={'x': tensor([35,  6]), 'y': tensor([70, 12])}\n",
      "[2023-07-21 11:00:09,843 22882:140704357856832][checkpoint.py:60 todd.CustomEpochBasedTrainer.custom_epoch_based_trainer _save] INFO: Saving state dict to /var/folders/v_/1kkfntxs5z74_rwvy1f3_mp80000gn/T/tmpl3kortw4/custom_epoch_based_trainer/checkpoints/epoch_2\n",
      "[2023-07-21 11:00:09,846 22882:140704357856832][log.py:55 todd.CustomEpochBasedTrainer.custom_epoch_based_trainer before_run_epoch] INFO: Epoch [3/3]\n",
      "[2023-07-21 11:00:09,849 22882:140704357856832][log.py:49 todd.CustomEpochBasedTrainer.custom_epoch_based_trainer after_run_iter] INFO: Iter [70/102] loss=115.000 weight=0.000 batch={'x': tensor([58, 57]), 'y': tensor([116, 114])}\n",
      "[2023-07-21 11:00:09,852 22882:140704357856832][log.py:49 todd.CustomEpochBasedTrainer.custom_epoch_based_trainer after_run_iter] INFO: Iter [75/102] loss=110.000 weight=0.000 batch={'x': tensor([48, 62]), 'y': tensor([ 96, 124])}\n",
      "[2023-07-21 11:00:09,856 22882:140704357856832][log.py:49 todd.CustomEpochBasedTrainer.custom_epoch_based_trainer after_run_iter] INFO: Iter [80/102] loss=62.000 weight=0.000 batch={'x': tensor([42, 20]), 'y': tensor([84, 40])}\n",
      "[2023-07-21 11:00:09,859 22882:140704357856832][log.py:49 todd.CustomEpochBasedTrainer.custom_epoch_based_trainer after_run_iter] INFO: Iter [85/102] loss=67.000 weight=0.000 batch={'x': tensor([40, 27]), 'y': tensor([80, 54])}\n"
     ]
    },
    {
     "name": "stderr",
     "output_type": "stream",
     "text": [
      "[2023-07-21 11:00:09,863 22882:140704357856832][log.py:49 todd.CustomEpochBasedTrainer.custom_epoch_based_trainer after_run_iter] INFO: Iter [90/102] loss=58.000 weight=0.000 batch={'x': tensor([37, 21]), 'y': tensor([74, 42])}\n",
      "[2023-07-21 11:00:09,867 22882:140704357856832][log.py:49 todd.CustomEpochBasedTrainer.custom_epoch_based_trainer after_run_iter] INFO: Iter [95/102] loss=39.000 weight=0.000 batch={'x': tensor([16, 23]), 'y': tensor([32, 46])}\n",
      "[2023-07-21 11:00:09,871 22882:140704357856832][log.py:49 todd.CustomEpochBasedTrainer.custom_epoch_based_trainer after_run_iter] INFO: Iter [100/102] loss=52.000 weight=0.000 batch={'x': tensor([41, 11]), 'y': tensor([82, 22])}\n",
      "[2023-07-21 11:00:09,873 22882:140704357856832][checkpoint.py:60 todd.CustomEpochBasedTrainer.custom_epoch_based_trainer _save] INFO: Saving state dict to /var/folders/v_/1kkfntxs5z74_rwvy1f3_mp80000gn/T/tmpl3kortw4/custom_epoch_based_trainer/checkpoints/epoch_3\n",
      "[2023-07-21 11:00:09,879 22882:140704357856832][checkpoint.py:60 todd.CustomEpochBasedTrainer.custom_epoch_based_trainer _save] INFO: Saving state dict to /var/folders/v_/1kkfntxs5z74_rwvy1f3_mp80000gn/T/tmpl3kortw4/custom_epoch_based_trainer/checkpoints/latest\n"
     ]
    },
    {
     "name": "stdout",
     "output_type": "stream",
     "text": [
      "\n",
      "\u001b[1;36m/var/folders/v_/1kkfntxs5z74_rwvy1f3_mp80000gn/T/tmpl3kortw4\u001b[0m\n",
      "└── \u001b[1;36mcustom_epoch_based_trainer\u001b[0m\n",
      "    ├── 2023-07-21T11-00-09_770773-08-00.log\n",
      "    └── \u001b[1;36mcheckpoints\u001b[0m\n",
      "        ├── \u001b[1;36mepoch_1\u001b[0m\n",
      "        │   ├── callbacks.pth\n",
      "        │   ├── meta.pth\n",
      "        │   ├── model.pth\n",
      "        │   ├── optim.pth\n",
      "        │   └── strategy.pth\n",
      "        ├── \u001b[1;36mepoch_2\u001b[0m\n",
      "        │   ├── callbacks.pth\n",
      "        │   ├── meta.pth\n",
      "        │   ├── model.pth\n",
      "        │   ├── optim.pth\n",
      "        │   └── strategy.pth\n",
      "        ├── \u001b[1;36mepoch_3\u001b[0m\n",
      "        │   ├── callbacks.pth\n",
      "        │   ├── meta.pth\n",
      "        │   ├── model.pth\n",
      "        │   ├── optim.pth\n",
      "        │   └── strategy.pth\n",
      "        └── \u001b[1;36mlatest\u001b[0m\n",
      "            ├── callbacks.pth\n",
      "            ├── meta.pth\n",
      "            ├── model.pth\n",
      "            ├── optim.pth\n",
      "            └── strategy.pth\n",
      "\n",
      "7 directories, 21 files\n",
      "\n",
      "strategy.pth:\n",
      "{}\n",
      "\n",
      "optim.pth:\n",
      "{'param_groups': [{'dampening': 0,\n",
      "                   'differentiable': False,\n",
      "                   'foreach': None,\n",
      "                   'lr': 0.005,\n",
      "                   'maximize': False,\n",
      "                   'momentum': 0,\n",
      "                   'nesterov': False,\n",
      "                   'params': [0],\n",
      "                   'weight_decay': 0}],\n",
      " 'state': {}}\n",
      "\n",
      "meta.pth:\n",
      "{'epoch': 2, 'iter_': 68}\n",
      "\n",
      "model.pth:\n",
      "OrderedDict([('_weight', tensor(0.))])\n",
      "\n",
      "callbacks.pth:\n",
      "{'callbacks': [{}, {}]}\n",
      "\n"
     ]
    }
   ],
   "source": [
    "with tempfile.TemporaryDirectory() as work_dirs:\n",
    "    runner: CustomEpochBasedTrainer = todd.RunnerRegistry.build(\n",
    "        checkpoint_by_epoch_callback_demo, \n",
    "        work_dir=dict(root=work_dirs),\n",
    "    )\n",
    "    runner.run()\n",
    "\n",
    "    !echo\n",
    "    !tree {work_dirs}\n",
    "    !echo\n",
    "\n",
    "    epoch_2 = pathlib.Path(work_dirs) / 'custom_epoch_based_trainer' / 'checkpoints' / 'epoch_2'\n",
    "    for f in epoch_2.glob('*.pth'):\n",
    "        print(f\"{f.name}:\")\n",
    "        pprint(torch.load(f, 'cpu'))\n",
    "        print()"
   ]
  },
  {
   "cell_type": "code",
   "execution_count": 33,
   "metadata": {},
   "outputs": [],
   "source": [
    "checkpoint_load_from_callback_demo = checkpoint_by_epoch_callback_demo.copy()\n",
    "checkpoint_load_from_callback_demo.callbacks = [\n",
    "    optimize_callback,\n",
    "    checkpoint_by_epoch_callback,\n",
    "    log_callback,\n",
    "]"
   ]
  },
  {
   "cell_type": "code",
   "execution_count": 34,
   "metadata": {},
   "outputs": [
    {
     "name": "stderr",
     "output_type": "stream",
     "text": [
      "\u001b[2m[2023-07-21 11:00:10,412 22882:140704357856832][runners.py:61 todd.CustomEpochBasedTrainer.custom_epoch_based_trainer __init__] DEBUG: Rank 0 initialized by bytedance@C02G870SMD6R\u001b[m\n",
      "[2023-07-21 11:00:10,414 22882:140704357856832][log.py:55 todd.CustomEpochBasedTrainer.custom_epoch_based_trainer before_run_epoch] INFO: Epoch [1/3]\n",
      "[2023-07-21 11:00:10,420 22882:140704357856832][log.py:49 todd.CustomEpochBasedTrainer.custom_epoch_based_trainer after_run_iter] INFO: Iter [5/102] loss=15.600 weight=0.800 batch={'x': tensor([ 6, 20]), 'y': tensor([12, 40])}\n",
      "[2023-07-21 11:00:10,426 22882:140704357856832][log.py:49 todd.CustomEpochBasedTrainer.custom_epoch_based_trainer after_run_iter] INFO: Iter [10/102] loss=15.159 weight=1.547 batch={'x': tensor([31, 36]), 'y': tensor([62, 72])}\n",
      "[2023-07-21 11:00:10,433 22882:140704357856832][log.py:49 todd.CustomEpochBasedTrainer.custom_epoch_based_trainer after_run_iter] INFO: Iter [15/102] loss=7.250 weight=2.145 batch={'x': tensor([44, 56]), 'y': tensor([ 88, 112])}\n",
      "[2023-07-21 11:00:10,439 22882:140704357856832][log.py:49 todd.CustomEpochBasedTrainer.custom_epoch_based_trainer after_run_iter] INFO: Iter [20/102] loss=1.148 weight=1.955 batch={'x': tensor([32, 19]), 'y': tensor([64, 38])}\n",
      "[2023-07-21 11:00:10,445 22882:140704357856832][log.py:49 todd.CustomEpochBasedTrainer.custom_epoch_based_trainer after_run_iter] INFO: Iter [25/102] loss=9.300 weight=2.300 batch={'x': tensor([29, 33]), 'y': tensor([58, 66])}\n",
      "[2023-07-21 11:00:10,451 22882:140704357856832][log.py:49 todd.CustomEpochBasedTrainer.custom_epoch_based_trainer after_run_iter] INFO: Iter [30/102] loss=2.125 weight=2.042 batch={'x': tensor([57, 43]), 'y': tensor([114,  86])}\n",
      "[2023-07-21 11:00:10,457 22882:140704357856832][checkpoint.py:60 todd.CustomEpochBasedTrainer.custom_epoch_based_trainer _save] INFO: Saving state dict to /var/folders/v_/1kkfntxs5z74_rwvy1f3_mp80000gn/T/tmpty_5xt_v/custom_epoch_based_trainer/checkpoints/epoch_1\n",
      "[2023-07-21 11:00:10,462 22882:140704357856832][log.py:55 todd.CustomEpochBasedTrainer.custom_epoch_based_trainer before_run_epoch] INFO: Epoch [2/3]\n",
      "[2023-07-21 11:00:10,466 22882:140704357856832][log.py:49 todd.CustomEpochBasedTrainer.custom_epoch_based_trainer after_run_iter] INFO: Iter [35/102] loss=1.384 weight=1.977 batch={'x': tensor([60, 63]), 'y': tensor([120, 126])}\n",
      "[2023-07-21 11:00:10,472 22882:140704357856832][log.py:49 todd.CustomEpochBasedTrainer.custom_epoch_based_trainer after_run_iter] INFO: Iter [40/102] loss=2.494 weight=2.087 batch={'x': tensor([34, 23]), 'y': tensor([68, 46])}\n",
      "[2023-07-21 11:00:10,477 22882:140704357856832][log.py:49 todd.CustomEpochBasedTrainer.custom_epoch_based_trainer after_run_iter] INFO: Iter [45/102] loss=4.440 weight=2.080 batch={'x': tensor([47, 64]), 'y': tensor([ 94, 128])}\n",
      "[2023-07-21 11:00:10,483 22882:140704357856832][log.py:49 todd.CustomEpochBasedTrainer.custom_epoch_based_trainer after_run_iter] INFO: Iter [50/102] loss=4.538 weight=1.862 batch={'x': tensor([12, 54]), 'y': tensor([ 24, 108])}\n",
      "[2023-07-21 11:00:10,488 22882:140704357856832][log.py:49 todd.CustomEpochBasedTrainer.custom_epoch_based_trainer after_run_iter] INFO: Iter [55/102] loss=2.350 weight=2.050 batch={'x': tensor([59, 35]), 'y': tensor([118,  70])}\n",
      "[2023-07-21 11:00:10,493 22882:140704357856832][log.py:49 todd.CustomEpochBasedTrainer.custom_epoch_based_trainer after_run_iter] INFO: Iter [60/102] loss=1.275 weight=2.037 batch={'x': tensor([57, 11]), 'y': tensor([114,  22])}\n",
      "[2023-07-21 11:00:10,499 22882:140704357856832][log.py:49 todd.CustomEpochBasedTrainer.custom_epoch_based_trainer after_run_iter] INFO: Iter [65/102] loss=8.459 weight=2.252 batch={'x': tensor([66,  1]), 'y': tensor([132,   2])}\n",
      "[2023-07-21 11:00:10,502 22882:140704357856832][checkpoint.py:60 todd.CustomEpochBasedTrainer.custom_epoch_based_trainer _save] INFO: Saving state dict to /var/folders/v_/1kkfntxs5z74_rwvy1f3_mp80000gn/T/tmpty_5xt_v/custom_epoch_based_trainer/checkpoints/epoch_2\n",
      "[2023-07-21 11:00:10,528 22882:140704357856832][log.py:55 todd.CustomEpochBasedTrainer.custom_epoch_based_trainer before_run_epoch] INFO: Epoch [3/3]\n",
      "[2023-07-21 11:00:10,536 22882:140704357856832][log.py:49 todd.CustomEpochBasedTrainer.custom_epoch_based_trainer after_run_iter] INFO: Iter [70/102] loss=2.750 weight=2.220 batch={'x': tensor([17,  8]), 'y': tensor([34, 16])}\n",
      "[2023-07-21 11:00:10,543 22882:140704357856832][log.py:49 todd.CustomEpochBasedTrainer.custom_epoch_based_trainer after_run_iter] INFO: Iter [75/102] loss=2.588 weight=1.885 batch={'x': tensor([ 7, 38]), 'y': tensor([14, 76])}\n"
     ]
    },
    {
     "name": "stderr",
     "output_type": "stream",
     "text": [
      "[2023-07-21 11:00:10,551 22882:140704357856832][log.py:49 todd.CustomEpochBasedTrainer.custom_epoch_based_trainer after_run_iter] INFO: Iter [80/102] loss=2.700 weight=1.910 batch={'x': tensor([27, 33]), 'y': tensor([54, 66])}\n",
      "[2023-07-21 11:00:10,558 22882:140704357856832][log.py:49 todd.CustomEpochBasedTrainer.custom_epoch_based_trainer after_run_iter] INFO: Iter [85/102] loss=4.575 weight=1.850 batch={'x': tensor([ 3, 58]), 'y': tensor([  6, 116])}\n",
      "[2023-07-21 11:00:10,564 22882:140704357856832][log.py:49 todd.CustomEpochBasedTrainer.custom_epoch_based_trainer after_run_iter] INFO: Iter [90/102] loss=0.035 weight=2.002 batch={'x': tensor([ 4, 24]), 'y': tensor([ 8, 48])}\n",
      "[2023-07-21 11:00:10,571 22882:140704357856832][log.py:49 todd.CustomEpochBasedTrainer.custom_epoch_based_trainer after_run_iter] INFO: Iter [95/102] loss=6.037 weight=2.115 batch={'x': tensor([59, 46]), 'y': tensor([118,  92])}\n",
      "[2023-07-21 11:00:10,577 22882:140704357856832][log.py:49 todd.CustomEpochBasedTrainer.custom_epoch_based_trainer after_run_iter] INFO: Iter [100/102] loss=4.515 weight=1.892 batch={'x': tensor([55, 29]), 'y': tensor([110,  58])}\n",
      "[2023-07-21 11:00:10,582 22882:140704357856832][checkpoint.py:60 todd.CustomEpochBasedTrainer.custom_epoch_based_trainer _save] INFO: Saving state dict to /var/folders/v_/1kkfntxs5z74_rwvy1f3_mp80000gn/T/tmpty_5xt_v/custom_epoch_based_trainer/checkpoints/epoch_3\n",
      "[2023-07-21 11:00:10,588 22882:140704357856832][checkpoint.py:60 todd.CustomEpochBasedTrainer.custom_epoch_based_trainer _save] INFO: Saving state dict to /var/folders/v_/1kkfntxs5z74_rwvy1f3_mp80000gn/T/tmpty_5xt_v/custom_epoch_based_trainer/checkpoints/latest\n"
     ]
    },
    {
     "name": "stdout",
     "output_type": "stream",
     "text": [
      "\n",
      "--------------------\n",
      "\n"
     ]
    },
    {
     "name": "stderr",
     "output_type": "stream",
     "text": [
      "[2023-07-21 11:00:11,018 22882:140704357856832][checkpoint.py:45 todd.CustomEpochBasedTrainer.custom_epoch_based_trainer connect] INFO: Loading from /var/folders/v_/1kkfntxs5z74_rwvy1f3_mp80000gn/T/tmpty_5xt_v/custom_epoch_based_trainer/checkpoints/epoch_2\n",
      "\u001b[2m[2023-07-21 11:00:11,022 22882:140704357856832][runners.py:61 todd.CustomEpochBasedTrainer.custom_epoch_based_trainer __init__] DEBUG: Rank 0 initialized by bytedance@C02G870SMD6R\u001b[m\n",
      "[2023-07-21 11:00:11,023 22882:140704357856832][log.py:55 todd.CustomEpochBasedTrainer.custom_epoch_based_trainer before_run_epoch] INFO: Epoch [3/3]\n",
      "[2023-07-21 11:00:11,027 22882:140704357856832][log.py:49 todd.CustomEpochBasedTrainer.custom_epoch_based_trainer after_run_iter] INFO: Iter [70/102] loss=9.315 weight=2.172 batch={'x': tensor([61, 47]), 'y': tensor([122,  94])}\n",
      "[2023-07-21 11:00:11,029 22882:140704357856832][log.py:49 todd.CustomEpochBasedTrainer.custom_epoch_based_trainer after_run_iter] INFO: Iter [75/102] loss=3.251 weight=1.872 batch={'x': tensor([ 1, 50]), 'y': tensor([  2, 100])}\n",
      "[2023-07-21 11:00:11,033 22882:140704357856832][log.py:49 todd.CustomEpochBasedTrainer.custom_epoch_based_trainer after_run_iter] INFO: Iter [80/102] loss=0.875 weight=1.937 batch={'x': tensor([12, 16]), 'y': tensor([24, 32])}\n",
      "[2023-07-21 11:00:11,037 22882:140704357856832][log.py:49 todd.CustomEpochBasedTrainer.custom_epoch_based_trainer after_run_iter] INFO: Iter [85/102] loss=4.107 weight=2.132 batch={'x': tensor([39, 23]), 'y': tensor([78, 46])}\n",
      "[2023-07-21 11:00:11,040 22882:140704357856832][log.py:49 todd.CustomEpochBasedTrainer.custom_epoch_based_trainer after_run_iter] INFO: Iter [90/102] loss=3.570 weight=2.127 batch={'x': tensor([27, 29]), 'y': tensor([54, 58])}\n",
      "[2023-07-21 11:00:11,043 22882:140704357856832][log.py:49 todd.CustomEpochBasedTrainer.custom_epoch_based_trainer after_run_iter] INFO: Iter [95/102] loss=2.580 weight=2.060 batch={'x': tensor([37, 49]), 'y': tensor([74, 98])}\n",
      "[2023-07-21 11:00:11,046 22882:140704357856832][log.py:49 todd.CustomEpochBasedTrainer.custom_epoch_based_trainer after_run_iter] INFO: Iter [100/102] loss=7.140 weight=2.210 batch={'x': tensor([ 2, 66]), 'y': tensor([  4, 132])}\n",
      "[2023-07-21 11:00:11,048 22882:140704357856832][checkpoint.py:60 todd.CustomEpochBasedTrainer.custom_epoch_based_trainer _save] INFO: Saving state dict to /var/folders/v_/1kkfntxs5z74_rwvy1f3_mp80000gn/T/tmpty_5xt_v/custom_epoch_based_trainer/checkpoints/epoch_3\n",
      "[2023-07-21 11:00:11,051 22882:140704357856832][checkpoint.py:60 todd.CustomEpochBasedTrainer.custom_epoch_based_trainer _save] INFO: Saving state dict to /var/folders/v_/1kkfntxs5z74_rwvy1f3_mp80000gn/T/tmpty_5xt_v/custom_epoch_based_trainer/checkpoints/latest\n"
     ]
    }
   ],
   "source": [
    "with tempfile.TemporaryDirectory() as work_dirs:\n",
    "    runner: CustomEpochBasedTrainer = todd.RunnerRegistry.build(\n",
    "        checkpoint_load_from_callback_demo, \n",
    "        work_dir=dict(root=work_dirs),\n",
    "    )\n",
    "    runner.run()\n",
    "\n",
    "    !echo\n",
    "    !echo {'-' * 20}\n",
    "    !echo\n",
    "\n",
    "    runner: CustomEpochBasedTrainer = todd.RunnerRegistry.build(\n",
    "        checkpoint_load_from_callback_demo, \n",
    "        work_dir=dict(root=work_dirs),\n",
    "        load_from=os.path.join(work_dirs, 'custom_epoch_based_trainer', 'checkpoints', 'epoch_2')\n",
    "    )\n",
    "    runner.run()"
   ]
  },
  {
   "cell_type": "markdown",
   "metadata": {},
   "source": [
    "### Monitor"
   ]
  },
  {
   "cell_type": "code",
   "execution_count": 35,
   "metadata": {},
   "outputs": [],
   "source": [
    "class CustomError(RuntimeError):\n",
    "    pass"
   ]
  },
  {
   "cell_type": "code",
   "execution_count": 36,
   "metadata": {},
   "outputs": [],
   "source": [
    "class FaultyRunnerMixin(todd.runners.BaseRunner):\n",
    "\n",
    "    def _run_iter(self, *args, **kwargs) -> NoReturn:\n",
    "        raise CustomError('faulty runner')"
   ]
  },
  {
   "cell_type": "code",
   "execution_count": 37,
   "metadata": {},
   "outputs": [],
   "source": [
    "@todd.RunnerRegistry.register()\n",
    "class FaultyValidator(FaultyRunnerMixin, todd.runners.Validator):\n",
    "    pass"
   ]
  },
  {
   "cell_type": "code",
   "execution_count": 38,
   "metadata": {},
   "outputs": [],
   "source": [
    "@todd.RunnerRegistry.register()\n",
    "class FaultyIterBasedTrainer(FaultyRunnerMixin, todd.runners.IterBasedTrainer):\n",
    "    pass"
   ]
  },
  {
   "cell_type": "code",
   "execution_count": 39,
   "metadata": {},
   "outputs": [],
   "source": [
    "@todd.RunnerRegistry.register()\n",
    "class FaultyEpochBasedTrainer(\n",
    "    FaultyRunnerMixin,\n",
    "    todd.runners.EpochBasedTrainer,\n",
    "):\n",
    "    pass"
   ]
  },
  {
   "cell_type": "code",
   "execution_count": 40,
   "metadata": {},
   "outputs": [],
   "source": [
    "monitor_callback_demo = validator_demo.copy()\n",
    "monitor_callback_demo.type = 'FaultyValidator'\n",
    "monitor_callback = todd.Config(type='MonitorCallback')\n",
    "monitor_callback_demo.callbacks = [monitor_callback, log_callback]"
   ]
  },
  {
   "cell_type": "code",
   "execution_count": 41,
   "metadata": {},
   "outputs": [
    {
     "name": "stderr",
     "output_type": "stream",
     "text": [
      "\u001b[2m[2023-07-21 11:00:11,109 22882:140704357856832][runners.py:61 todd.FaultyValidator.custom_validator __init__] DEBUG: Rank 0 initialized by bytedance@C02G870SMD6R\u001b[m\n",
      "\u001b[1;31m[2023-07-21 11:00:11,111 22882:140704357856832][monitor.py:29 todd.FaultyValidator.custom_validator __exit__] ERROR: Unable to run iter_=1\n",
      "batch={'x': tensor([1]), 'y': tensor([2])}\n",
      "memo={'dataloader': <torch.utils.data.dataloader.DataLoader object at 0x14fe15ed0>}\n",
      "Traceback (most recent call last):\n",
      "  File \"/Users/bytedance/.local/share/virtualenvs/todd-ARrcnwyq/lib/python3.11/site-packages/todd/runners/runners.py\", line 200, in _run\n",
      "    memo = self._run_iter(batch, memo)\n",
      "           ^^^^^^^^^^^^^^^^^^^^^^^^^^^\n",
      "  File \"/var/folders/v_/1kkfntxs5z74_rwvy1f3_mp80000gn/T/ipykernel_22882/2137902126.py\", line 4, in _run_iter\n",
      "    raise CustomError('faulty runner')\n",
      "CustomError: faulty runner\u001b[m\n"
     ]
    },
    {
     "name": "stdout",
     "output_type": "stream",
     "text": [
      "\n",
      "[2023-07-21 11:00:11,109 22882:140704357856832][runners.py:61 todd.FaultyValidator.custom_validator __init__] DEBUG: Rank 0 initialized by bytedance@C02G870SMD6R\n",
      "[2023-07-21 11:00:11,111 22882:140704357856832][monitor.py:29 todd.FaultyValidator.custom_validator __exit__] ERROR: Unable to run iter_=1\n",
      "batch={'x': tensor([1]), 'y': tensor([2])}\n",
      "memo={'dataloader': <torch.utils.data.dataloader.DataLoader object at 0x14fe15ed0>}\n",
      "Traceback (most recent call last):\n",
      "  File \"/Users/bytedance/.local/share/virtualenvs/todd-ARrcnwyq/lib/python3.11/site-packages/todd/runners/runners.py\", line 200, in _run\n",
      "    memo = self._run_iter(batch, memo)\n",
      "           ^^^^^^^^^^^^^^^^^^^^^^^^^^^\n",
      "  File \"/var/folders/v_/1kkfntxs5z74_rwvy1f3_mp80000gn/T/ipykernel_22882/2137902126.py\", line 4, in _run_iter\n",
      "    raise CustomError('faulty runner')\n",
      "CustomError: faulty runner\n"
     ]
    }
   ],
   "source": [
    "with tempfile.TemporaryDirectory() as work_dirs:\n",
    "    runner: CustomValidator = todd.RunnerRegistry.build(\n",
    "        monitor_callback_demo, \n",
    "        work_dir=dict(root=work_dirs),\n",
    "    )\n",
    "    try:\n",
    "        runner.run()\n",
    "    except CustomError as e:\n",
    "        pass\n",
    "\n",
    "    !echo\n",
    "    !cat {work_dirs}/custom_validator/*.log"
   ]
  },
  {
   "cell_type": "markdown",
   "metadata": {},
   "source": [
    "### Priorities"
   ]
  },
  {
   "cell_type": "markdown",
   "metadata": {},
   "source": [
    "## Strategies"
   ]
  },
  {
   "cell_type": "code",
   "execution_count": 42,
   "metadata": {},
   "outputs": [],
   "source": [
    "strategy_load_model_from_demo = checkpoint_load_from_callback_demo.copy()"
   ]
  },
  {
   "cell_type": "code",
   "execution_count": 43,
   "metadata": {},
   "outputs": [
    {
     "name": "stderr",
     "output_type": "stream",
     "text": [
      "\u001b[2m[2023-07-21 11:00:11,406 22882:140704357856832][runners.py:61 todd.CustomEpochBasedTrainer.custom_epoch_based_trainer __init__] DEBUG: Rank 0 initialized by bytedance@C02G870SMD6R\u001b[m\n",
      "[2023-07-21 11:00:11,407 22882:140704357856832][log.py:55 todd.CustomEpochBasedTrainer.custom_epoch_based_trainer before_run_epoch] INFO: Epoch [1/3]\n",
      "[2023-07-21 11:00:11,412 22882:140704357856832][log.py:49 todd.CustomEpochBasedTrainer.custom_epoch_based_trainer after_run_iter] INFO: Iter [5/102] loss=93.006 weight=0.382 batch={'x': tensor([62, 53]), 'y': tensor([124, 106])}\n",
      "[2023-07-21 11:00:11,416 22882:140704357856832][log.py:49 todd.CustomEpochBasedTrainer.custom_epoch_based_trainer after_run_iter] INFO: Iter [10/102] loss=21.133 weight=1.465 batch={'x': tensor([38, 41]), 'y': tensor([76, 82])}\n",
      "[2023-07-21 11:00:11,419 22882:140704357856832][log.py:49 todd.CustomEpochBasedTrainer.custom_epoch_based_trainer after_run_iter] INFO: Iter [15/102] loss=1.210 weight=2.027 batch={'x': tensor([59, 29]), 'y': tensor([118,  58])}\n",
      "[2023-07-21 11:00:11,423 22882:140704357856832][log.py:49 todd.CustomEpochBasedTrainer.custom_epoch_based_trainer after_run_iter] INFO: Iter [20/102] loss=2.574 weight=2.072 batch={'x': tensor([57, 14]), 'y': tensor([114,  28])}\n",
      "[2023-07-21 11:00:11,427 22882:140704357856832][log.py:49 todd.CustomEpochBasedTrainer.custom_epoch_based_trainer after_run_iter] INFO: Iter [25/102] loss=6.531 weight=2.137 batch={'x': tensor([39, 56]), 'y': tensor([ 78, 112])}\n",
      "[2023-07-21 11:00:11,430 22882:140704357856832][log.py:49 todd.CustomEpochBasedTrainer.custom_epoch_based_trainer after_run_iter] INFO: Iter [30/102] loss=1.046 weight=2.067 batch={'x': tensor([21, 10]), 'y': tensor([42, 20])}\n",
      "[2023-07-21 11:00:11,434 22882:140704357856832][checkpoint.py:60 todd.CustomEpochBasedTrainer.custom_epoch_based_trainer _save] INFO: Saving state dict to /var/folders/v_/1kkfntxs5z74_rwvy1f3_mp80000gn/T/tmptoarcw_k/custom_epoch_based_trainer/checkpoints/epoch_1\n",
      "[2023-07-21 11:00:11,437 22882:140704357856832][log.py:55 todd.CustomEpochBasedTrainer.custom_epoch_based_trainer before_run_epoch] INFO: Epoch [2/3]\n",
      "[2023-07-21 11:00:11,439 22882:140704357856832][log.py:49 todd.CustomEpochBasedTrainer.custom_epoch_based_trainer after_run_iter] INFO: Iter [35/102] loss=6.252 weight=2.305 batch={'x': tensor([27, 14]), 'y': tensor([54, 28])}\n",
      "[2023-07-21 11:00:11,443 22882:140704357856832][log.py:49 todd.CustomEpochBasedTrainer.custom_epoch_based_trainer after_run_iter] INFO: Iter [40/102] loss=3.800 weight=2.190 batch={'x': tensor([12, 28]), 'y': tensor([24, 56])}\n",
      "[2023-07-21 11:00:11,446 22882:140704357856832][log.py:49 todd.CustomEpochBasedTrainer.custom_epoch_based_trainer after_run_iter] INFO: Iter [45/102] loss=2.599 weight=2.067 batch={'x': tensor([37, 40]), 'y': tensor([74, 80])}\n",
      "[2023-07-21 11:00:11,450 22882:140704357856832][log.py:49 todd.CustomEpochBasedTrainer.custom_epoch_based_trainer after_run_iter] INFO: Iter [50/102] loss=9.095 weight=2.267 batch={'x': tensor([59,  9]), 'y': tensor([118,  18])}\n",
      "[2023-07-21 11:00:11,454 22882:140704357856832][log.py:49 todd.CustomEpochBasedTrainer.custom_epoch_based_trainer after_run_iter] INFO: Iter [55/102] loss=3.741 weight=2.102 batch={'x': tensor([21, 52]), 'y': tensor([ 42, 104])}\n",
      "[2023-07-21 11:00:11,459 22882:140704357856832][log.py:49 todd.CustomEpochBasedTrainer.custom_epoch_based_trainer after_run_iter] INFO: Iter [60/102] loss=1.462 weight=2.037 batch={'x': tensor([48, 30]), 'y': tensor([96, 60])}\n",
      "[2023-07-21 11:00:11,462 22882:140704357856832][log.py:49 todd.CustomEpochBasedTrainer.custom_epoch_based_trainer after_run_iter] INFO: Iter [65/102] loss=3.250 weight=2.125 batch={'x': tensor([13, 39]), 'y': tensor([26, 78])}\n",
      "[2023-07-21 11:00:11,467 22882:140704357856832][checkpoint.py:60 todd.CustomEpochBasedTrainer.custom_epoch_based_trainer _save] INFO: Saving state dict to /var/folders/v_/1kkfntxs5z74_rwvy1f3_mp80000gn/T/tmptoarcw_k/custom_epoch_based_trainer/checkpoints/epoch_2\n",
      "[2023-07-21 11:00:11,470 22882:140704357856832][log.py:55 todd.CustomEpochBasedTrainer.custom_epoch_based_trainer before_run_epoch] INFO: Epoch [3/3]\n",
      "[2023-07-21 11:00:11,473 22882:140704357856832][log.py:49 todd.CustomEpochBasedTrainer.custom_epoch_based_trainer after_run_iter] INFO: Iter [70/102] loss=5.355 weight=2.158 batch={'x': tensor([24, 44]), 'y': tensor([48, 88])}\n",
      "[2023-07-21 11:00:11,478 22882:140704357856832][log.py:49 todd.CustomEpochBasedTrainer.custom_epoch_based_trainer after_run_iter] INFO: Iter [75/102] loss=2.101 weight=1.898 batch={'x': tensor([16, 25]), 'y': tensor([32, 50])}\n",
      "[2023-07-21 11:00:11,491 22882:140704357856832][log.py:49 todd.CustomEpochBasedTrainer.custom_epoch_based_trainer after_run_iter] INFO: Iter [80/102] loss=0.000 weight=2.000 batch={'x': tensor([46, 64]), 'y': tensor([ 92, 128])}\n",
      "[2023-07-21 11:00:11,499 22882:140704357856832][log.py:49 todd.CustomEpochBasedTrainer.custom_epoch_based_trainer after_run_iter] INFO: Iter [85/102] loss=0.000 weight=2.000 batch={'x': tensor([14, 26]), 'y': tensor([28, 52])}\n",
      "[2023-07-21 11:00:11,504 22882:140704357856832][log.py:49 todd.CustomEpochBasedTrainer.custom_epoch_based_trainer after_run_iter] INFO: Iter [90/102] loss=0.000 weight=2.000 batch={'x': tensor([51, 37]), 'y': tensor([102,  74])}\n",
      "[2023-07-21 11:00:11,508 22882:140704357856832][log.py:49 todd.CustomEpochBasedTrainer.custom_epoch_based_trainer after_run_iter] INFO: Iter [95/102] loss=0.000 weight=2.000 batch={'x': tensor([10, 34]), 'y': tensor([20, 68])}\n",
      "[2023-07-21 11:00:11,511 22882:140704357856832][log.py:49 todd.CustomEpochBasedTrainer.custom_epoch_based_trainer after_run_iter] INFO: Iter [100/102] loss=0.000 weight=2.000 batch={'x': tensor([ 5, 22]), 'y': tensor([10, 44])}\n",
      "[2023-07-21 11:00:11,515 22882:140704357856832][checkpoint.py:60 todd.CustomEpochBasedTrainer.custom_epoch_based_trainer _save] INFO: Saving state dict to /var/folders/v_/1kkfntxs5z74_rwvy1f3_mp80000gn/T/tmptoarcw_k/custom_epoch_based_trainer/checkpoints/epoch_3\n",
      "[2023-07-21 11:00:11,519 22882:140704357856832][checkpoint.py:60 todd.CustomEpochBasedTrainer.custom_epoch_based_trainer _save] INFO: Saving state dict to /var/folders/v_/1kkfntxs5z74_rwvy1f3_mp80000gn/T/tmptoarcw_k/custom_epoch_based_trainer/checkpoints/latest\n"
     ]
    },
    {
     "name": "stdout",
     "output_type": "stream",
     "text": [
      "\n",
      "--------------------\n",
      "\n"
     ]
    },
    {
     "name": "stderr",
     "output_type": "stream",
     "text": [
      "\u001b[2m[2023-07-21 11:00:11,926 22882:140704357856832][runners.py:61 todd.CustomEpochBasedTrainer.custom_epoch_based_trainer __init__] DEBUG: Rank 0 initialized by bytedance@C02G870SMD6R\u001b[m\n",
      "[2023-07-21 11:00:11,927 22882:140704357856832][base.py:60 todd.CustomEpochBasedTrainer.custom_epoch_based_trainer load_model_from] INFO: Loading model from /var/folders/v_/1kkfntxs5z74_rwvy1f3_mp80000gn/T/tmptoarcw_k/custom_epoch_based_trainer/checkpoints/epoch_2/model.pth\n",
      "[2023-07-21 11:00:11,930 22882:140704357856832][log.py:55 todd.CustomEpochBasedTrainer.custom_epoch_based_trainer before_run_epoch] INFO: Epoch [1/3]\n",
      "[2023-07-21 11:00:11,935 22882:140704357856832][log.py:49 todd.CustomEpochBasedTrainer.custom_epoch_based_trainer after_run_iter] INFO: Iter [5/102] loss=7.035 weight=1.832 batch={'x': tensor([34, 50]), 'y': tensor([ 68, 100])}\n",
      "[2023-07-21 11:00:11,938 22882:140704357856832][log.py:49 todd.CustomEpochBasedTrainer.custom_epoch_based_trainer after_run_iter] INFO: Iter [10/102] loss=0.000 weight=2.000 batch={'x': tensor([22, 46]), 'y': tensor([44, 92])}\n",
      "[2023-07-21 11:00:11,943 22882:140704357856832][log.py:49 todd.CustomEpochBasedTrainer.custom_epoch_based_trainer after_run_iter] INFO: Iter [15/102] loss=0.000 weight=2.000 batch={'x': tensor([ 1, 35]), 'y': tensor([ 2, 70])}\n",
      "[2023-07-21 11:00:11,946 22882:140704357856832][log.py:49 todd.CustomEpochBasedTrainer.custom_epoch_based_trainer after_run_iter] INFO: Iter [20/102] loss=0.000 weight=2.000 batch={'x': tensor([17, 12]), 'y': tensor([34, 24])}\n",
      "[2023-07-21 11:00:11,950 22882:140704357856832][log.py:49 todd.CustomEpochBasedTrainer.custom_epoch_based_trainer after_run_iter] INFO: Iter [25/102] loss=0.000 weight=2.000 batch={'x': tensor([37, 40]), 'y': tensor([74, 80])}\n",
      "[2023-07-21 11:00:11,953 22882:140704357856832][log.py:49 todd.CustomEpochBasedTrainer.custom_epoch_based_trainer after_run_iter] INFO: Iter [30/102] loss=0.000 weight=2.000 batch={'x': tensor([10, 19]), 'y': tensor([20, 38])}\n",
      "[2023-07-21 11:00:11,957 22882:140704357856832][checkpoint.py:60 todd.CustomEpochBasedTrainer.custom_epoch_based_trainer _save] INFO: Saving state dict to /var/folders/v_/1kkfntxs5z74_rwvy1f3_mp80000gn/T/tmptoarcw_k/custom_epoch_based_trainer/checkpoints/epoch_1\n",
      "[2023-07-21 11:00:11,960 22882:140704357856832][log.py:55 todd.CustomEpochBasedTrainer.custom_epoch_based_trainer before_run_epoch] INFO: Epoch [2/3]\n",
      "[2023-07-21 11:00:11,963 22882:140704357856832][log.py:49 todd.CustomEpochBasedTrainer.custom_epoch_based_trainer after_run_iter] INFO: Iter [35/102] loss=0.000 weight=2.000 batch={'x': tensor([57,  7]), 'y': tensor([114,  14])}\n",
      "[2023-07-21 11:00:11,967 22882:140704357856832][log.py:49 todd.CustomEpochBasedTrainer.custom_epoch_based_trainer after_run_iter] INFO: Iter [40/102] loss=0.000 weight=2.000 batch={'x': tensor([39, 23]), 'y': tensor([78, 46])}\n",
      "[2023-07-21 11:00:11,971 22882:140704357856832][log.py:49 todd.CustomEpochBasedTrainer.custom_epoch_based_trainer after_run_iter] INFO: Iter [45/102] loss=0.000 weight=2.000 batch={'x': tensor([27, 33]), 'y': tensor([54, 66])}\n",
      "[2023-07-21 11:00:11,981 22882:140704357856832][log.py:49 todd.CustomEpochBasedTrainer.custom_epoch_based_trainer after_run_iter] INFO: Iter [50/102] loss=0.000 weight=2.000 batch={'x': tensor([15, 49]), 'y': tensor([30, 98])}\n",
      "[2023-07-21 11:00:11,986 22882:140704357856832][log.py:49 todd.CustomEpochBasedTrainer.custom_epoch_based_trainer after_run_iter] INFO: Iter [55/102] loss=0.000 weight=2.000 batch={'x': tensor([55,  8]), 'y': tensor([110,  16])}\n",
      "[2023-07-21 11:00:11,989 22882:140704357856832][log.py:49 todd.CustomEpochBasedTrainer.custom_epoch_based_trainer after_run_iter] INFO: Iter [60/102] loss=0.000 weight=2.000 batch={'x': tensor([47, 24]), 'y': tensor([94, 48])}\n",
      "[2023-07-21 11:00:11,994 22882:140704357856832][log.py:49 todd.CustomEpochBasedTrainer.custom_epoch_based_trainer after_run_iter] INFO: Iter [65/102] loss=0.000 weight=2.000 batch={'x': tensor([19, 38]), 'y': tensor([38, 76])}\n",
      "[2023-07-21 11:00:11,997 22882:140704357856832][checkpoint.py:60 todd.CustomEpochBasedTrainer.custom_epoch_based_trainer _save] INFO: Saving state dict to /var/folders/v_/1kkfntxs5z74_rwvy1f3_mp80000gn/T/tmptoarcw_k/custom_epoch_based_trainer/checkpoints/epoch_2\n",
      "[2023-07-21 11:00:12,001 22882:140704357856832][log.py:55 todd.CustomEpochBasedTrainer.custom_epoch_based_trainer before_run_epoch] INFO: Epoch [3/3]\n",
      "[2023-07-21 11:00:12,004 22882:140704357856832][log.py:49 todd.CustomEpochBasedTrainer.custom_epoch_based_trainer after_run_iter] INFO: Iter [70/102] loss=0.000 weight=2.000 batch={'x': tensor([ 5, 24]), 'y': tensor([10, 48])}\n",
      "[2023-07-21 11:00:12,008 22882:140704357856832][log.py:49 todd.CustomEpochBasedTrainer.custom_epoch_based_trainer after_run_iter] INFO: Iter [75/102] loss=0.000 weight=2.000 batch={'x': tensor([65, 59]), 'y': tensor([130, 118])}\n",
      "[2023-07-21 11:00:12,011 22882:140704357856832][log.py:49 todd.CustomEpochBasedTrainer.custom_epoch_based_trainer after_run_iter] INFO: Iter [80/102] loss=0.000 weight=2.000 batch={'x': tensor([53, 56]), 'y': tensor([106, 112])}\n",
      "[2023-07-21 11:00:12,015 22882:140704357856832][log.py:49 todd.CustomEpochBasedTrainer.custom_epoch_based_trainer after_run_iter] INFO: Iter [85/102] loss=0.000 weight=2.000 batch={'x': tensor([35, 32]), 'y': tensor([70, 64])}\n",
      "[2023-07-21 11:00:12,019 22882:140704357856832][log.py:49 todd.CustomEpochBasedTrainer.custom_epoch_based_trainer after_run_iter] INFO: Iter [90/102] loss=0.000 weight=2.000 batch={'x': tensor([42, 51]), 'y': tensor([ 84, 102])}\n",
      "[2023-07-21 11:00:12,023 22882:140704357856832][log.py:49 todd.CustomEpochBasedTrainer.custom_epoch_based_trainer after_run_iter] INFO: Iter [95/102] loss=0.000 weight=2.000 batch={'x': tensor([52,  1]), 'y': tensor([104,   2])}\n",
      "[2023-07-21 11:00:12,027 22882:140704357856832][log.py:49 todd.CustomEpochBasedTrainer.custom_epoch_based_trainer after_run_iter] INFO: Iter [100/102] loss=0.000 weight=2.000 batch={'x': tensor([39, 43]), 'y': tensor([78, 86])}\n",
      "[2023-07-21 11:00:12,029 22882:140704357856832][checkpoint.py:60 todd.CustomEpochBasedTrainer.custom_epoch_based_trainer _save] INFO: Saving state dict to /var/folders/v_/1kkfntxs5z74_rwvy1f3_mp80000gn/T/tmptoarcw_k/custom_epoch_based_trainer/checkpoints/epoch_3\n",
      "[2023-07-21 11:00:12,033 22882:140704357856832][checkpoint.py:60 todd.CustomEpochBasedTrainer.custom_epoch_based_trainer _save] INFO: Saving state dict to /var/folders/v_/1kkfntxs5z74_rwvy1f3_mp80000gn/T/tmptoarcw_k/custom_epoch_based_trainer/checkpoints/latest\n"
     ]
    }
   ],
   "source": [
    "with tempfile.TemporaryDirectory() as work_dirs:\n",
    "    runner: CustomEpochBasedTrainer = todd.RunnerRegistry.build(\n",
    "        strategy_load_model_from_demo, \n",
    "        work_dir=dict(root=work_dirs),\n",
    "    )\n",
    "    runner.run()\n",
    "\n",
    "    !echo\n",
    "    !echo {'-' * 20}\n",
    "    !echo\n",
    "\n",
    "    runner: CustomEpochBasedTrainer = todd.RunnerRegistry.build(\n",
    "        strategy_load_model_from_demo, \n",
    "        work_dir=dict(root=work_dirs),\n",
    "    )\n",
    "    runner.strategy.load_model_from(os.path.join(work_dirs, 'custom_epoch_based_trainer', 'checkpoints', 'epoch_2', 'model.pth'))\n",
    "    runner.run()"
   ]
  },
  {
   "attachments": {},
   "cell_type": "markdown",
   "metadata": {},
   "source": [
    "## Dry Run"
   ]
  },
  {
   "cell_type": "code",
   "execution_count": 44,
   "metadata": {},
   "outputs": [],
   "source": [
    "todd.Store.DRY_RUN = True"
   ]
  }
 ],
 "metadata": {
  "kernelspec": {
   "display_name": "todd",
   "language": "python",
   "name": "python3"
  },
  "language_info": {
   "codemirror_mode": {
    "name": "ipython",
    "version": 3
   },
   "file_extension": ".py",
   "mimetype": "text/x-python",
   "name": "python",
   "nbconvert_exporter": "python",
   "pygments_lexer": "ipython3",
   "version": "3.11.3"
  },
  "orig_nbformat": 4,
  "vscode": {
   "interpreter": {
    "hash": "0fe19504897982c0d86de0bd38ea30a541b47032e25039ac5ae6cd1de5b1a414"
   }
  }
 },
 "nbformat": 4,
 "nbformat_minor": 2
}
