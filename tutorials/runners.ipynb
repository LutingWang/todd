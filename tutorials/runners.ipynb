{
 "cells": [
  {
   "attachments": {},
   "cell_type": "markdown",
   "metadata": {},
   "source": [
    "# Best Practices for Using Runners"
   ]
  },
  {
   "cell_type": "code",
   "execution_count": 1,
   "metadata": {},
   "outputs": [
    {
     "name": "stdout",
     "output_type": "stream",
     "text": [
      "Found existing installation: todd-ai 0.3.0\n",
      "Uninstalling todd-ai-0.3.0:\n",
      "  Successfully uninstalled todd-ai-0.3.0\n",
      "Note: you may need to restart the kernel to use updated packages.\n",
      "Processing /Users/bytedance/Developer/todd\n",
      "  Installing build dependencies ... \u001b[?25ldone\n",
      "\u001b[?25h  Getting requirements to build wheel ... \u001b[?25ldone\n",
      "\u001b[?25h  Installing backend dependencies ... \u001b[?25ldone\n",
      "\u001b[?25h  Preparing metadata (pyproject.toml) ... \u001b[?25ldone\n",
      "\u001b[?25hRequirement already satisfied: einops in /Users/bytedance/.local/share/virtualenvs/todd-ARrcnwyq/lib/python3.11/site-packages (from todd-ai==0.3.0) (0.6.1)\n",
      "Requirement already satisfied: lmdb in /Users/bytedance/.local/share/virtualenvs/todd-ARrcnwyq/lib/python3.11/site-packages (from todd-ai==0.3.0) (1.4.1)\n",
      "Requirement already satisfied: opencv-python in /Users/bytedance/.local/share/virtualenvs/todd-ARrcnwyq/lib/python3.11/site-packages (from todd-ai==0.3.0) (4.7.0.72)\n",
      "Requirement already satisfied: pandas in /Users/bytedance/.local/share/virtualenvs/todd-ARrcnwyq/lib/python3.11/site-packages (from todd-ai==0.3.0) (2.0.1)\n",
      "Requirement already satisfied: python-pptx in /Users/bytedance/.local/share/virtualenvs/todd-ARrcnwyq/lib/python3.11/site-packages (from todd-ai==0.3.0) (0.6.21)\n",
      "Requirement already satisfied: timm in /Users/bytedance/.local/share/virtualenvs/todd-ARrcnwyq/lib/python3.11/site-packages (from todd-ai==0.3.0) (0.9.2)\n",
      "Requirement already satisfied: toml in /Users/bytedance/.local/share/virtualenvs/todd-ARrcnwyq/lib/python3.11/site-packages (from todd-ai==0.3.0) (0.10.2)\n",
      "Requirement already satisfied: tqdm in /Users/bytedance/.local/share/virtualenvs/todd-ARrcnwyq/lib/python3.11/site-packages (from todd-ai==0.3.0) (4.65.0)\n",
      "Requirement already satisfied: typing-extensions in /Users/bytedance/.local/share/virtualenvs/todd-ARrcnwyq/lib/python3.11/site-packages (from todd-ai==0.3.0) (4.5.0)\n",
      "Requirement already satisfied: yapf in /Users/bytedance/.local/share/virtualenvs/todd-ARrcnwyq/lib/python3.11/site-packages (from todd-ai==0.3.0) (0.33.0)\n",
      "Requirement already satisfied: numpy>=1.21.2 in /Users/bytedance/.local/share/virtualenvs/todd-ARrcnwyq/lib/python3.11/site-packages (from opencv-python->todd-ai==0.3.0) (1.24.3)\n",
      "Requirement already satisfied: python-dateutil>=2.8.2 in /Users/bytedance/.local/share/virtualenvs/todd-ARrcnwyq/lib/python3.11/site-packages (from pandas->todd-ai==0.3.0) (2.8.2)\n",
      "Requirement already satisfied: pytz>=2020.1 in /Users/bytedance/.local/share/virtualenvs/todd-ARrcnwyq/lib/python3.11/site-packages (from pandas->todd-ai==0.3.0) (2023.3)\n",
      "Requirement already satisfied: tzdata>=2022.1 in /Users/bytedance/.local/share/virtualenvs/todd-ARrcnwyq/lib/python3.11/site-packages (from pandas->todd-ai==0.3.0) (2023.3)\n",
      "Requirement already satisfied: lxml>=3.1.0 in /Users/bytedance/.local/share/virtualenvs/todd-ARrcnwyq/lib/python3.11/site-packages (from python-pptx->todd-ai==0.3.0) (4.9.2)\n",
      "Requirement already satisfied: Pillow>=3.3.2 in /Users/bytedance/.local/share/virtualenvs/todd-ARrcnwyq/lib/python3.11/site-packages (from python-pptx->todd-ai==0.3.0) (9.5.0)\n",
      "Requirement already satisfied: XlsxWriter>=0.5.7 in /Users/bytedance/.local/share/virtualenvs/todd-ARrcnwyq/lib/python3.11/site-packages (from python-pptx->todd-ai==0.3.0) (3.1.0)\n",
      "Requirement already satisfied: torch>=1.7 in /Users/bytedance/.local/share/virtualenvs/todd-ARrcnwyq/lib/python3.11/site-packages (from timm->todd-ai==0.3.0) (2.0.1)\n",
      "Requirement already satisfied: torchvision in /Users/bytedance/.local/share/virtualenvs/todd-ARrcnwyq/lib/python3.11/site-packages (from timm->todd-ai==0.3.0) (0.15.2)\n",
      "Requirement already satisfied: pyyaml in /Users/bytedance/.local/share/virtualenvs/todd-ARrcnwyq/lib/python3.11/site-packages (from timm->todd-ai==0.3.0) (6.0)\n",
      "Requirement already satisfied: huggingface-hub in /Users/bytedance/.local/share/virtualenvs/todd-ARrcnwyq/lib/python3.11/site-packages (from timm->todd-ai==0.3.0) (0.14.1)\n",
      "Requirement already satisfied: safetensors in /Users/bytedance/.local/share/virtualenvs/todd-ARrcnwyq/lib/python3.11/site-packages (from timm->todd-ai==0.3.0) (0.3.1)\n",
      "Requirement already satisfied: tomli>=2.0.1 in /Users/bytedance/.local/share/virtualenvs/todd-ARrcnwyq/lib/python3.11/site-packages (from yapf->todd-ai==0.3.0) (2.0.1)\n",
      "Requirement already satisfied: six>=1.5 in /Users/bytedance/.local/share/virtualenvs/todd-ARrcnwyq/lib/python3.11/site-packages (from python-dateutil>=2.8.2->pandas->todd-ai==0.3.0) (1.16.0)\n",
      "Requirement already satisfied: filelock in /Users/bytedance/.local/share/virtualenvs/todd-ARrcnwyq/lib/python3.11/site-packages (from torch>=1.7->timm->todd-ai==0.3.0) (3.12.0)\n",
      "Requirement already satisfied: sympy in /Users/bytedance/.local/share/virtualenvs/todd-ARrcnwyq/lib/python3.11/site-packages (from torch>=1.7->timm->todd-ai==0.3.0) (1.12)\n",
      "Requirement already satisfied: networkx in /Users/bytedance/.local/share/virtualenvs/todd-ARrcnwyq/lib/python3.11/site-packages (from torch>=1.7->timm->todd-ai==0.3.0) (3.1)\n",
      "Requirement already satisfied: jinja2 in /Users/bytedance/.local/share/virtualenvs/todd-ARrcnwyq/lib/python3.11/site-packages (from torch>=1.7->timm->todd-ai==0.3.0) (3.1.2)\n",
      "Requirement already satisfied: fsspec in /Users/bytedance/.local/share/virtualenvs/todd-ARrcnwyq/lib/python3.11/site-packages (from huggingface-hub->timm->todd-ai==0.3.0) (2023.5.0)\n",
      "Requirement already satisfied: requests in /Users/bytedance/.local/share/virtualenvs/todd-ARrcnwyq/lib/python3.11/site-packages (from huggingface-hub->timm->todd-ai==0.3.0) (2.30.0)\n",
      "Requirement already satisfied: packaging>=20.9 in /Users/bytedance/.local/share/virtualenvs/todd-ARrcnwyq/lib/python3.11/site-packages (from huggingface-hub->timm->todd-ai==0.3.0) (23.1)\n",
      "Requirement already satisfied: MarkupSafe>=2.0 in /Users/bytedance/.local/share/virtualenvs/todd-ARrcnwyq/lib/python3.11/site-packages (from jinja2->torch>=1.7->timm->todd-ai==0.3.0) (2.1.2)\n",
      "Requirement already satisfied: charset-normalizer<4,>=2 in /Users/bytedance/.local/share/virtualenvs/todd-ARrcnwyq/lib/python3.11/site-packages (from requests->huggingface-hub->timm->todd-ai==0.3.0) (3.1.0)\n",
      "Requirement already satisfied: idna<4,>=2.5 in /Users/bytedance/.local/share/virtualenvs/todd-ARrcnwyq/lib/python3.11/site-packages (from requests->huggingface-hub->timm->todd-ai==0.3.0) (3.4)\n",
      "Requirement already satisfied: urllib3<3,>=1.21.1 in /Users/bytedance/.local/share/virtualenvs/todd-ARrcnwyq/lib/python3.11/site-packages (from requests->huggingface-hub->timm->todd-ai==0.3.0) (1.26.15)\n",
      "Requirement already satisfied: certifi>=2017.4.17 in /Users/bytedance/.local/share/virtualenvs/todd-ARrcnwyq/lib/python3.11/site-packages (from requests->huggingface-hub->timm->todd-ai==0.3.0) (2023.5.7)\n",
      "Requirement already satisfied: mpmath>=0.19 in /Users/bytedance/.local/share/virtualenvs/todd-ARrcnwyq/lib/python3.11/site-packages (from sympy->torch>=1.7->timm->todd-ai==0.3.0) (1.3.0)\n",
      "Building wheels for collected packages: todd-ai\n",
      "  Building wheel for todd-ai (pyproject.toml) ... \u001b[?25ldone\n",
      "\u001b[?25h  Created wheel for todd-ai: filename=todd_ai-0.3.0-py3-none-any.whl size=98583 sha256=e8e9a751eae5d29a5e9b018697eedfbdc77f75e63479f4cd3b10f2a40b7317c5\n",
      "  Stored in directory: /private/var/folders/v_/1kkfntxs5z74_rwvy1f3_mp80000gn/T/pip-ephem-wheel-cache-zfl5ka5x/wheels/15/ef/5a/9fc12e257ce5cef16b333a2ed6c992ff9cbcc9167f7199e6ac\n",
      "Successfully built todd-ai\n",
      "Installing collected packages: todd-ai\n",
      "Successfully installed todd-ai-0.3.0\n",
      "\n",
      "\u001b[1m[\u001b[0m\u001b[34;49mnotice\u001b[0m\u001b[1;39;49m]\u001b[0m\u001b[39;49m A new release of pip is available: \u001b[0m\u001b[31;49m23.0.1\u001b[0m\u001b[39;49m -> \u001b[0m\u001b[32;49m23.2\u001b[0m\n",
      "\u001b[1m[\u001b[0m\u001b[34;49mnotice\u001b[0m\u001b[1;39;49m]\u001b[0m\u001b[39;49m To update, run: \u001b[0m\u001b[32;49mpip install --upgrade pip\u001b[0m\n",
      "Note: you may need to restart the kernel to use updated packages.\n"
     ]
    }
   ],
   "source": [
    "%pip uninstall -y todd_ai\n",
    "%pip install .."
   ]
  },
  {
   "cell_type": "code",
   "execution_count": 2,
   "metadata": {},
   "outputs": [
    {
     "name": "stderr",
     "output_type": "stream",
     "text": [
      "/Users/bytedance/.local/share/virtualenvs/todd-ARrcnwyq/lib/python3.11/site-packages/mmcv/__init__.py:20: UserWarning: On January 1, 2023, MMCV will release v2.0.0, in which it will remove components related to the training process and add a data transformation module. In addition, it will rename the package names mmcv to mmcv-lite and mmcv-full to mmcv. See https://github.com/open-mmlab/mmcv/blob/master/docs/en/compatibility.md for more details.\n",
      "  warnings.warn(\n",
      "[2023-07-21 11:14:41,671 27580:140704357856832][patches.py:72 todd <module>] INFO: `ipdb` is installed. Using it for debugging.\n"
     ]
    }
   ],
   "source": [
    "import os\n",
    "import pathlib\n",
    "import tempfile\n",
    "from pprint import pprint\n",
    "from typing import Any, NoReturn, TypedDict, cast\n",
    "\n",
    "import todd\n",
    "import torch\n",
    "import torch.nn.functional as F\n",
    "import torch.utils.data\n",
    "\n",
    "Memo = dict[str, Any]"
   ]
  },
  {
   "attachments": {},
   "cell_type": "markdown",
   "metadata": {},
   "source": [
    "## Preparation"
   ]
  },
  {
   "cell_type": "markdown",
   "metadata": {},
   "source": [
    "### Models"
   ]
  },
  {
   "cell_type": "code",
   "execution_count": 3,
   "metadata": {},
   "outputs": [],
   "source": [
    "@todd.ModelRegistry.register()\n",
    "class RunnerModel(todd.Module):\n",
    "\n",
    "    def __init__(self) -> None:\n",
    "        super().__init__()\n",
    "        self._weight = torch.nn.Parameter(torch.tensor(0.0))\n",
    "\n",
    "    @property\n",
    "    def weight(self) -> torch.nn.Parameter:\n",
    "        return self._weight\n",
    "\n",
    "    def forward(self, x: torch.Tensor) -> torch.Tensor:\n",
    "        return x * self._weight"
   ]
  },
  {
   "cell_type": "markdown",
   "metadata": {},
   "source": [
    "### Datasets"
   ]
  },
  {
   "cell_type": "code",
   "execution_count": 4,
   "metadata": {},
   "outputs": [],
   "source": [
    "class Sample(TypedDict):\n",
    "    x: int\n",
    "    y: int"
   ]
  },
  {
   "cell_type": "code",
   "execution_count": 5,
   "metadata": {},
   "outputs": [],
   "source": [
    "@todd.DatasetRegistry.register()\n",
    "class RunnerDataset(torch.utils.data.Dataset[int]):\n",
    "\n",
    "    def __init__(self, n: int) -> None:\n",
    "        self._data = list(range(1, n + 1))\n",
    "\n",
    "    def __len__(self) -> int:\n",
    "        return len(self._data)\n",
    "\n",
    "    def __getitem__(self, index: int) -> Sample:\n",
    "        x = self._data[index]\n",
    "        return Sample(x=x, y=x * 2)"
   ]
  },
  {
   "cell_type": "code",
   "execution_count": 6,
   "metadata": {},
   "outputs": [],
   "source": [
    "class Batch(TypedDict):\n",
    "    x: torch.Tensor\n",
    "    y: torch.Tensor"
   ]
  },
  {
   "cell_type": "markdown",
   "metadata": {},
   "source": [
    "### Runners"
   ]
  },
  {
   "cell_type": "code",
   "execution_count": 7,
   "metadata": {},
   "outputs": [],
   "source": [
    "class RunnerMixin(todd.runners.BaseRunner):\n",
    "\n",
    "    def _run_iter(self, batch: Batch, memo: Memo) -> Memo:\n",
    "        y: torch.Tensor = self._strategy.model(batch['x'])\n",
    "        loss = F.l1_loss(y, batch['y'])\n",
    "        memo['loss'] = loss\n",
    "        if 'log' in memo:\n",
    "            memo['log']['loss'] = f'{loss.item():.3f}'\n",
    "        return memo"
   ]
  },
  {
   "cell_type": "code",
   "execution_count": 8,
   "metadata": {},
   "outputs": [],
   "source": [
    "class TrainerMixin(RunnerMixin):\n",
    "\n",
    "    def _run_iter(self, batch: Batch, memo: Memo) -> Memo:\n",
    "        memo = super()._run_iter(batch, memo)\n",
    "        if 'log' in memo:\n",
    "            model = cast(RunnerModel, self._strategy.module)\n",
    "            memo['log']['weight'] = f'{model.weight.item():.3f}'\n",
    "            memo['log']['batch'] = str(batch)\n",
    "        return memo"
   ]
  },
  {
   "cell_type": "code",
   "execution_count": 9,
   "metadata": {},
   "outputs": [],
   "source": [
    "@todd.RunnerRegistry.register()\n",
    "class CustomValidator(RunnerMixin, todd.runners.Validator):\n",
    "    pass"
   ]
  },
  {
   "cell_type": "code",
   "execution_count": 10,
   "metadata": {},
   "outputs": [],
   "source": [
    "@todd.RunnerRegistry.register()\n",
    "class CustomIterBasedTrainer(TrainerMixin, todd.runners.IterBasedTrainer):\n",
    "    pass"
   ]
  },
  {
   "cell_type": "code",
   "execution_count": 11,
   "metadata": {},
   "outputs": [],
   "source": [
    "@todd.RunnerRegistry.register()\n",
    "class CustomEpochBasedTrainer(TrainerMixin, todd.runners.EpochBasedTrainer):\n",
    "    pass"
   ]
  },
  {
   "attachments": {},
   "cell_type": "markdown",
   "metadata": {},
   "source": [
    "## Validators"
   ]
  },
  {
   "cell_type": "code",
   "execution_count": 12,
   "metadata": {},
   "outputs": [],
   "source": [
    "validator_demo = todd.Config(\n",
    "    type='CustomValidator',\n",
    "    name='custom_validator',\n",
    "    dataloader=dict(batch_size=1, dataset=dict(type='RunnerDataset', n=20)),\n",
    "    strategy=dict(type='BaseStrategy', model=dict(type='RunnerModel')),\n",
    "    callbacks=dict(type='LogCallback', interval=5),\n",
    ")"
   ]
  },
  {
   "cell_type": "code",
   "execution_count": 13,
   "metadata": {},
   "outputs": [
    {
     "name": "stderr",
     "output_type": "stream",
     "text": [
      "\u001b[2m[2023-07-21 11:14:42,319 27580:140704357856832][runners.py:61 todd.CustomValidator.custom_validator __init__] DEBUG: Rank 0 initialized by bytedance@C02G870SMD6R\u001b[m\n",
      "[2023-07-21 11:14:42,322 27580:140704357856832][log.py:48 todd.CustomValidator.custom_validator after_run_iter] INFO: Iter [5/20] loss=10.000\n",
      "[2023-07-21 11:14:42,324 27580:140704357856832][log.py:48 todd.CustomValidator.custom_validator after_run_iter] INFO: Iter [10/20] loss=20.000\n",
      "[2023-07-21 11:14:42,326 27580:140704357856832][log.py:48 todd.CustomValidator.custom_validator after_run_iter] INFO: Iter [15/20] loss=30.000\n",
      "[2023-07-21 11:14:42,327 27580:140704357856832][log.py:48 todd.CustomValidator.custom_validator after_run_iter] INFO: Iter [20/20] loss=40.000\n"
     ]
    },
    {
     "name": "stdout",
     "output_type": "stream",
     "text": [
      "\n",
      "\u001b[1;36m/var/folders/v_/1kkfntxs5z74_rwvy1f3_mp80000gn/T/tmp1fhfolu6\u001b[0m\n",
      "└── \u001b[1;36mcustom_validator\u001b[0m\n",
      "\n",
      "2 directories, 0 files\n"
     ]
    }
   ],
   "source": [
    "with tempfile.TemporaryDirectory() as work_dirs:\n",
    "    runner: CustomValidator = todd.RunnerRegistry.build(\n",
    "        validator_demo, \n",
    "        work_dir=dict(root=work_dirs),\n",
    "    )\n",
    "    runner.run()\n",
    "    \n",
    "    !echo\n",
    "    !tree $work_dirs"
   ]
  },
  {
   "attachments": {},
   "cell_type": "markdown",
   "metadata": {},
   "source": [
    "## Trainers"
   ]
  },
  {
   "cell_type": "code",
   "execution_count": 14,
   "metadata": {},
   "outputs": [],
   "source": [
    "trainer_demo = validator_demo.copy()\n",
    "trainer_demo.pop('type')\n",
    "trainer_demo.dataloader = todd.Config(\n",
    "    batch_size=2,\n",
    "    shuffle=True,\n",
    "    dataset=dict(type='RunnerDataset', n=67),\n",
    ")\n",
    "trainer_demo.optimizer = todd.Config(type='SGD', lr=0.005)\n"
   ]
  },
  {
   "cell_type": "markdown",
   "metadata": {},
   "source": [
    "### Iteration Based"
   ]
  },
  {
   "cell_type": "code",
   "execution_count": 15,
   "metadata": {},
   "outputs": [],
   "source": [
    "iter_based_trainer_demo = trainer_demo.copy()\n",
    "iter_based_trainer_demo.type = 'CustomIterBasedTrainer'\n",
    "iter_based_trainer_demo.name = 'custom_iter_based_trainer'\n",
    "iter_based_trainer_demo.iters = 53"
   ]
  },
  {
   "cell_type": "code",
   "execution_count": 16,
   "metadata": {},
   "outputs": [
    {
     "name": "stderr",
     "output_type": "stream",
     "text": [
      "\u001b[2m[2023-07-21 11:14:42,658 27580:140704357856832][runners.py:61 todd.CustomIterBasedTrainer.custom_iter_based_trainer __init__] DEBUG: Rank 0 initialized by bytedance@C02G870SMD6R\u001b[m\n",
      "[2023-07-21 11:14:42,661 27580:140704357856832][log.py:48 todd.CustomIterBasedTrainer.custom_iter_based_trainer after_run_iter] INFO: Iter [5/53] loss=93.000 weight=0.000 batch={'x': tensor([66, 27]), 'y': tensor([132,  54])}\n",
      "[2023-07-21 11:14:42,663 27580:140704357856832][log.py:48 todd.CustomIterBasedTrainer.custom_iter_based_trainer after_run_iter] INFO: Iter [10/53] loss=47.000 weight=0.000 batch={'x': tensor([35, 12]), 'y': tensor([70, 24])}\n",
      "[2023-07-21 11:14:42,665 27580:140704357856832][log.py:48 todd.CustomIterBasedTrainer.custom_iter_based_trainer after_run_iter] INFO: Iter [15/53] loss=105.000 weight=0.000 batch={'x': tensor([56, 49]), 'y': tensor([112,  98])}\n",
      "[2023-07-21 11:14:42,667 27580:140704357856832][log.py:48 todd.CustomIterBasedTrainer.custom_iter_based_trainer after_run_iter] INFO: Iter [20/53] loss=117.000 weight=0.000 batch={'x': tensor([60, 57]), 'y': tensor([120, 114])}\n",
      "[2023-07-21 11:14:42,669 27580:140704357856832][log.py:48 todd.CustomIterBasedTrainer.custom_iter_based_trainer after_run_iter] INFO: Iter [25/53] loss=15.000 weight=0.000 batch={'x': tensor([ 4, 11]), 'y': tensor([ 8, 22])}\n",
      "[2023-07-21 11:14:42,671 27580:140704357856832][log.py:48 todd.CustomIterBasedTrainer.custom_iter_based_trainer after_run_iter] INFO: Iter [30/53] loss=113.000 weight=0.000 batch={'x': tensor([62, 51]), 'y': tensor([124, 102])}\n",
      "[2023-07-21 11:14:42,673 27580:140704357856832][log.py:48 todd.CustomIterBasedTrainer.custom_iter_based_trainer after_run_iter] INFO: Iter [35/53] loss=53.000 weight=0.000 batch={'x': tensor([13, 40]), 'y': tensor([26, 80])}\n",
      "[2023-07-21 11:14:42,675 27580:140704357856832][log.py:48 todd.CustomIterBasedTrainer.custom_iter_based_trainer after_run_iter] INFO: Iter [40/53] loss=55.000 weight=0.000 batch={'x': tensor([36, 19]), 'y': tensor([72, 38])}\n",
      "[2023-07-21 11:14:42,676 27580:140704357856832][log.py:48 todd.CustomIterBasedTrainer.custom_iter_based_trainer after_run_iter] INFO: Iter [45/53] loss=86.000 weight=0.000 batch={'x': tensor([33, 53]), 'y': tensor([ 66, 106])}\n",
      "[2023-07-21 11:14:42,678 27580:140704357856832][log.py:48 todd.CustomIterBasedTrainer.custom_iter_based_trainer after_run_iter] INFO: Iter [50/53] loss=53.000 weight=0.000 batch={'x': tensor([10, 43]), 'y': tensor([20, 86])}\n"
     ]
    }
   ],
   "source": [
    "with tempfile.TemporaryDirectory() as work_dirs:\n",
    "    runner: CustomIterBasedTrainer = todd.RunnerRegistry.build(\n",
    "        iter_based_trainer_demo,\n",
    "        work_dir=dict(root=work_dirs),\n",
    "    )\n",
    "    runner.run()"
   ]
  },
  {
   "attachments": {},
   "cell_type": "markdown",
   "metadata": {},
   "source": [
    "### Epoch Based"
   ]
  },
  {
   "cell_type": "code",
   "execution_count": 17,
   "metadata": {},
   "outputs": [],
   "source": [
    "epoch_based_trainer_demo = trainer_demo.copy()\n",
    "epoch_based_trainer_demo.type = 'CustomEpochBasedTrainer'\n",
    "epoch_based_trainer_demo.name = 'custom_epoch_based_trainer'\n",
    "epoch_based_trainer_demo.epochs = 3"
   ]
  },
  {
   "cell_type": "code",
   "execution_count": 18,
   "metadata": {},
   "outputs": [
    {
     "name": "stderr",
     "output_type": "stream",
     "text": [
      "\u001b[2m[2023-07-21 11:14:42,693 27580:140704357856832][runners.py:61 todd.CustomEpochBasedTrainer.custom_epoch_based_trainer __init__] DEBUG: Rank 0 initialized by bytedance@C02G870SMD6R\u001b[m\n",
      "[2023-07-21 11:14:42,694 27580:140704357856832][log.py:54 todd.CustomEpochBasedTrainer.custom_epoch_based_trainer before_run_epoch] INFO: Epoch [1/3]\n",
      "[2023-07-21 11:14:42,696 27580:140704357856832][log.py:48 todd.CustomEpochBasedTrainer.custom_epoch_based_trainer after_run_iter] INFO: Iter [5/102] loss=32.000 weight=0.000 batch={'x': tensor([11, 21]), 'y': tensor([22, 42])}\n",
      "[2023-07-21 11:14:42,698 27580:140704357856832][log.py:48 todd.CustomEpochBasedTrainer.custom_epoch_based_trainer after_run_iter] INFO: Iter [10/102] loss=22.000 weight=0.000 batch={'x': tensor([10, 12]), 'y': tensor([20, 24])}\n",
      "[2023-07-21 11:14:42,700 27580:140704357856832][log.py:48 todd.CustomEpochBasedTrainer.custom_epoch_based_trainer after_run_iter] INFO: Iter [15/102] loss=62.000 weight=0.000 batch={'x': tensor([47, 15]), 'y': tensor([94, 30])}\n",
      "[2023-07-21 11:14:42,702 27580:140704357856832][log.py:48 todd.CustomEpochBasedTrainer.custom_epoch_based_trainer after_run_iter] INFO: Iter [20/102] loss=95.000 weight=0.000 batch={'x': tensor([64, 31]), 'y': tensor([128,  62])}\n",
      "[2023-07-21 11:14:42,704 27580:140704357856832][log.py:48 todd.CustomEpochBasedTrainer.custom_epoch_based_trainer after_run_iter] INFO: Iter [25/102] loss=89.000 weight=0.000 batch={'x': tensor([28, 61]), 'y': tensor([ 56, 122])}\n",
      "[2023-07-21 11:14:42,706 27580:140704357856832][log.py:48 todd.CustomEpochBasedTrainer.custom_epoch_based_trainer after_run_iter] INFO: Iter [30/102] loss=83.000 weight=0.000 batch={'x': tensor([46, 37]), 'y': tensor([92, 74])}\n",
      "[2023-07-21 11:14:42,708 27580:140704357856832][log.py:54 todd.CustomEpochBasedTrainer.custom_epoch_based_trainer before_run_epoch] INFO: Epoch [2/3]\n",
      "[2023-07-21 11:14:42,709 27580:140704357856832][log.py:48 todd.CustomEpochBasedTrainer.custom_epoch_based_trainer after_run_iter] INFO: Iter [35/102] loss=54.000 weight=0.000 batch={'x': tensor([40, 14]), 'y': tensor([80, 28])}\n",
      "[2023-07-21 11:14:42,711 27580:140704357856832][log.py:48 todd.CustomEpochBasedTrainer.custom_epoch_based_trainer after_run_iter] INFO: Iter [40/102] loss=101.000 weight=0.000 batch={'x': tensor([38, 63]), 'y': tensor([ 76, 126])}\n",
      "[2023-07-21 11:14:42,713 27580:140704357856832][log.py:48 todd.CustomEpochBasedTrainer.custom_epoch_based_trainer after_run_iter] INFO: Iter [45/102] loss=75.000 weight=0.000 batch={'x': tensor([53, 22]), 'y': tensor([106,  44])}\n",
      "[2023-07-21 11:14:42,715 27580:140704357856832][log.py:48 todd.CustomEpochBasedTrainer.custom_epoch_based_trainer after_run_iter] INFO: Iter [50/102] loss=53.000 weight=0.000 batch={'x': tensor([17, 36]), 'y': tensor([34, 72])}\n",
      "[2023-07-21 11:14:42,718 27580:140704357856832][log.py:48 todd.CustomEpochBasedTrainer.custom_epoch_based_trainer after_run_iter] INFO: Iter [55/102] loss=75.000 weight=0.000 batch={'x': tensor([66,  9]), 'y': tensor([132,  18])}\n",
      "[2023-07-21 11:14:42,720 27580:140704357856832][log.py:48 todd.CustomEpochBasedTrainer.custom_epoch_based_trainer after_run_iter] INFO: Iter [60/102] loss=67.000 weight=0.000 batch={'x': tensor([25, 42]), 'y': tensor([50, 84])}\n",
      "[2023-07-21 11:14:42,722 27580:140704357856832][log.py:48 todd.CustomEpochBasedTrainer.custom_epoch_based_trainer after_run_iter] INFO: Iter [65/102] loss=34.000 weight=0.000 batch={'x': tensor([33,  1]), 'y': tensor([66,  2])}\n",
      "[2023-07-21 11:14:42,723 27580:140704357856832][log.py:54 todd.CustomEpochBasedTrainer.custom_epoch_based_trainer before_run_epoch] INFO: Epoch [3/3]\n",
      "[2023-07-21 11:14:42,725 27580:140704357856832][log.py:48 todd.CustomEpochBasedTrainer.custom_epoch_based_trainer after_run_iter] INFO: Iter [70/102] loss=68.000 weight=0.000 batch={'x': tensor([62,  6]), 'y': tensor([124,  12])}\n",
      "[2023-07-21 11:14:42,727 27580:140704357856832][log.py:48 todd.CustomEpochBasedTrainer.custom_epoch_based_trainer after_run_iter] INFO: Iter [75/102] loss=106.000 weight=0.000 batch={'x': tensor([52, 54]), 'y': tensor([104, 108])}\n",
      "[2023-07-21 11:14:42,729 27580:140704357856832][log.py:48 todd.CustomEpochBasedTrainer.custom_epoch_based_trainer after_run_iter] INFO: Iter [80/102] loss=56.000 weight=0.000 batch={'x': tensor([47,  9]), 'y': tensor([94, 18])}\n",
      "[2023-07-21 11:14:42,731 27580:140704357856832][log.py:48 todd.CustomEpochBasedTrainer.custom_epoch_based_trainer after_run_iter] INFO: Iter [85/102] loss=113.000 weight=0.000 batch={'x': tensor([50, 63]), 'y': tensor([100, 126])}\n",
      "[2023-07-21 11:14:42,733 27580:140704357856832][log.py:48 todd.CustomEpochBasedTrainer.custom_epoch_based_trainer after_run_iter] INFO: Iter [90/102] loss=120.000 weight=0.000 batch={'x': tensor([65, 55]), 'y': tensor([130, 110])}\n",
      "[2023-07-21 11:14:42,735 27580:140704357856832][log.py:48 todd.CustomEpochBasedTrainer.custom_epoch_based_trainer after_run_iter] INFO: Iter [95/102] loss=67.000 weight=0.000 batch={'x': tensor([46, 21]), 'y': tensor([92, 42])}\n",
      "[2023-07-21 11:14:42,737 27580:140704357856832][log.py:48 todd.CustomEpochBasedTrainer.custom_epoch_based_trainer after_run_iter] INFO: Iter [100/102] loss=108.000 weight=0.000 batch={'x': tensor([51, 57]), 'y': tensor([102, 114])}\n"
     ]
    }
   ],
   "source": [
    "with tempfile.TemporaryDirectory() as work_dirs:\n",
    "    runner: CustomEpochBasedTrainer = todd.RunnerRegistry.build(\n",
    "        epoch_based_trainer_demo,\n",
    "        work_dir=dict(root=work_dirs),\n",
    "    )\n",
    "    runner.run()"
   ]
  },
  {
   "cell_type": "markdown",
   "metadata": {},
   "source": [
    "## Callbacks"
   ]
  },
  {
   "cell_type": "markdown",
   "metadata": {},
   "source": [
    "### Log"
   ]
  },
  {
   "cell_type": "code",
   "execution_count": 19,
   "metadata": {},
   "outputs": [],
   "source": [
    "log_callback_demo = validator_demo.copy()\n",
    "log_callback = log_callback_demo.callbacks\n",
    "log_callback.with_file_handler = True\n",
    "log_callback_demo.callbacks = [log_callback]"
   ]
  },
  {
   "cell_type": "code",
   "execution_count": 20,
   "metadata": {},
   "outputs": [
    {
     "name": "stderr",
     "output_type": "stream",
     "text": [
      "\u001b[2m[2023-07-21 11:14:42,759 27580:140704357856832][runners.py:61 todd.CustomValidator.custom_validator __init__] DEBUG: Rank 0 initialized by bytedance@C02G870SMD6R\u001b[m\n",
      "[2023-07-21 11:14:42,762 27580:140704357856832][log.py:48 todd.CustomValidator.custom_validator after_run_iter] INFO: Iter [5/20] loss=10.000\n",
      "[2023-07-21 11:14:42,764 27580:140704357856832][log.py:48 todd.CustomValidator.custom_validator after_run_iter] INFO: Iter [10/20] loss=20.000\n",
      "[2023-07-21 11:14:42,767 27580:140704357856832][log.py:48 todd.CustomValidator.custom_validator after_run_iter] INFO: Iter [15/20] loss=30.000\n",
      "[2023-07-21 11:14:42,768 27580:140704357856832][log.py:48 todd.CustomValidator.custom_validator after_run_iter] INFO: Iter [20/20] loss=40.000\n"
     ]
    },
    {
     "name": "stdout",
     "output_type": "stream",
     "text": [
      "\n",
      "\u001b[1;36m/var/folders/v_/1kkfntxs5z74_rwvy1f3_mp80000gn/T/tmpd2q1bbyu\u001b[0m\n",
      "└── \u001b[1;36mcustom_validator\u001b[0m\n",
      "    └── 2023-07-21T11-14-42_759338-08-00.log\n",
      "\n",
      "2 directories, 1 file\n",
      "\n",
      "[2023-07-21 11:14:42,759 27580:140704357856832][runners.py:61 todd.CustomValidator.custom_validator __init__] DEBUG: Rank 0 initialized by bytedance@C02G870SMD6R\n",
      "[2023-07-21 11:14:42,762 27580:140704357856832][log.py:48 todd.CustomValidator.custom_validator after_run_iter] INFO: Iter [5/20] loss=10.000\n",
      "[2023-07-21 11:14:42,764 27580:140704357856832][log.py:48 todd.CustomValidator.custom_validator after_run_iter] INFO: Iter [10/20] loss=20.000\n",
      "[2023-07-21 11:14:42,767 27580:140704357856832][log.py:48 todd.CustomValidator.custom_validator after_run_iter] INFO: Iter [15/20] loss=30.000\n",
      "[2023-07-21 11:14:42,768 27580:140704357856832][log.py:48 todd.CustomValidator.custom_validator after_run_iter] INFO: Iter [20/20] loss=40.000\n"
     ]
    }
   ],
   "source": [
    "with tempfile.TemporaryDirectory() as work_dirs:\n",
    "    runner: CustomValidator = todd.RunnerRegistry.build(\n",
    "        log_callback_demo, \n",
    "        work_dir=dict(root=work_dirs),\n",
    "    )\n",
    "    runner.run()\n",
    "\n",
    "    !echo\n",
    "    !tree {work_dirs}\n",
    "    !echo\n",
    "    !cat {work_dirs}/custom_validator/*.log"
   ]
  },
  {
   "cell_type": "markdown",
   "metadata": {},
   "source": [
    "### Optimize"
   ]
  },
  {
   "cell_type": "code",
   "execution_count": 21,
   "metadata": {},
   "outputs": [],
   "source": [
    "optimize_callback_demo = iter_based_trainer_demo.copy()\n",
    "optimize_callback = todd.Config(type='OptimizeCallback')\n",
    "optimize_callback_demo.callbacks = [optimize_callback, log_callback]"
   ]
  },
  {
   "cell_type": "code",
   "execution_count": 22,
   "metadata": {},
   "outputs": [
    {
     "name": "stderr",
     "output_type": "stream",
     "text": [
      "\u001b[2m[2023-07-21 11:14:43,361 27580:140704357856832][runners.py:61 todd.CustomIterBasedTrainer.custom_iter_based_trainer __init__] DEBUG: Rank 0 initialized by bytedance@C02G870SMD6R\u001b[m\n",
      "[2023-07-21 11:14:43,366 27580:140704357856832][log.py:48 todd.CustomIterBasedTrainer.custom_iter_based_trainer after_run_iter] INFO: Iter [5/53] loss=47.475 weight=0.945 batch={'x': tensor([27, 63]), 'y': tensor([ 54, 126])}\n",
      "[2023-07-21 11:14:43,369 27580:140704357856832][log.py:48 todd.CustomIterBasedTrainer.custom_iter_based_trainer after_run_iter] INFO: Iter [10/53] loss=4.760 weight=1.860 batch={'x': tensor([32, 36]), 'y': tensor([64, 72])}\n",
      "[2023-07-21 11:14:43,373 27580:140704357856832][log.py:48 todd.CustomIterBasedTrainer.custom_iter_based_trainer after_run_iter] INFO: Iter [15/53] loss=2.362 weight=1.925 batch={'x': tensor([ 3, 60]), 'y': tensor([  6, 120])}\n",
      "[2023-07-21 11:14:43,376 27580:140704357856832][log.py:48 todd.CustomIterBasedTrainer.custom_iter_based_trainer after_run_iter] INFO: Iter [20/53] loss=2.640 weight=1.945 batch={'x': tensor([52, 44]), 'y': tensor([104,  88])}\n",
      "[2023-07-21 11:14:43,379 27580:140704357856832][log.py:48 todd.CustomIterBasedTrainer.custom_iter_based_trainer after_run_iter] INFO: Iter [25/53] loss=2.645 weight=2.058 batch={'x': tensor([43, 49]), 'y': tensor([86, 98])}\n",
      "[2023-07-21 11:14:43,383 27580:140704357856832][log.py:48 todd.CustomIterBasedTrainer.custom_iter_based_trainer after_run_iter] INFO: Iter [30/53] loss=2.100 weight=2.175 batch={'x': tensor([ 1, 23]), 'y': tensor([ 2, 46])}\n",
      "[2023-07-21 11:14:43,386 27580:140704357856832][log.py:48 todd.CustomIterBasedTrainer.custom_iter_based_trainer after_run_iter] INFO: Iter [35/53] loss=1.628 weight=2.035 batch={'x': tensor([67, 26]), 'y': tensor([134,  52])}\n",
      "[2023-07-21 11:14:43,389 27580:140704357856832][log.py:48 todd.CustomIterBasedTrainer.custom_iter_based_trainer after_run_iter] INFO: Iter [40/53] loss=7.035 weight=2.210 batch={'x': tensor([38, 29]), 'y': tensor([76, 58])}\n",
      "[2023-07-21 11:14:43,392 27580:140704357856832][log.py:48 todd.CustomIterBasedTrainer.custom_iter_based_trainer after_run_iter] INFO: Iter [45/53] loss=0.380 weight=2.040 batch={'x': tensor([ 7, 12]), 'y': tensor([14, 24])}\n",
      "[2023-07-21 11:14:43,394 27580:140704357856832][log.py:48 todd.CustomIterBasedTrainer.custom_iter_based_trainer after_run_iter] INFO: Iter [50/53] loss=3.053 weight=2.093 batch={'x': tensor([13, 53]), 'y': tensor([ 26, 106])}\n"
     ]
    }
   ],
   "source": [
    "with tempfile.TemporaryDirectory() as work_dirs:\n",
    "    runner: CustomIterBasedTrainer = todd.RunnerRegistry.build(\n",
    "        optimize_callback_demo,\n",
    "        work_dir=dict(root=work_dirs),\n",
    "    )\n",
    "    runner.run()"
   ]
  },
  {
   "cell_type": "markdown",
   "metadata": {},
   "source": [
    "### Learning Rate Schedule"
   ]
  },
  {
   "cell_type": "code",
   "execution_count": 23,
   "metadata": {},
   "outputs": [],
   "source": [
    "lr_schedule_callback_demo = iter_based_trainer_demo.copy()\n",
    "lr_schedule_callback = todd.Config(\n",
    "    type='LRScheduleCallback',\n",
    "    lr_scheduler=dict(type='LinearLR', total_iters=10),\n",
    ")\n",
    "lr_schedule_callback_demo.callbacks = [\n",
    "    optimize_callback,\n",
    "    lr_schedule_callback,\n",
    "    log_callback,\n",
    "]\n"
   ]
  },
  {
   "cell_type": "code",
   "execution_count": 24,
   "metadata": {},
   "outputs": [
    {
     "name": "stderr",
     "output_type": "stream",
     "text": [
      "\u001b[2m[2023-07-21 11:14:43,413 27580:140704357856832][runners.py:61 todd.CustomIterBasedTrainer.custom_iter_based_trainer __init__] DEBUG: Rank 0 initialized by bytedance@C02G870SMD6R\u001b[m\n",
      "[2023-07-21 11:14:43,418 27580:140704357856832][log.py:48 todd.CustomIterBasedTrainer.custom_iter_based_trainer after_run_iter] INFO: Iter [5/53] loss=54.491 weight=0.297 batch={'x': tensor([37, 27]), 'y': tensor([74, 54])} lr=['3.333e-03']\n",
      "[2023-07-21 11:14:43,421 27580:140704357856832][log.py:48 todd.CustomIterBasedTrainer.custom_iter_based_trainer after_run_iter] INFO: Iter [10/53] loss=53.707 weight=0.869 batch={'x': tensor([51, 44]), 'y': tensor([102,  88])} lr=['5.000e-03']\n",
      "[2023-07-21 11:14:43,424 27580:140704357856832][log.py:48 todd.CustomIterBasedTrainer.custom_iter_based_trainer after_run_iter] INFO: Iter [15/53] loss=0.711 weight=1.921 batch={'x': tensor([ 1, 17]), 'y': tensor([ 2, 34])} lr=['5.000e-03']\n",
      "[2023-07-21 11:14:43,428 27580:140704357856832][log.py:48 todd.CustomIterBasedTrainer.custom_iter_based_trainer after_run_iter] INFO: Iter [20/53] loss=3.386 weight=1.908 batch={'x': tensor([59, 15]), 'y': tensor([118,  30])} lr=['5.000e-03']\n",
      "[2023-07-21 11:14:43,431 27580:140704357856832][log.py:48 todd.CustomIterBasedTrainer.custom_iter_based_trainer after_run_iter] INFO: Iter [25/53] loss=0.114 weight=2.006 batch={'x': tensor([ 6, 32]), 'y': tensor([12, 64])} lr=['5.000e-03']\n",
      "[2023-07-21 11:14:43,435 27580:140704357856832][log.py:48 todd.CustomIterBasedTrainer.custom_iter_based_trainer after_run_iter] INFO: Iter [30/53] loss=4.847 weight=2.138 batch={'x': tensor([66,  4]), 'y': tensor([132,   8])} lr=['5.000e-03']\n",
      "[2023-07-21 11:14:43,438 27580:140704357856832][log.py:48 todd.CustomIterBasedTrainer.custom_iter_based_trainer after_run_iter] INFO: Iter [35/53] loss=2.021 weight=2.068 batch={'x': tensor([23, 36]), 'y': tensor([46, 72])} lr=['5.000e-03']\n",
      "[2023-07-21 11:14:43,441 27580:140704357856832][log.py:48 todd.CustomIterBasedTrainer.custom_iter_based_trainer after_run_iter] INFO: Iter [40/53] loss=4.159 weight=2.088 batch={'x': tensor([46, 48]), 'y': tensor([92, 96])} lr=['5.000e-03']\n",
      "[2023-07-21 11:14:43,444 27580:140704357856832][log.py:48 todd.CustomIterBasedTrainer.custom_iter_based_trainer after_run_iter] INFO: Iter [45/53] loss=9.723 weight=1.768 batch={'x': tensor([20, 64]), 'y': tensor([ 40, 128])} lr=['5.000e-03']\n",
      "[2023-07-21 11:14:43,447 27580:140704357856832][log.py:48 todd.CustomIterBasedTrainer.custom_iter_based_trainer after_run_iter] INFO: Iter [50/53] loss=11.394 weight=1.808 batch={'x': tensor([57, 62]), 'y': tensor([114, 124])} lr=['5.000e-03']\n"
     ]
    }
   ],
   "source": [
    "with tempfile.TemporaryDirectory() as work_dirs:\n",
    "    runner: CustomIterBasedTrainer = todd.RunnerRegistry.build(\n",
    "        lr_schedule_callback_demo,\n",
    "        work_dir=dict(root=work_dirs),\n",
    "    )\n",
    "    runner.run()"
   ]
  },
  {
   "cell_type": "code",
   "execution_count": 25,
   "metadata": {},
   "outputs": [],
   "source": [
    "lr_schedule_by_epoch_callback_demo = epoch_based_trainer_demo.copy()\n",
    "lr_schedule_by_epoch_callback = lr_schedule_callback.copy()\n",
    "lr_schedule_by_epoch_callback.by_epoch = True\n",
    "lr_schedule_by_epoch_callback_demo.callbacks = [\n",
    "    optimize_callback,\n",
    "    lr_schedule_by_epoch_callback,\n",
    "    log_callback,\n",
    "]\n"
   ]
  },
  {
   "cell_type": "code",
   "execution_count": 26,
   "metadata": {},
   "outputs": [
    {
     "name": "stderr",
     "output_type": "stream",
     "text": [
      "\u001b[2m[2023-07-21 11:14:43,467 27580:140704357856832][runners.py:61 todd.CustomEpochBasedTrainer.custom_epoch_based_trainer __init__] DEBUG: Rank 0 initialized by bytedance@C02G870SMD6R\u001b[m\n",
      "[2023-07-21 11:14:43,468 27580:140704357856832][log.py:54 todd.CustomEpochBasedTrainer.custom_epoch_based_trainer before_run_epoch] INFO: Epoch [1/3]\n",
      "[2023-07-21 11:14:43,472 27580:140704357856832][log.py:48 todd.CustomEpochBasedTrainer.custom_epoch_based_trainer after_run_iter] INFO: Iter [5/102] loss=49.275 weight=0.175 batch={'x': tensor([22, 32]), 'y': tensor([44, 64])} lr=['1.667e-03']\n",
      "[2023-07-21 11:14:43,475 27580:140704357856832][log.py:48 todd.CustomEpochBasedTrainer.custom_epoch_based_trainer after_run_iter] INFO: Iter [10/102] loss=51.841 weight=0.453 batch={'x': tensor([34, 33]), 'y': tensor([68, 66])} lr=['1.667e-03']\n",
      "[2023-07-21 11:14:43,478 27580:140704357856832][log.py:48 todd.CustomEpochBasedTrainer.custom_epoch_based_trainer after_run_iter] INFO: Iter [15/102] loss=44.257 weight=0.753 batch={'x': tensor([67,  4]), 'y': tensor([134,   8])} lr=['1.667e-03']\n",
      "[2023-07-21 11:14:43,482 27580:140704357856832][log.py:48 todd.CustomEpochBasedTrainer.custom_epoch_based_trainer after_run_iter] INFO: Iter [20/102] loss=25.529 weight=1.072 batch={'x': tensor([ 2, 53]), 'y': tensor([  4, 106])} lr=['1.667e-03']\n",
      "[2023-07-21 11:14:43,485 27580:140704357856832][log.py:48 todd.CustomEpochBasedTrainer.custom_epoch_based_trainer after_run_iter] INFO: Iter [25/102] loss=11.593 weight=1.373 batch={'x': tensor([12, 25]), 'y': tensor([24, 50])} lr=['1.667e-03']\n",
      "[2023-07-21 11:14:43,489 27580:140704357856832][log.py:48 todd.CustomEpochBasedTrainer.custom_epoch_based_trainer after_run_iter] INFO: Iter [30/102] loss=12.116 weight=1.638 batch={'x': tensor([49, 18]), 'y': tensor([98, 36])} lr=['1.667e-03']\n",
      "[2023-07-21 11:14:43,491 27580:140704357856832][log.py:54 todd.CustomEpochBasedTrainer.custom_epoch_based_trainer before_run_epoch] INFO: Epoch [2/3]\n",
      "[2023-07-21 11:14:43,493 27580:140704357856832][log.py:48 todd.CustomEpochBasedTrainer.custom_epoch_based_trainer after_run_iter] INFO: Iter [35/102] loss=2.751 weight=1.941 batch={'x': tensor([51, 42]), 'y': tensor([102,  84])} lr=['2.000e-03']\n",
      "[2023-07-21 11:14:43,496 27580:140704357856832][log.py:48 todd.CustomEpochBasedTrainer.custom_epoch_based_trainer after_run_iter] INFO: Iter [40/102] loss=1.362 weight=2.036 batch={'x': tensor([60, 16]), 'y': tensor([120,  32])} lr=['2.000e-03']\n",
      "[2023-07-21 11:14:43,500 27580:140704357856832][log.py:48 todd.CustomEpochBasedTrainer.custom_epoch_based_trainer after_run_iter] INFO: Iter [45/102] loss=1.197 weight=2.029 batch={'x': tensor([65, 18]), 'y': tensor([130,  36])} lr=['2.000e-03']\n",
      "[2023-07-21 11:14:43,503 27580:140704357856832][log.py:48 todd.CustomEpochBasedTrainer.custom_epoch_based_trainer after_run_iter] INFO: Iter [50/102] loss=0.840 weight=1.946 batch={'x': tensor([12, 19]), 'y': tensor([24, 38])} lr=['2.000e-03']\n",
      "[2023-07-21 11:14:43,506 27580:140704357856832][log.py:48 todd.CustomEpochBasedTrainer.custom_epoch_based_trainer after_run_iter] INFO: Iter [55/102] loss=1.084 weight=1.972 batch={'x': tensor([13, 64]), 'y': tensor([ 26, 128])} lr=['2.000e-03']\n",
      "[2023-07-21 11:14:43,509 27580:140704357856832][log.py:48 todd.CustomEpochBasedTrainer.custom_epoch_based_trainer after_run_iter] INFO: Iter [60/102] loss=0.336 weight=1.987 batch={'x': tensor([41, 10]), 'y': tensor([82, 20])} lr=['2.000e-03']\n",
      "[2023-07-21 11:14:43,512 27580:140704357856832][log.py:48 todd.CustomEpochBasedTrainer.custom_epoch_based_trainer after_run_iter] INFO: Iter [65/102] loss=0.865 weight=2.029 batch={'x': tensor([34, 26]), 'y': tensor([68, 52])} lr=['2.000e-03']\n",
      "[2023-07-21 11:14:43,514 27580:140704357856832][log.py:54 todd.CustomEpochBasedTrainer.custom_epoch_based_trainer before_run_epoch] INFO: Epoch [3/3]\n",
      "[2023-07-21 11:14:43,517 27580:140704357856832][log.py:48 todd.CustomEpochBasedTrainer.custom_epoch_based_trainer after_run_iter] INFO: Iter [70/102] loss=0.197 weight=1.993 batch={'x': tensor([13, 42]), 'y': tensor([26, 84])} lr=['2.333e-03']\n",
      "[2023-07-21 11:14:43,520 27580:140704357856832][log.py:48 todd.CustomEpochBasedTrainer.custom_epoch_based_trainer after_run_iter] INFO: Iter [75/102] loss=0.592 weight=1.978 batch={'x': tensor([35, 18]), 'y': tensor([70, 36])} lr=['2.333e-03']\n",
      "[2023-07-21 11:14:43,523 27580:140704357856832][log.py:48 todd.CustomEpochBasedTrainer.custom_epoch_based_trainer after_run_iter] INFO: Iter [80/102] loss=0.118 weight=2.002 batch={'x': tensor([56, 53]), 'y': tensor([112, 106])} lr=['2.333e-03']\n",
      "[2023-07-21 11:14:43,526 27580:140704357856832][log.py:48 todd.CustomEpochBasedTrainer.custom_epoch_based_trainer after_run_iter] INFO: Iter [85/102] loss=2.601 weight=1.949 batch={'x': tensor([62, 39]), 'y': tensor([124,  78])} lr=['2.333e-03']\n",
      "[2023-07-21 11:14:43,529 27580:140704357856832][log.py:48 todd.CustomEpochBasedTrainer.custom_epoch_based_trainer after_run_iter] INFO: Iter [90/102] loss=5.305 weight=2.115 batch={'x': tensor([38, 54]), 'y': tensor([ 76, 108])} lr=['2.333e-03']\n",
      "[2023-07-21 11:14:43,534 27580:140704357856832][log.py:48 todd.CustomEpochBasedTrainer.custom_epoch_based_trainer after_run_iter] INFO: Iter [95/102] loss=0.046 weight=1.998 batch={'x': tensor([ 7, 30]), 'y': tensor([14, 60])} lr=['2.333e-03']\n",
      "[2023-07-21 11:14:43,540 27580:140704357856832][log.py:48 todd.CustomEpochBasedTrainer.custom_epoch_based_trainer after_run_iter] INFO: Iter [100/102] loss=4.427 weight=2.111 batch={'x': tensor([63, 17]), 'y': tensor([126,  34])} lr=['2.333e-03']\n"
     ]
    }
   ],
   "source": [
    "with tempfile.TemporaryDirectory() as work_dirs:\n",
    "    runner: CustomEpochBasedTrainer = todd.RunnerRegistry.build(\n",
    "        lr_schedule_by_epoch_callback_demo,\n",
    "        work_dir=dict(root=work_dirs),\n",
    "    )\n",
    "    runner.run()"
   ]
  },
  {
   "cell_type": "markdown",
   "metadata": {},
   "source": [
    "### Learning Rate Scaler"
   ]
  },
  {
   "cell_type": "code",
   "execution_count": 27,
   "metadata": {},
   "outputs": [],
   "source": [
    "lr_scaler_callback_demo = iter_based_trainer_demo.copy()\n",
    "lr_scaler_callback = todd.Config(\n",
    "    type='LRScaleCallback',\n",
    "    lr_scaler=dict(base_batch_size=1),\n",
    ")\n",
    "lr_scaler_callback_demo.callbacks = [\n",
    "    optimize_callback,\n",
    "    lr_scaler_callback,\n",
    "    log_callback,\n",
    "]"
   ]
  },
  {
   "cell_type": "code",
   "execution_count": 28,
   "metadata": {},
   "outputs": [
    {
     "name": "stderr",
     "output_type": "stream",
     "text": [
      "[2023-07-21 11:14:43,588 27580:140704357856832][lr.py:92 todd.CustomIterBasedTrainer.custom_iter_based_trainer _scale_lr] INFO: base_batch_size=1 batch_size=2 lr_scaler=2.000\n",
      "\u001b[2m[2023-07-21 11:14:43,600 27580:140704357856832][runners.py:61 todd.CustomIterBasedTrainer.custom_iter_based_trainer __init__] DEBUG: Rank 0 initialized by bytedance@C02G870SMD6R\u001b[m\n",
      "[2023-07-21 11:14:43,604 27580:140704357856832][log.py:48 todd.CustomIterBasedTrainer.custom_iter_based_trainer after_run_iter] INFO: Iter [5/53] loss=18.593 weight=1.445 batch={'x': tensor([47, 20]), 'y': tensor([94, 40])}\n",
      "[2023-07-21 11:14:43,608 27580:140704357856832][log.py:48 todd.CustomIterBasedTrainer.custom_iter_based_trainer after_run_iter] INFO: Iter [10/53] loss=0.245 weight=1.990 batch={'x': tensor([ 3, 46]), 'y': tensor([ 6, 92])}\n",
      "[2023-07-21 11:14:43,613 27580:140704357856832][log.py:48 todd.CustomIterBasedTrainer.custom_iter_based_trainer after_run_iter] INFO: Iter [15/53] loss=16.500 weight=2.330 batch={'x': tensor([59, 41]), 'y': tensor([118,  82])}\n",
      "[2023-07-21 11:14:43,617 27580:140704357856832][log.py:48 todd.CustomIterBasedTrainer.custom_iter_based_trainer after_run_iter] INFO: Iter [20/53] loss=4.463 weight=1.825 batch={'x': tensor([50,  1]), 'y': tensor([100,   2])}\n",
      "[2023-07-21 11:14:43,621 27580:140704357856832][log.py:48 todd.CustomIterBasedTrainer.custom_iter_based_trainer after_run_iter] INFO: Iter [25/53] loss=5.670 weight=2.210 batch={'x': tensor([48,  6]), 'y': tensor([96, 12])}\n",
      "[2023-07-21 11:14:43,625 27580:140704357856832][log.py:48 todd.CustomIterBasedTrainer.custom_iter_based_trainer after_run_iter] INFO: Iter [30/53] loss=24.200 weight=2.550 batch={'x': tensor([63, 25]), 'y': tensor([126,  50])}\n",
      "[2023-07-21 11:14:43,628 27580:140704357856832][log.py:48 todd.CustomIterBasedTrainer.custom_iter_based_trainer after_run_iter] INFO: Iter [35/53] loss=5.100 weight=1.850 batch={'x': tensor([42, 26]), 'y': tensor([84, 52])}\n",
      "[2023-07-21 11:14:43,631 27580:140704357856832][log.py:48 todd.CustomIterBasedTrainer.custom_iter_based_trainer after_run_iter] INFO: Iter [40/53] loss=7.480 weight=1.830 batch={'x': tensor([30, 58]), 'y': tensor([ 60, 116])}\n",
      "[2023-07-21 11:14:43,634 27580:140704357856832][log.py:48 todd.CustomIterBasedTrainer.custom_iter_based_trainer after_run_iter] INFO: Iter [45/53] loss=0.000 weight=2.000 batch={'x': tensor([51, 39]), 'y': tensor([102,  78])}\n",
      "[2023-07-21 11:14:43,637 27580:140704357856832][log.py:48 todd.CustomIterBasedTrainer.custom_iter_based_trainer after_run_iter] INFO: Iter [50/53] loss=0.000 weight=2.000 batch={'x': tensor([21,  5]), 'y': tensor([42, 10])}\n"
     ]
    }
   ],
   "source": [
    "with tempfile.TemporaryDirectory() as work_dirs:\n",
    "    runner: CustomIterBasedTrainer = todd.RunnerRegistry.build(\n",
    "        lr_scaler_callback_demo,\n",
    "        work_dir=dict(root=work_dirs),\n",
    "    )\n",
    "    runner.run()"
   ]
  },
  {
   "cell_type": "markdown",
   "metadata": {},
   "source": [
    "### Checkpoint"
   ]
  },
  {
   "cell_type": "code",
   "execution_count": 29,
   "metadata": {},
   "outputs": [],
   "source": [
    "checkpoint_callback_demo = iter_based_trainer_demo.copy()\n",
    "checkpoint_callback = todd.Config(type='CheckpointCallback', interval=10)\n",
    "checkpoint_callback_demo.callbacks = [checkpoint_callback, log_callback]"
   ]
  },
  {
   "cell_type": "code",
   "execution_count": 30,
   "metadata": {},
   "outputs": [
    {
     "name": "stderr",
     "output_type": "stream",
     "text": [
      "\u001b[2m[2023-07-21 11:14:43,660 27580:140704357856832][runners.py:61 todd.CustomIterBasedTrainer.custom_iter_based_trainer __init__] DEBUG: Rank 0 initialized by bytedance@C02G870SMD6R\u001b[m\n",
      "[2023-07-21 11:14:43,664 27580:140704357856832][log.py:48 todd.CustomIterBasedTrainer.custom_iter_based_trainer after_run_iter] INFO: Iter [5/53] loss=95.000 weight=0.000 batch={'x': tensor([59, 36]), 'y': tensor([118,  72])}\n",
      "[2023-07-21 11:14:43,667 27580:140704357856832][checkpoint.py:59 todd.CustomIterBasedTrainer.custom_iter_based_trainer _save] INFO: Saving state dict to /var/folders/v_/1kkfntxs5z74_rwvy1f3_mp80000gn/T/tmposrv71ps/custom_iter_based_trainer/checkpoints/iter_10\n",
      "[2023-07-21 11:14:43,670 27580:140704357856832][log.py:48 todd.CustomIterBasedTrainer.custom_iter_based_trainer after_run_iter] INFO: Iter [10/53] loss=124.000 weight=0.000 batch={'x': tensor([63, 61]), 'y': tensor([126, 122])}\n",
      "[2023-07-21 11:14:43,673 27580:140704357856832][log.py:48 todd.CustomIterBasedTrainer.custom_iter_based_trainer after_run_iter] INFO: Iter [15/53] loss=53.000 weight=0.000 batch={'x': tensor([31, 22]), 'y': tensor([62, 44])}\n",
      "[2023-07-21 11:14:43,675 27580:140704357856832][checkpoint.py:59 todd.CustomIterBasedTrainer.custom_iter_based_trainer _save] INFO: Saving state dict to /var/folders/v_/1kkfntxs5z74_rwvy1f3_mp80000gn/T/tmposrv71ps/custom_iter_based_trainer/checkpoints/iter_20\n",
      "[2023-07-21 11:14:43,677 27580:140704357856832][log.py:48 todd.CustomIterBasedTrainer.custom_iter_based_trainer after_run_iter] INFO: Iter [20/53] loss=73.000 weight=0.000 batch={'x': tensor([47, 26]), 'y': tensor([94, 52])}\n",
      "[2023-07-21 11:14:43,680 27580:140704357856832][log.py:48 todd.CustomIterBasedTrainer.custom_iter_based_trainer after_run_iter] INFO: Iter [25/53] loss=27.000 weight=0.000 batch={'x': tensor([17, 10]), 'y': tensor([34, 20])}\n",
      "[2023-07-21 11:14:43,683 27580:140704357856832][checkpoint.py:59 todd.CustomIterBasedTrainer.custom_iter_based_trainer _save] INFO: Saving state dict to /var/folders/v_/1kkfntxs5z74_rwvy1f3_mp80000gn/T/tmposrv71ps/custom_iter_based_trainer/checkpoints/iter_30\n",
      "[2023-07-21 11:14:43,685 27580:140704357856832][log.py:48 todd.CustomIterBasedTrainer.custom_iter_based_trainer after_run_iter] INFO: Iter [30/53] loss=51.000 weight=0.000 batch={'x': tensor([33, 18]), 'y': tensor([66, 36])}\n",
      "[2023-07-21 11:14:43,688 27580:140704357856832][log.py:48 todd.CustomIterBasedTrainer.custom_iter_based_trainer after_run_iter] INFO: Iter [35/53] loss=102.000 weight=0.000 batch={'x': tensor([56, 46]), 'y': tensor([112,  92])}\n",
      "[2023-07-21 11:14:43,690 27580:140704357856832][checkpoint.py:59 todd.CustomIterBasedTrainer.custom_iter_based_trainer _save] INFO: Saving state dict to /var/folders/v_/1kkfntxs5z74_rwvy1f3_mp80000gn/T/tmposrv71ps/custom_iter_based_trainer/checkpoints/iter_40\n",
      "[2023-07-21 11:14:43,692 27580:140704357856832][log.py:48 todd.CustomIterBasedTrainer.custom_iter_based_trainer after_run_iter] INFO: Iter [40/53] loss=74.000 weight=0.000 batch={'x': tensor([66,  8]), 'y': tensor([132,  16])}\n",
      "[2023-07-21 11:14:43,695 27580:140704357856832][log.py:48 todd.CustomIterBasedTrainer.custom_iter_based_trainer after_run_iter] INFO: Iter [45/53] loss=84.000 weight=0.000 batch={'x': tensor([55, 29]), 'y': tensor([110,  58])}\n",
      "[2023-07-21 11:14:43,697 27580:140704357856832][checkpoint.py:59 todd.CustomIterBasedTrainer.custom_iter_based_trainer _save] INFO: Saving state dict to /var/folders/v_/1kkfntxs5z74_rwvy1f3_mp80000gn/T/tmposrv71ps/custom_iter_based_trainer/checkpoints/iter_50\n",
      "[2023-07-21 11:14:43,699 27580:140704357856832][log.py:48 todd.CustomIterBasedTrainer.custom_iter_based_trainer after_run_iter] INFO: Iter [50/53] loss=49.000 weight=0.000 batch={'x': tensor([21, 28]), 'y': tensor([42, 56])}\n",
      "[2023-07-21 11:14:43,702 27580:140704357856832][checkpoint.py:59 todd.CustomIterBasedTrainer.custom_iter_based_trainer _save] INFO: Saving state dict to /var/folders/v_/1kkfntxs5z74_rwvy1f3_mp80000gn/T/tmposrv71ps/custom_iter_based_trainer/checkpoints/latest\n"
     ]
    },
    {
     "name": "stdout",
     "output_type": "stream",
     "text": [
      "\n",
      "\u001b[1;36m/var/folders/v_/1kkfntxs5z74_rwvy1f3_mp80000gn/T/tmposrv71ps\u001b[0m\n",
      "└── \u001b[1;36mcustom_iter_based_trainer\u001b[0m\n",
      "    ├── 2023-07-21T11-14-43_660246-08-00.log\n",
      "    └── \u001b[1;36mcheckpoints\u001b[0m\n",
      "        ├── \u001b[1;36miter_10\u001b[0m\n",
      "        │   ├── callbacks.pth\n",
      "        │   ├── meta.pth\n",
      "        │   ├── model.pth\n",
      "        │   ├── optim.pth\n",
      "        │   └── strategy.pth\n",
      "        ├── \u001b[1;36miter_20\u001b[0m\n",
      "        │   ├── callbacks.pth\n",
      "        │   ├── meta.pth\n",
      "        │   ├── model.pth\n",
      "        │   ├── optim.pth\n",
      "        │   └── strategy.pth\n",
      "        ├── \u001b[1;36miter_30\u001b[0m\n",
      "        │   ├── callbacks.pth\n",
      "        │   ├── meta.pth\n",
      "        │   ├── model.pth\n",
      "        │   ├── optim.pth\n",
      "        │   └── strategy.pth\n",
      "        ├── \u001b[1;36miter_40\u001b[0m\n",
      "        │   ├── callbacks.pth\n",
      "        │   ├── meta.pth\n",
      "        │   ├── model.pth\n",
      "        │   ├── optim.pth\n",
      "        │   └── strategy.pth\n",
      "        ├── \u001b[1;36miter_50\u001b[0m\n",
      "        │   ├── callbacks.pth\n",
      "        │   ├── meta.pth\n",
      "        │   ├── model.pth\n",
      "        │   ├── optim.pth\n",
      "        │   └── strategy.pth\n",
      "        └── \u001b[1;36mlatest\u001b[0m\n",
      "            ├── callbacks.pth\n",
      "            ├── meta.pth\n",
      "            ├── model.pth\n",
      "            ├── optim.pth\n",
      "            └── strategy.pth\n",
      "\n",
      "9 directories, 31 files\n",
      "\n",
      "strategy.pth:\n",
      "{}\n",
      "\n",
      "optim.pth:\n",
      "{'param_groups': [{'dampening': 0,\n",
      "                   'differentiable': False,\n",
      "                   'foreach': None,\n",
      "                   'lr': 0.005,\n",
      "                   'maximize': False,\n",
      "                   'momentum': 0,\n",
      "                   'nesterov': False,\n",
      "                   'params': [0],\n",
      "                   'weight_decay': 0}],\n",
      " 'state': {}}\n",
      "\n",
      "meta.pth:\n",
      "{'iter_': 50}\n",
      "\n",
      "model.pth:\n",
      "OrderedDict([('_weight', tensor(0.))])\n",
      "\n",
      "callbacks.pth:\n",
      "{'callbacks': [{}, {}]}\n",
      "\n"
     ]
    }
   ],
   "source": [
    "with tempfile.TemporaryDirectory() as work_dirs:\n",
    "    runner: CustomIterBasedTrainer = todd.RunnerRegistry.build(\n",
    "        checkpoint_callback_demo, \n",
    "        work_dir=dict(root=work_dirs),\n",
    "    )\n",
    "    runner.run()\n",
    "\n",
    "    !echo\n",
    "    !tree {work_dirs}\n",
    "    !echo\n",
    "\n",
    "    iter_50 = pathlib.Path(work_dirs) / 'custom_iter_based_trainer' / 'checkpoints' / 'iter_50'\n",
    "    for f in iter_50.glob('*.pth'):\n",
    "        print(f\"{f.name}:\")\n",
    "        pprint(torch.load(f, 'cpu'))\n",
    "        print()"
   ]
  },
  {
   "cell_type": "code",
   "execution_count": 31,
   "metadata": {},
   "outputs": [],
   "source": [
    "checkpoint_by_epoch_callback_demo = epoch_based_trainer_demo.copy()\n",
    "checkpoint_by_epoch_callback = checkpoint_callback.copy()\n",
    "checkpoint_by_epoch_callback.update(interval=1, by_epoch=True)\n",
    "checkpoint_by_epoch_callback_demo.callbacks = [\n",
    "    checkpoint_by_epoch_callback,\n",
    "    log_callback,\n",
    "]"
   ]
  },
  {
   "cell_type": "code",
   "execution_count": 32,
   "metadata": {},
   "outputs": [
    {
     "name": "stderr",
     "output_type": "stream",
     "text": [
      "\u001b[2m[2023-07-21 11:14:44,207 27580:140704357856832][runners.py:61 todd.CustomEpochBasedTrainer.custom_epoch_based_trainer __init__] DEBUG: Rank 0 initialized by bytedance@C02G870SMD6R\u001b[m\n",
      "[2023-07-21 11:14:44,210 27580:140704357856832][log.py:54 todd.CustomEpochBasedTrainer.custom_epoch_based_trainer before_run_epoch] INFO: Epoch [1/3]\n",
      "[2023-07-21 11:14:44,217 27580:140704357856832][log.py:48 todd.CustomEpochBasedTrainer.custom_epoch_based_trainer after_run_iter] INFO: Iter [5/102] loss=53.000 weight=0.000 batch={'x': tensor([39, 14]), 'y': tensor([78, 28])}\n",
      "[2023-07-21 11:14:44,221 27580:140704357856832][log.py:48 todd.CustomEpochBasedTrainer.custom_epoch_based_trainer after_run_iter] INFO: Iter [10/102] loss=27.000 weight=0.000 batch={'x': tensor([26,  1]), 'y': tensor([52,  2])}\n",
      "[2023-07-21 11:14:44,224 27580:140704357856832][log.py:48 todd.CustomEpochBasedTrainer.custom_epoch_based_trainer after_run_iter] INFO: Iter [15/102] loss=91.000 weight=0.000 batch={'x': tensor([54, 37]), 'y': tensor([108,  74])}\n",
      "[2023-07-21 11:14:44,227 27580:140704357856832][log.py:48 todd.CustomEpochBasedTrainer.custom_epoch_based_trainer after_run_iter] INFO: Iter [20/102] loss=72.000 weight=0.000 batch={'x': tensor([45, 27]), 'y': tensor([90, 54])}\n",
      "[2023-07-21 11:14:44,230 27580:140704357856832][log.py:48 todd.CustomEpochBasedTrainer.custom_epoch_based_trainer after_run_iter] INFO: Iter [25/102] loss=36.000 weight=0.000 batch={'x': tensor([15, 21]), 'y': tensor([30, 42])}\n",
      "[2023-07-21 11:14:44,234 27580:140704357856832][log.py:48 todd.CustomEpochBasedTrainer.custom_epoch_based_trainer after_run_iter] INFO: Iter [30/102] loss=106.000 weight=0.000 batch={'x': tensor([66, 40]), 'y': tensor([132,  80])}\n",
      "[2023-07-21 11:14:44,238 27580:140704357856832][checkpoint.py:59 todd.CustomEpochBasedTrainer.custom_epoch_based_trainer _save] INFO: Saving state dict to /var/folders/v_/1kkfntxs5z74_rwvy1f3_mp80000gn/T/tmpj92b9ere/custom_epoch_based_trainer/checkpoints/epoch_1\n",
      "[2023-07-21 11:14:44,241 27580:140704357856832][log.py:54 todd.CustomEpochBasedTrainer.custom_epoch_based_trainer before_run_epoch] INFO: Epoch [2/3]\n",
      "[2023-07-21 11:14:44,244 27580:140704357856832][log.py:48 todd.CustomEpochBasedTrainer.custom_epoch_based_trainer after_run_iter] INFO: Iter [35/102] loss=31.000 weight=0.000 batch={'x': tensor([ 3, 28]), 'y': tensor([ 6, 56])}\n",
      "[2023-07-21 11:14:44,247 27580:140704357856832][log.py:48 todd.CustomEpochBasedTrainer.custom_epoch_based_trainer after_run_iter] INFO: Iter [40/102] loss=48.000 weight=0.000 batch={'x': tensor([30, 18]), 'y': tensor([60, 36])}\n",
      "[2023-07-21 11:14:44,250 27580:140704357856832][log.py:48 todd.CustomEpochBasedTrainer.custom_epoch_based_trainer after_run_iter] INFO: Iter [45/102] loss=118.000 weight=0.000 batch={'x': tensor([51, 67]), 'y': tensor([102, 134])}\n",
      "[2023-07-21 11:14:44,252 27580:140704357856832][log.py:48 todd.CustomEpochBasedTrainer.custom_epoch_based_trainer after_run_iter] INFO: Iter [50/102] loss=70.000 weight=0.000 batch={'x': tensor([11, 59]), 'y': tensor([ 22, 118])}\n",
      "[2023-07-21 11:14:44,255 27580:140704357856832][log.py:48 todd.CustomEpochBasedTrainer.custom_epoch_based_trainer after_run_iter] INFO: Iter [55/102] loss=90.000 weight=0.000 batch={'x': tensor([61, 29]), 'y': tensor([122,  58])}\n",
      "[2023-07-21 11:14:44,257 27580:140704357856832][log.py:48 todd.CustomEpochBasedTrainer.custom_epoch_based_trainer after_run_iter] INFO: Iter [60/102] loss=50.000 weight=0.000 batch={'x': tensor([ 4, 46]), 'y': tensor([ 8, 92])}\n",
      "[2023-07-21 11:14:44,260 27580:140704357856832][log.py:48 todd.CustomEpochBasedTrainer.custom_epoch_based_trainer after_run_iter] INFO: Iter [65/102] loss=84.000 weight=0.000 batch={'x': tensor([62, 22]), 'y': tensor([124,  44])}\n",
      "[2023-07-21 11:14:44,262 27580:140704357856832][checkpoint.py:59 todd.CustomEpochBasedTrainer.custom_epoch_based_trainer _save] INFO: Saving state dict to /var/folders/v_/1kkfntxs5z74_rwvy1f3_mp80000gn/T/tmpj92b9ere/custom_epoch_based_trainer/checkpoints/epoch_2\n",
      "[2023-07-21 11:14:44,265 27580:140704357856832][log.py:54 todd.CustomEpochBasedTrainer.custom_epoch_based_trainer before_run_epoch] INFO: Epoch [3/3]\n",
      "[2023-07-21 11:14:44,268 27580:140704357856832][log.py:48 todd.CustomEpochBasedTrainer.custom_epoch_based_trainer after_run_iter] INFO: Iter [70/102] loss=41.000 weight=0.000 batch={'x': tensor([ 6, 35]), 'y': tensor([12, 70])}\n",
      "[2023-07-21 11:14:44,270 27580:140704357856832][log.py:48 todd.CustomEpochBasedTrainer.custom_epoch_based_trainer after_run_iter] INFO: Iter [75/102] loss=11.000 weight=0.000 batch={'x': tensor([9, 2]), 'y': tensor([18,  4])}\n",
      "[2023-07-21 11:14:44,273 27580:140704357856832][log.py:48 todd.CustomEpochBasedTrainer.custom_epoch_based_trainer after_run_iter] INFO: Iter [80/102] loss=109.000 weight=0.000 batch={'x': tensor([56, 53]), 'y': tensor([112, 106])}\n",
      "[2023-07-21 11:14:44,276 27580:140704357856832][log.py:48 todd.CustomEpochBasedTrainer.custom_epoch_based_trainer after_run_iter] INFO: Iter [85/102] loss=76.000 weight=0.000 batch={'x': tensor([50, 26]), 'y': tensor([100,  52])}\n",
      "[2023-07-21 11:14:44,278 27580:140704357856832][log.py:48 todd.CustomEpochBasedTrainer.custom_epoch_based_trainer after_run_iter] INFO: Iter [90/102] loss=87.000 weight=0.000 batch={'x': tensor([64, 23]), 'y': tensor([128,  46])}\n",
      "[2023-07-21 11:14:44,280 27580:140704357856832][log.py:48 todd.CustomEpochBasedTrainer.custom_epoch_based_trainer after_run_iter] INFO: Iter [95/102] loss=106.000 weight=0.000 batch={'x': tensor([43, 63]), 'y': tensor([ 86, 126])}\n",
      "[2023-07-21 11:14:44,283 27580:140704357856832][log.py:48 todd.CustomEpochBasedTrainer.custom_epoch_based_trainer after_run_iter] INFO: Iter [100/102] loss=37.000 weight=0.000 batch={'x': tensor([30,  7]), 'y': tensor([60, 14])}\n",
      "[2023-07-21 11:14:44,285 27580:140704357856832][checkpoint.py:59 todd.CustomEpochBasedTrainer.custom_epoch_based_trainer _save] INFO: Saving state dict to /var/folders/v_/1kkfntxs5z74_rwvy1f3_mp80000gn/T/tmpj92b9ere/custom_epoch_based_trainer/checkpoints/epoch_3\n",
      "[2023-07-21 11:14:44,288 27580:140704357856832][checkpoint.py:59 todd.CustomEpochBasedTrainer.custom_epoch_based_trainer _save] INFO: Saving state dict to /var/folders/v_/1kkfntxs5z74_rwvy1f3_mp80000gn/T/tmpj92b9ere/custom_epoch_based_trainer/checkpoints/latest\n"
     ]
    },
    {
     "name": "stdout",
     "output_type": "stream",
     "text": [
      "\n",
      "\u001b[1;36m/var/folders/v_/1kkfntxs5z74_rwvy1f3_mp80000gn/T/tmpj92b9ere\u001b[0m\n",
      "└── \u001b[1;36mcustom_epoch_based_trainer\u001b[0m\n",
      "    ├── 2023-07-21T11-14-44_206649-08-00.log\n",
      "    └── \u001b[1;36mcheckpoints\u001b[0m\n",
      "        ├── \u001b[1;36mepoch_1\u001b[0m\n",
      "        │   ├── callbacks.pth\n",
      "        │   ├── meta.pth\n",
      "        │   ├── model.pth\n",
      "        │   ├── optim.pth\n",
      "        │   └── strategy.pth\n",
      "        ├── \u001b[1;36mepoch_2\u001b[0m\n",
      "        │   ├── callbacks.pth\n",
      "        │   ├── meta.pth\n",
      "        │   ├── model.pth\n",
      "        │   ├── optim.pth\n",
      "        │   └── strategy.pth\n",
      "        ├── \u001b[1;36mepoch_3\u001b[0m\n",
      "        │   ├── callbacks.pth\n",
      "        │   ├── meta.pth\n",
      "        │   ├── model.pth\n",
      "        │   ├── optim.pth\n",
      "        │   └── strategy.pth\n",
      "        └── \u001b[1;36mlatest\u001b[0m\n",
      "            ├── callbacks.pth\n",
      "            ├── meta.pth\n",
      "            ├── model.pth\n",
      "            ├── optim.pth\n",
      "            └── strategy.pth\n",
      "\n",
      "7 directories, 21 files\n",
      "\n",
      "strategy.pth:\n",
      "{}\n",
      "\n",
      "optim.pth:\n",
      "{'param_groups': [{'dampening': 0,\n",
      "                   'differentiable': False,\n",
      "                   'foreach': None,\n",
      "                   'lr': 0.005,\n",
      "                   'maximize': False,\n",
      "                   'momentum': 0,\n",
      "                   'nesterov': False,\n",
      "                   'params': [0],\n",
      "                   'weight_decay': 0}],\n",
      " 'state': {}}\n",
      "\n",
      "meta.pth:\n",
      "{'epoch': 2, 'iter_': 68}\n",
      "\n",
      "model.pth:\n",
      "OrderedDict([('_weight', tensor(0.))])\n",
      "\n",
      "callbacks.pth:\n",
      "{'callbacks': [{}, {}]}\n",
      "\n"
     ]
    }
   ],
   "source": [
    "with tempfile.TemporaryDirectory() as work_dirs:\n",
    "    runner: CustomEpochBasedTrainer = todd.RunnerRegistry.build(\n",
    "        checkpoint_by_epoch_callback_demo, \n",
    "        work_dir=dict(root=work_dirs),\n",
    "    )\n",
    "    runner.run()\n",
    "\n",
    "    !echo\n",
    "    !tree {work_dirs}\n",
    "    !echo\n",
    "\n",
    "    epoch_2 = pathlib.Path(work_dirs) / 'custom_epoch_based_trainer' / 'checkpoints' / 'epoch_2'\n",
    "    for f in epoch_2.glob('*.pth'):\n",
    "        print(f\"{f.name}:\")\n",
    "        pprint(torch.load(f, 'cpu'))\n",
    "        print()"
   ]
  },
  {
   "cell_type": "code",
   "execution_count": 33,
   "metadata": {},
   "outputs": [],
   "source": [
    "checkpoint_load_from_callback_demo = checkpoint_by_epoch_callback_demo.copy()\n",
    "checkpoint_load_from_callback_demo.callbacks = [\n",
    "    optimize_callback,\n",
    "    checkpoint_by_epoch_callback,\n",
    "    log_callback,\n",
    "]"
   ]
  },
  {
   "cell_type": "code",
   "execution_count": 34,
   "metadata": {},
   "outputs": [
    {
     "name": "stderr",
     "output_type": "stream",
     "text": [
      "\u001b[2m[2023-07-21 11:14:44,730 27580:140704357856832][runners.py:61 todd.CustomEpochBasedTrainer.custom_epoch_based_trainer __init__] DEBUG: Rank 0 initialized by bytedance@C02G870SMD6R\u001b[m\n",
      "[2023-07-21 11:14:44,735 27580:140704357856832][log.py:54 todd.CustomEpochBasedTrainer.custom_epoch_based_trainer before_run_epoch] INFO: Epoch [1/3]\n",
      "[2023-07-21 11:14:44,741 27580:140704357856832][log.py:48 todd.CustomEpochBasedTrainer.custom_epoch_based_trainer after_run_iter] INFO: Iter [5/102] loss=53.338 weight=0.745 batch={'x': tensor([32, 53]), 'y': tensor([ 64, 106])}\n",
      "[2023-07-21 11:14:44,748 27580:140704357856832][log.py:48 todd.CustomEpochBasedTrainer.custom_epoch_based_trainer after_run_iter] INFO: Iter [10/102] loss=22.220 weight=1.560 batch={'x': tensor([41, 60]), 'y': tensor([ 82, 120])}\n"
     ]
    },
    {
     "name": "stderr",
     "output_type": "stream",
     "text": [
      "[2023-07-21 11:14:44,755 27580:140704357856832][log.py:48 todd.CustomEpochBasedTrainer.custom_epoch_based_trainer after_run_iter] INFO: Iter [15/102] loss=0.736 weight=2.047 batch={'x': tensor([ 8, 23]), 'y': tensor([16, 46])}\n",
      "[2023-07-21 11:14:44,760 27580:140704357856832][log.py:48 todd.CustomEpochBasedTrainer.custom_epoch_based_trainer after_run_iter] INFO: Iter [20/102] loss=0.094 weight=2.003 batch={'x': tensor([25, 50]), 'y': tensor([ 50, 100])}\n",
      "[2023-07-21 11:14:44,766 27580:140704357856832][log.py:48 todd.CustomEpochBasedTrainer.custom_epoch_based_trainer after_run_iter] INFO: Iter [25/102] loss=10.997 weight=1.793 batch={'x': tensor([49, 57]), 'y': tensor([ 98, 114])}\n",
      "[2023-07-21 11:14:44,772 27580:140704357856832][log.py:48 todd.CustomEpochBasedTrainer.custom_epoch_based_trainer after_run_iter] INFO: Iter [30/102] loss=3.604 weight=1.923 batch={'x': tensor([64, 29]), 'y': tensor([128,  58])}\n",
      "[2023-07-21 11:14:44,784 27580:140704357856832][checkpoint.py:59 todd.CustomEpochBasedTrainer.custom_epoch_based_trainer _save] INFO: Saving state dict to /var/folders/v_/1kkfntxs5z74_rwvy1f3_mp80000gn/T/tmpw2_cbc5g/custom_epoch_based_trainer/checkpoints/epoch_1\n",
      "[2023-07-21 11:14:44,788 27580:140704357856832][log.py:54 todd.CustomEpochBasedTrainer.custom_epoch_based_trainer before_run_epoch] INFO: Epoch [2/3]\n",
      "[2023-07-21 11:14:44,792 27580:140704357856832][log.py:48 todd.CustomEpochBasedTrainer.custom_epoch_based_trainer after_run_iter] INFO: Iter [35/102] loss=1.035 weight=2.030 batch={'x': tensor([24, 45]), 'y': tensor([48, 90])}\n",
      "[2023-07-21 11:14:44,798 27580:140704357856832][log.py:48 todd.CustomEpochBasedTrainer.custom_epoch_based_trainer after_run_iter] INFO: Iter [40/102] loss=1.544 weight=1.952 batch={'x': tensor([33, 32]), 'y': tensor([66, 64])}\n",
      "[2023-07-21 11:14:44,803 27580:140704357856832][log.py:48 todd.CustomEpochBasedTrainer.custom_epoch_based_trainer after_run_iter] INFO: Iter [45/102] loss=0.878 weight=1.985 batch={'x': tensor([60, 57]), 'y': tensor([120, 114])}\n",
      "[2023-07-21 11:14:44,808 27580:140704357856832][log.py:48 todd.CustomEpochBasedTrainer.custom_epoch_based_trainer after_run_iter] INFO: Iter [50/102] loss=0.085 weight=2.003 batch={'x': tensor([52, 16]), 'y': tensor([104,  32])}\n",
      "[2023-07-21 11:14:44,813 27580:140704357856832][log.py:48 todd.CustomEpochBasedTrainer.custom_epoch_based_trainer after_run_iter] INFO: Iter [55/102] loss=0.094 weight=2.003 batch={'x': tensor([ 8, 67]), 'y': tensor([ 16, 134])}\n",
      "[2023-07-21 11:14:44,818 27580:140704357856832][log.py:48 todd.CustomEpochBasedTrainer.custom_epoch_based_trainer after_run_iter] INFO: Iter [60/102] loss=4.080 weight=1.915 batch={'x': tensor([49, 47]), 'y': tensor([98, 94])}\n",
      "[2023-07-21 11:14:44,822 27580:140704357856832][log.py:48 todd.CustomEpochBasedTrainer.custom_epoch_based_trainer after_run_iter] INFO: Iter [65/102] loss=8.925 weight=1.787 batch={'x': tensor([58, 26]), 'y': tensor([116,  52])}\n",
      "[2023-07-21 11:14:44,824 27580:140704357856832][checkpoint.py:59 todd.CustomEpochBasedTrainer.custom_epoch_based_trainer _save] INFO: Saving state dict to /var/folders/v_/1kkfntxs5z74_rwvy1f3_mp80000gn/T/tmpw2_cbc5g/custom_epoch_based_trainer/checkpoints/epoch_2\n",
      "[2023-07-21 11:14:44,827 27580:140704357856832][log.py:54 todd.CustomEpochBasedTrainer.custom_epoch_based_trainer before_run_epoch] INFO: Epoch [3/3]\n",
      "[2023-07-21 11:14:44,830 27580:140704357856832][log.py:48 todd.CustomEpochBasedTrainer.custom_epoch_based_trainer after_run_iter] INFO: Iter [70/102] loss=0.110 weight=2.003 batch={'x': tensor([33, 55]), 'y': tensor([ 66, 110])}\n",
      "[2023-07-21 11:14:44,834 27580:140704357856832][log.py:48 todd.CustomEpochBasedTrainer.custom_epoch_based_trainer after_run_iter] INFO: Iter [75/102] loss=0.028 weight=1.997 batch={'x': tensor([18,  4]), 'y': tensor([36,  8])}\n",
      "[2023-07-21 11:14:44,838 27580:140704357856832][log.py:48 todd.CustomEpochBasedTrainer.custom_epoch_based_trainer after_run_iter] INFO: Iter [80/102] loss=6.199 weight=1.783 batch={'x': tensor([ 7, 50]), 'y': tensor([ 14, 100])}\n",
      "[2023-07-21 11:14:44,842 27580:140704357856832][log.py:48 todd.CustomEpochBasedTrainer.custom_epoch_based_trainer after_run_iter] INFO: Iter [85/102] loss=3.154 weight=1.928 batch={'x': tensor([23, 64]), 'y': tensor([ 46, 128])}\n",
      "[2023-07-21 11:14:44,845 27580:140704357856832][log.py:48 todd.CustomEpochBasedTrainer.custom_epoch_based_trainer after_run_iter] INFO: Iter [90/102] loss=5.925 weight=1.850 batch={'x': tensor([37, 42]), 'y': tensor([74, 84])}\n",
      "[2023-07-21 11:14:44,848 27580:140704357856832][log.py:48 todd.CustomEpochBasedTrainer.custom_epoch_based_trainer after_run_iter] INFO: Iter [95/102] loss=3.284 weight=1.908 batch={'x': tensor([ 9, 62]), 'y': tensor([ 18, 124])}\n",
      "[2023-07-21 11:14:44,853 27580:140704357856832][log.py:48 todd.CustomEpochBasedTrainer.custom_epoch_based_trainer after_run_iter] INFO: Iter [100/102] loss=8.603 weight=2.233 batch={'x': tensor([49, 25]), 'y': tensor([98, 50])}\n",
      "[2023-07-21 11:14:44,856 27580:140704357856832][checkpoint.py:59 todd.CustomEpochBasedTrainer.custom_epoch_based_trainer _save] INFO: Saving state dict to /var/folders/v_/1kkfntxs5z74_rwvy1f3_mp80000gn/T/tmpw2_cbc5g/custom_epoch_based_trainer/checkpoints/epoch_3\n",
      "[2023-07-21 11:14:44,920 27580:140704357856832][checkpoint.py:59 todd.CustomEpochBasedTrainer.custom_epoch_based_trainer _save] INFO: Saving state dict to /var/folders/v_/1kkfntxs5z74_rwvy1f3_mp80000gn/T/tmpw2_cbc5g/custom_epoch_based_trainer/checkpoints/latest\n"
     ]
    },
    {
     "name": "stdout",
     "output_type": "stream",
     "text": [
      "\n",
      "--------------------\n",
      "\n"
     ]
    },
    {
     "name": "stderr",
     "output_type": "stream",
     "text": [
      "[2023-07-21 11:14:45,325 27580:140704357856832][checkpoint.py:44 todd.CustomEpochBasedTrainer.custom_epoch_based_trainer connect] INFO: Loading from /var/folders/v_/1kkfntxs5z74_rwvy1f3_mp80000gn/T/tmpw2_cbc5g/custom_epoch_based_trainer/checkpoints/epoch_2\n",
      "\u001b[2m[2023-07-21 11:14:45,328 27580:140704357856832][runners.py:61 todd.CustomEpochBasedTrainer.custom_epoch_based_trainer __init__] DEBUG: Rank 0 initialized by bytedance@C02G870SMD6R\u001b[m\n",
      "[2023-07-21 11:14:45,329 27580:140704357856832][log.py:54 todd.CustomEpochBasedTrainer.custom_epoch_based_trainer before_run_epoch] INFO: Epoch [3/3]\n",
      "[2023-07-21 11:14:45,333 27580:140704357856832][log.py:48 todd.CustomEpochBasedTrainer.custom_epoch_based_trainer after_run_iter] INFO: Iter [70/102] loss=8.759 weight=2.192 batch={'x': tensor([32, 59]), 'y': tensor([ 64, 118])}\n",
      "[2023-07-21 11:14:45,336 27580:140704357856832][log.py:48 todd.CustomEpochBasedTrainer.custom_epoch_based_trainer after_run_iter] INFO: Iter [75/102] loss=6.503 weight=2.128 batch={'x': tensor([67, 35]), 'y': tensor([134,  70])}\n",
      "[2023-07-21 11:14:45,339 27580:140704357856832][log.py:48 todd.CustomEpochBasedTrainer.custom_epoch_based_trainer after_run_iter] INFO: Iter [80/102] loss=6.562 weight=2.105 batch={'x': tensor([62, 63]), 'y': tensor([124, 126])}\n",
      "[2023-07-21 11:14:45,342 27580:140704357856832][log.py:48 todd.CustomEpochBasedTrainer.custom_epoch_based_trainer after_run_iter] INFO: Iter [85/102] loss=1.733 weight=2.158 batch={'x': tensor([ 2, 20]), 'y': tensor([ 4, 40])}\n",
      "[2023-07-21 11:14:45,345 27580:140704357856832][log.py:48 todd.CustomEpochBasedTrainer.custom_epoch_based_trainer after_run_iter] INFO: Iter [90/102] loss=3.720 weight=2.120 batch={'x': tensor([ 1, 61]), 'y': tensor([  2, 122])}\n",
      "[2023-07-21 11:14:45,349 27580:140704357856832][log.py:48 todd.CustomEpochBasedTrainer.custom_epoch_based_trainer after_run_iter] INFO: Iter [95/102] loss=3.465 weight=2.055 batch={'x': tensor([60, 66]), 'y': tensor([120, 132])}\n",
      "[2023-07-21 11:14:45,352 27580:140704357856832][log.py:48 todd.CustomEpochBasedTrainer.custom_epoch_based_trainer after_run_iter] INFO: Iter [100/102] loss=4.526 weight=1.823 batch={'x': tensor([13, 38]), 'y': tensor([26, 76])}\n",
      "[2023-07-21 11:14:45,354 27580:140704357856832][checkpoint.py:59 todd.CustomEpochBasedTrainer.custom_epoch_based_trainer _save] INFO: Saving state dict to /var/folders/v_/1kkfntxs5z74_rwvy1f3_mp80000gn/T/tmpw2_cbc5g/custom_epoch_based_trainer/checkpoints/epoch_3\n",
      "[2023-07-21 11:14:45,358 27580:140704357856832][checkpoint.py:59 todd.CustomEpochBasedTrainer.custom_epoch_based_trainer _save] INFO: Saving state dict to /var/folders/v_/1kkfntxs5z74_rwvy1f3_mp80000gn/T/tmpw2_cbc5g/custom_epoch_based_trainer/checkpoints/latest\n"
     ]
    }
   ],
   "source": [
    "with tempfile.TemporaryDirectory() as work_dirs:\n",
    "    runner: CustomEpochBasedTrainer = todd.RunnerRegistry.build(\n",
    "        checkpoint_load_from_callback_demo, \n",
    "        work_dir=dict(root=work_dirs),\n",
    "    )\n",
    "    runner.run()\n",
    "\n",
    "    !echo\n",
    "    !echo {'-' * 20}\n",
    "    !echo\n",
    "\n",
    "    runner: CustomEpochBasedTrainer = todd.RunnerRegistry.build(\n",
    "        checkpoint_load_from_callback_demo, \n",
    "        work_dir=dict(root=work_dirs),\n",
    "        load_from=os.path.join(work_dirs, 'custom_epoch_based_trainer', 'checkpoints', 'epoch_2')\n",
    "    )\n",
    "    runner.run()"
   ]
  },
  {
   "cell_type": "markdown",
   "metadata": {},
   "source": [
    "### Monitor"
   ]
  },
  {
   "cell_type": "code",
   "execution_count": 35,
   "metadata": {},
   "outputs": [],
   "source": [
    "class CustomError(RuntimeError):\n",
    "    pass"
   ]
  },
  {
   "cell_type": "code",
   "execution_count": 36,
   "metadata": {},
   "outputs": [],
   "source": [
    "class FaultyRunnerMixin(todd.runners.BaseRunner):\n",
    "\n",
    "    def _run_iter(self, *args, **kwargs) -> NoReturn:\n",
    "        raise CustomError('faulty runner')"
   ]
  },
  {
   "cell_type": "code",
   "execution_count": 37,
   "metadata": {},
   "outputs": [],
   "source": [
    "@todd.RunnerRegistry.register()\n",
    "class FaultyValidator(FaultyRunnerMixin, todd.runners.Validator):\n",
    "    pass"
   ]
  },
  {
   "cell_type": "code",
   "execution_count": 38,
   "metadata": {},
   "outputs": [],
   "source": [
    "@todd.RunnerRegistry.register()\n",
    "class FaultyIterBasedTrainer(FaultyRunnerMixin, todd.runners.IterBasedTrainer):\n",
    "    pass"
   ]
  },
  {
   "cell_type": "code",
   "execution_count": 39,
   "metadata": {},
   "outputs": [],
   "source": [
    "@todd.RunnerRegistry.register()\n",
    "class FaultyEpochBasedTrainer(\n",
    "    FaultyRunnerMixin,\n",
    "    todd.runners.EpochBasedTrainer,\n",
    "):\n",
    "    pass"
   ]
  },
  {
   "cell_type": "code",
   "execution_count": 40,
   "metadata": {},
   "outputs": [],
   "source": [
    "monitor_callback_demo = validator_demo.copy()\n",
    "monitor_callback_demo.type = 'FaultyValidator'\n",
    "monitor_callback = todd.Config(type='MonitorCallback')\n",
    "monitor_callback_demo.callbacks = [monitor_callback, log_callback]"
   ]
  },
  {
   "cell_type": "code",
   "execution_count": 41,
   "metadata": {},
   "outputs": [
    {
     "name": "stderr",
     "output_type": "stream",
     "text": [
      "\u001b[2m[2023-07-21 11:14:45,431 27580:140704357856832][runners.py:61 todd.FaultyValidator.custom_validator __init__] DEBUG: Rank 0 initialized by bytedance@C02G870SMD6R\u001b[m\n",
      "\u001b[1;31m[2023-07-21 11:14:45,433 27580:140704357856832][monitor.py:28 todd.FaultyValidator.custom_validator __exit__] ERROR: Unable to run iter_=1\n",
      "batch={'x': tensor([1]), 'y': tensor([2])}\n",
      "memo={'dataloader': <torch.utils.data.dataloader.DataLoader object at 0x15760d4d0>}\n",
      "Traceback (most recent call last):\n",
      "  File \"/Users/bytedance/.local/share/virtualenvs/todd-ARrcnwyq/lib/python3.11/site-packages/todd/runners/runners.py\", line 200, in _run\n",
      "    memo = self._run_iter(batch, memo)\n",
      "           ^^^^^^^^^^^^^^^^^^^^^^^^^^^\n",
      "  File \"/var/folders/v_/1kkfntxs5z74_rwvy1f3_mp80000gn/T/ipykernel_27580/2137902126.py\", line 4, in _run_iter\n",
      "    raise CustomError('faulty runner')\n",
      "CustomError: faulty runner\u001b[m\n"
     ]
    },
    {
     "name": "stdout",
     "output_type": "stream",
     "text": [
      "\n",
      "[2023-07-21 11:14:45,431 27580:140704357856832][runners.py:61 todd.FaultyValidator.custom_validator __init__] DEBUG: Rank 0 initialized by bytedance@C02G870SMD6R\n",
      "[2023-07-21 11:14:45,433 27580:140704357856832][monitor.py:28 todd.FaultyValidator.custom_validator __exit__] ERROR: Unable to run iter_=1\n",
      "batch={'x': tensor([1]), 'y': tensor([2])}\n",
      "memo={'dataloader': <torch.utils.data.dataloader.DataLoader object at 0x15760d4d0>}\n",
      "Traceback (most recent call last):\n",
      "  File \"/Users/bytedance/.local/share/virtualenvs/todd-ARrcnwyq/lib/python3.11/site-packages/todd/runners/runners.py\", line 200, in _run\n",
      "    memo = self._run_iter(batch, memo)\n",
      "           ^^^^^^^^^^^^^^^^^^^^^^^^^^^\n",
      "  File \"/var/folders/v_/1kkfntxs5z74_rwvy1f3_mp80000gn/T/ipykernel_27580/2137902126.py\", line 4, in _run_iter\n",
      "    raise CustomError('faulty runner')\n",
      "CustomError: faulty runner\n"
     ]
    }
   ],
   "source": [
    "with tempfile.TemporaryDirectory() as work_dirs:\n",
    "    runner: CustomValidator = todd.RunnerRegistry.build(\n",
    "        monitor_callback_demo, \n",
    "        work_dir=dict(root=work_dirs),\n",
    "    )\n",
    "    try:\n",
    "        runner.run()\n",
    "    except CustomError as e:\n",
    "        pass\n",
    "\n",
    "    !echo\n",
    "    !cat {work_dirs}/custom_validator/*.log"
   ]
  },
  {
   "cell_type": "markdown",
   "metadata": {},
   "source": [
    "### Priorities"
   ]
  },
  {
   "cell_type": "markdown",
   "metadata": {},
   "source": [
    "## Strategies"
   ]
  },
  {
   "cell_type": "code",
   "execution_count": 42,
   "metadata": {},
   "outputs": [],
   "source": [
    "strategy_load_model_from_demo = checkpoint_load_from_callback_demo.copy()"
   ]
  },
  {
   "cell_type": "code",
   "execution_count": 43,
   "metadata": {},
   "outputs": [
    {
     "name": "stderr",
     "output_type": "stream",
     "text": [
      "\u001b[2m[2023-07-21 11:14:45,783 27580:140704357856832][runners.py:61 todd.CustomEpochBasedTrainer.custom_epoch_based_trainer __init__] DEBUG: Rank 0 initialized by bytedance@C02G870SMD6R\u001b[m\n",
      "[2023-07-21 11:14:45,784 27580:140704357856832][log.py:54 todd.CustomEpochBasedTrainer.custom_epoch_based_trainer before_run_epoch] INFO: Epoch [1/3]\n",
      "[2023-07-21 11:14:45,789 27580:140704357856832][log.py:48 todd.CustomEpochBasedTrainer.custom_epoch_based_trainer after_run_iter] INFO: Iter [5/102] loss=32.438 weight=0.702 batch={'x': tensor([ 5, 45]), 'y': tensor([10, 90])}\n",
      "[2023-07-21 11:14:45,792 27580:140704357856832][log.py:48 todd.CustomEpochBasedTrainer.custom_epoch_based_trainer after_run_iter] INFO: Iter [10/102] loss=17.710 weight=1.615 batch={'x': tensor([43, 49]), 'y': tensor([86, 98])}\n",
      "[2023-07-21 11:14:45,796 27580:140704357856832][log.py:48 todd.CustomEpochBasedTrainer.custom_epoch_based_trainer after_run_iter] INFO: Iter [15/102] loss=2.973 weight=2.145 batch={'x': tensor([ 3, 38]), 'y': tensor([ 6, 76])}\n",
      "[2023-07-21 11:14:45,802 27580:140704357856832][log.py:48 todd.CustomEpochBasedTrainer.custom_epoch_based_trainer after_run_iter] INFO: Iter [20/102] loss=0.000 weight=2.000 batch={'x': tensor([29, 48]), 'y': tensor([58, 96])}\n",
      "[2023-07-21 11:14:45,806 27580:140704357856832][log.py:48 todd.CustomEpochBasedTrainer.custom_epoch_based_trainer after_run_iter] INFO: Iter [25/102] loss=1.268 weight=1.902 batch={'x': tensor([ 2, 24]), 'y': tensor([ 4, 48])}\n",
      "[2023-07-21 11:14:45,809 27580:140704357856832][log.py:48 todd.CustomEpochBasedTrainer.custom_epoch_based_trainer after_run_iter] INFO: Iter [30/102] loss=2.559 weight=1.942 batch={'x': tensor([62, 27]), 'y': tensor([124,  54])}\n",
      "[2023-07-21 11:14:45,812 27580:140704357856832][checkpoint.py:59 todd.CustomEpochBasedTrainer.custom_epoch_based_trainer _save] INFO: Saving state dict to /var/folders/v_/1kkfntxs5z74_rwvy1f3_mp80000gn/T/tmp116tf4dw/custom_epoch_based_trainer/checkpoints/epoch_1\n",
      "[2023-07-21 11:14:45,816 27580:140704357856832][log.py:54 todd.CustomEpochBasedTrainer.custom_epoch_based_trainer before_run_epoch] INFO: Epoch [2/3]\n",
      "[2023-07-21 11:14:45,819 27580:140704357856832][log.py:48 todd.CustomEpochBasedTrainer.custom_epoch_based_trainer after_run_iter] INFO: Iter [35/102] loss=0.525 weight=1.975 batch={'x': tensor([ 3, 39]), 'y': tensor([ 6, 78])}\n",
      "[2023-07-21 11:14:45,823 27580:140704357856832][log.py:48 todd.CustomEpochBasedTrainer.custom_epoch_based_trainer after_run_iter] INFO: Iter [40/102] loss=0.397 weight=2.015 batch={'x': tensor([25, 28]), 'y': tensor([50, 56])}\n",
      "[2023-07-21 11:14:45,826 27580:140704357856832][log.py:48 todd.CustomEpochBasedTrainer.custom_epoch_based_trainer after_run_iter] INFO: Iter [45/102] loss=0.169 weight=1.992 batch={'x': tensor([24, 21]), 'y': tensor([48, 42])}\n",
      "[2023-07-21 11:14:45,830 27580:140704357856832][log.py:48 todd.CustomEpochBasedTrainer.custom_epoch_based_trainer after_run_iter] INFO: Iter [50/102] loss=2.365 weight=1.890 batch={'x': tensor([ 6, 37]), 'y': tensor([12, 74])}\n",
      "[2023-07-21 11:14:45,834 27580:140704357856832][log.py:48 todd.CustomEpochBasedTrainer.custom_epoch_based_trainer after_run_iter] INFO: Iter [55/102] loss=10.436 weight=1.827 batch={'x': tensor([62, 59]), 'y': tensor([124, 118])}\n",
      "[2023-07-21 11:14:45,838 27580:140704357856832][log.py:48 todd.CustomEpochBasedTrainer.custom_epoch_based_trainer after_run_iter] INFO: Iter [60/102] loss=3.565 weight=1.922 batch={'x': tensor([36, 56]), 'y': tensor([ 72, 112])}\n",
      "[2023-07-21 11:14:45,844 27580:140704357856832][log.py:48 todd.CustomEpochBasedTrainer.custom_epoch_based_trainer after_run_iter] INFO: Iter [65/102] loss=8.075 weight=2.190 batch={'x': tensor([44, 41]), 'y': tensor([88, 82])}\n",
      "[2023-07-21 11:14:45,847 27580:140704357856832][checkpoint.py:59 todd.CustomEpochBasedTrainer.custom_epoch_based_trainer _save] INFO: Saving state dict to /var/folders/v_/1kkfntxs5z74_rwvy1f3_mp80000gn/T/tmp116tf4dw/custom_epoch_based_trainer/checkpoints/epoch_2\n",
      "[2023-07-21 11:14:45,855 27580:140704357856832][log.py:54 todd.CustomEpochBasedTrainer.custom_epoch_based_trainer before_run_epoch] INFO: Epoch [3/3]\n",
      "[2023-07-21 11:14:45,860 27580:140704357856832][log.py:48 todd.CustomEpochBasedTrainer.custom_epoch_based_trainer after_run_iter] INFO: Iter [70/102] loss=1.351 weight=1.942 batch={'x': tensor([38,  9]), 'y': tensor([76, 18])}\n",
      "[2023-07-21 11:14:45,870 27580:140704357856832][log.py:48 todd.CustomEpochBasedTrainer.custom_epoch_based_trainer after_run_iter] INFO: Iter [75/102] loss=1.462 weight=2.032 batch={'x': tensor([35, 55]), 'y': tensor([ 70, 110])}\n",
      "[2023-07-21 11:14:45,885 27580:140704357856832][log.py:48 todd.CustomEpochBasedTrainer.custom_epoch_based_trainer after_run_iter] INFO: Iter [80/102] loss=8.342 weight=2.177 batch={'x': tensor([54, 40]), 'y': tensor([108,  80])}\n",
      "[2023-07-21 11:14:45,893 27580:140704357856832][log.py:48 todd.CustomEpochBasedTrainer.custom_epoch_based_trainer after_run_iter] INFO: Iter [85/102] loss=1.763 weight=1.925 batch={'x': tensor([25, 22]), 'y': tensor([50, 44])}\n",
      "[2023-07-21 11:14:45,897 27580:140704357856832][log.py:48 todd.CustomEpochBasedTrainer.custom_epoch_based_trainer after_run_iter] INFO: Iter [90/102] loss=2.213 weight=1.925 batch={'x': tensor([ 1, 58]), 'y': tensor([  2, 116])}\n",
      "[2023-07-21 11:14:45,905 27580:140704357856832][log.py:48 todd.CustomEpochBasedTrainer.custom_epoch_based_trainer after_run_iter] INFO: Iter [95/102] loss=5.220 weight=2.120 batch={'x': tensor([59, 28]), 'y': tensor([118,  56])}\n",
      "[2023-07-21 11:14:45,910 27580:140704357856832][log.py:48 todd.CustomEpochBasedTrainer.custom_epoch_based_trainer after_run_iter] INFO: Iter [100/102] loss=0.971 weight=2.052 batch={'x': tensor([23, 14]), 'y': tensor([46, 28])}\n",
      "[2023-07-21 11:14:45,914 27580:140704357856832][checkpoint.py:59 todd.CustomEpochBasedTrainer.custom_epoch_based_trainer _save] INFO: Saving state dict to /var/folders/v_/1kkfntxs5z74_rwvy1f3_mp80000gn/T/tmp116tf4dw/custom_epoch_based_trainer/checkpoints/epoch_3\n",
      "[2023-07-21 11:14:45,921 27580:140704357856832][checkpoint.py:59 todd.CustomEpochBasedTrainer.custom_epoch_based_trainer _save] INFO: Saving state dict to /var/folders/v_/1kkfntxs5z74_rwvy1f3_mp80000gn/T/tmp116tf4dw/custom_epoch_based_trainer/checkpoints/latest\n"
     ]
    },
    {
     "name": "stdout",
     "output_type": "stream",
     "text": [
      "\n",
      "--------------------\n",
      "\n"
     ]
    },
    {
     "name": "stderr",
     "output_type": "stream",
     "text": [
      "\u001b[2m[2023-07-21 11:14:46,385 27580:140704357856832][runners.py:61 todd.CustomEpochBasedTrainer.custom_epoch_based_trainer __init__] DEBUG: Rank 0 initialized by bytedance@C02G870SMD6R\u001b[m\n",
      "[2023-07-21 11:14:46,387 27580:140704357856832][base.py:60 todd.CustomEpochBasedTrainer.custom_epoch_based_trainer load_model_from] INFO: Loading model from /var/folders/v_/1kkfntxs5z74_rwvy1f3_mp80000gn/T/tmp116tf4dw/custom_epoch_based_trainer/checkpoints/epoch_2/model.pth\n",
      "[2023-07-21 11:14:46,389 27580:140704357856832][log.py:54 todd.CustomEpochBasedTrainer.custom_epoch_based_trainer before_run_epoch] INFO: Epoch [1/3]\n",
      "[2023-07-21 11:14:46,393 27580:140704357856832][log.py:48 todd.CustomEpochBasedTrainer.custom_epoch_based_trainer after_run_iter] INFO: Iter [5/102] loss=7.525 weight=2.175 batch={'x': tensor([26, 60]), 'y': tensor([ 52, 120])}\n",
      "[2023-07-21 11:14:46,396 27580:140704357856832][log.py:48 todd.CustomEpochBasedTrainer.custom_epoch_based_trainer after_run_iter] INFO: Iter [10/102] loss=11.636 weight=2.217 batch={'x': tensor([57, 50]), 'y': tensor([114, 100])}\n",
      "[2023-07-21 11:14:46,400 27580:140704357856832][log.py:48 todd.CustomEpochBasedTrainer.custom_epoch_based_trainer after_run_iter] INFO: Iter [15/102] loss=7.286 weight=1.832 batch={'x': tensor([32, 55]), 'y': tensor([ 64, 110])}\n",
      "[2023-07-21 11:14:46,406 27580:140704357856832][log.py:48 todd.CustomEpochBasedTrainer.custom_epoch_based_trainer after_run_iter] INFO: Iter [20/102] loss=3.631 weight=2.207 batch={'x': tensor([15, 20]), 'y': tensor([30, 40])}\n",
      "[2023-07-21 11:14:46,409 27580:140704357856832][log.py:48 todd.CustomEpochBasedTrainer.custom_epoch_based_trainer after_run_iter] INFO: Iter [25/102] loss=2.356 weight=1.927 batch={'x': tensor([24, 41]), 'y': tensor([48, 82])}\n",
      "[2023-07-21 11:14:46,413 27580:140704357856832][log.py:48 todd.CustomEpochBasedTrainer.custom_epoch_based_trainer after_run_iter] INFO: Iter [30/102] loss=5.270 weight=1.830 batch={'x': tensor([40, 22]), 'y': tensor([80, 44])}\n",
      "[2023-07-21 11:14:46,416 27580:140704357856832][checkpoint.py:59 todd.CustomEpochBasedTrainer.custom_epoch_based_trainer _save] INFO: Saving state dict to /var/folders/v_/1kkfntxs5z74_rwvy1f3_mp80000gn/T/tmp116tf4dw/custom_epoch_based_trainer/checkpoints/epoch_1\n",
      "[2023-07-21 11:14:46,421 27580:140704357856832][log.py:54 todd.CustomEpochBasedTrainer.custom_epoch_based_trainer before_run_epoch] INFO: Epoch [2/3]\n",
      "[2023-07-21 11:14:46,428 27580:140704357856832][log.py:48 todd.CustomEpochBasedTrainer.custom_epoch_based_trainer after_run_iter] INFO: Iter [35/102] loss=1.251 weight=2.032 batch={'x': tensor([30, 47]), 'y': tensor([60, 94])}\n",
      "[2023-07-21 11:14:46,436 27580:140704357856832][log.py:48 todd.CustomEpochBasedTrainer.custom_epoch_based_trainer after_run_iter] INFO: Iter [40/102] loss=0.637 weight=2.015 batch={'x': tensor([43, 42]), 'y': tensor([86, 84])}\n",
      "[2023-07-21 11:14:46,443 27580:140704357856832][log.py:48 todd.CustomEpochBasedTrainer.custom_epoch_based_trainer after_run_iter] INFO: Iter [45/102] loss=1.998 weight=1.957 batch={'x': tensor([53, 41]), 'y': tensor([106,  82])}\n",
      "[2023-07-21 11:14:46,457 27580:140704357856832][log.py:48 todd.CustomEpochBasedTrainer.custom_epoch_based_trainer after_run_iter] INFO: Iter [50/102] loss=6.906 weight=1.837 batch={'x': tensor([40, 45]), 'y': tensor([80, 90])}\n",
      "[2023-07-21 11:14:46,462 27580:140704357856832][log.py:48 todd.CustomEpochBasedTrainer.custom_epoch_based_trainer after_run_iter] INFO: Iter [55/102] loss=0.735 weight=1.982 batch={'x': tensor([56, 28]), 'y': tensor([112,  56])}\n",
      "[2023-07-21 11:14:46,467 27580:140704357856832][log.py:48 todd.CustomEpochBasedTrainer.custom_epoch_based_trainer after_run_iter] INFO: Iter [60/102] loss=3.889 weight=2.127 batch={'x': tensor([12, 49]), 'y': tensor([24, 98])}\n",
      "[2023-07-21 11:14:46,473 27580:140704357856832][log.py:48 todd.CustomEpochBasedTrainer.custom_epoch_based_trainer after_run_iter] INFO: Iter [65/102] loss=0.024 weight=2.002 batch={'x': tensor([17,  2]), 'y': tensor([34,  4])}\n",
      "[2023-07-21 11:14:46,476 27580:140704357856832][checkpoint.py:59 todd.CustomEpochBasedTrainer.custom_epoch_based_trainer _save] INFO: Saving state dict to /var/folders/v_/1kkfntxs5z74_rwvy1f3_mp80000gn/T/tmp116tf4dw/custom_epoch_based_trainer/checkpoints/epoch_2\n",
      "[2023-07-21 11:14:46,479 27580:140704357856832][log.py:54 todd.CustomEpochBasedTrainer.custom_epoch_based_trainer before_run_epoch] INFO: Epoch [3/3]\n",
      "[2023-07-21 11:14:46,483 27580:140704357856832][log.py:48 todd.CustomEpochBasedTrainer.custom_epoch_based_trainer after_run_iter] INFO: Iter [70/102] loss=2.227 weight=2.082 batch={'x': tensor([39, 15]), 'y': tensor([78, 30])}\n",
      "[2023-07-21 11:14:46,488 27580:140704357856832][log.py:48 todd.CustomEpochBasedTrainer.custom_epoch_based_trainer after_run_iter] INFO: Iter [75/102] loss=7.975 weight=2.275 batch={'x': tensor([ 2, 56]), 'y': tensor([  4, 112])}\n",
      "[2023-07-21 11:14:46,493 27580:140704357856832][log.py:48 todd.CustomEpochBasedTrainer.custom_epoch_based_trainer after_run_iter] INFO: Iter [80/102] loss=4.200 weight=1.912 batch={'x': tensor([49, 47]), 'y': tensor([98, 94])}\n",
      "[2023-07-21 11:14:46,498 27580:140704357856832][log.py:48 todd.CustomEpochBasedTrainer.custom_epoch_based_trainer after_run_iter] INFO: Iter [85/102] loss=6.153 weight=1.885 batch={'x': tensor([55, 52]), 'y': tensor([110, 104])}\n",
      "[2023-07-21 11:14:46,504 27580:140704357856832][log.py:48 todd.CustomEpochBasedTrainer.custom_epoch_based_trainer after_run_iter] INFO: Iter [90/102] loss=1.365 weight=1.935 batch={'x': tensor([33,  9]), 'y': tensor([66, 18])}\n",
      "[2023-07-21 11:14:46,509 27580:140704357856832][log.py:48 todd.CustomEpochBasedTrainer.custom_epoch_based_trainer after_run_iter] INFO: Iter [95/102] loss=0.112 weight=2.005 batch={'x': tensor([ 1, 44]), 'y': tensor([ 2, 88])}\n",
      "[2023-07-21 11:14:46,514 27580:140704357856832][log.py:48 todd.CustomEpochBasedTrainer.custom_epoch_based_trainer after_run_iter] INFO: Iter [100/102] loss=0.356 weight=1.987 batch={'x': tensor([38, 19]), 'y': tensor([76, 38])}\n",
      "[2023-07-21 11:14:46,517 27580:140704357856832][checkpoint.py:59 todd.CustomEpochBasedTrainer.custom_epoch_based_trainer _save] INFO: Saving state dict to /var/folders/v_/1kkfntxs5z74_rwvy1f3_mp80000gn/T/tmp116tf4dw/custom_epoch_based_trainer/checkpoints/epoch_3\n",
      "[2023-07-21 11:14:46,521 27580:140704357856832][checkpoint.py:59 todd.CustomEpochBasedTrainer.custom_epoch_based_trainer _save] INFO: Saving state dict to /var/folders/v_/1kkfntxs5z74_rwvy1f3_mp80000gn/T/tmp116tf4dw/custom_epoch_based_trainer/checkpoints/latest\n"
     ]
    }
   ],
   "source": [
    "with tempfile.TemporaryDirectory() as work_dirs:\n",
    "    runner: CustomEpochBasedTrainer = todd.RunnerRegistry.build(\n",
    "        strategy_load_model_from_demo, \n",
    "        work_dir=dict(root=work_dirs),\n",
    "    )\n",
    "    runner.run()\n",
    "\n",
    "    !echo\n",
    "    !echo {'-' * 20}\n",
    "    !echo\n",
    "\n",
    "    runner: CustomEpochBasedTrainer = todd.RunnerRegistry.build(\n",
    "        strategy_load_model_from_demo, \n",
    "        work_dir=dict(root=work_dirs),\n",
    "    )\n",
    "    runner.strategy.load_model_from(os.path.join(work_dirs, 'custom_epoch_based_trainer', 'checkpoints', 'epoch_2', 'model.pth'))\n",
    "    runner.run()"
   ]
  },
  {
   "attachments": {},
   "cell_type": "markdown",
   "metadata": {},
   "source": [
    "## Dry Run"
   ]
  },
  {
   "cell_type": "code",
   "execution_count": 44,
   "metadata": {},
   "outputs": [],
   "source": [
    "todd.Store.DRY_RUN = True"
   ]
  }
 ],
 "metadata": {
  "kernelspec": {
   "display_name": "todd",
   "language": "python",
   "name": "python3"
  },
  "language_info": {
   "codemirror_mode": {
    "name": "ipython",
    "version": 3
   },
   "file_extension": ".py",
   "mimetype": "text/x-python",
   "name": "python",
   "nbconvert_exporter": "python",
   "pygments_lexer": "ipython3",
   "version": "3.11.3"
  },
  "orig_nbformat": 4,
  "vscode": {
   "interpreter": {
    "hash": "0fe19504897982c0d86de0bd38ea30a541b47032e25039ac5ae6cd1de5b1a414"
   }
  }
 },
 "nbformat": 4,
 "nbformat_minor": 2
}
